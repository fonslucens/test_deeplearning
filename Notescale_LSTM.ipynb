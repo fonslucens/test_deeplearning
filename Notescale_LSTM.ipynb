{
  "nbformat": 4,
  "nbformat_minor": 0,
  "metadata": {
    "colab": {
      "name": "Notescale_LSTM.ipynb",
      "provenance": [],
      "collapsed_sections": [],
      "authorship_tag": "ABX9TyOf2BrLtaJC27XiY/s/BJ/c",
      "include_colab_link": true
    },
    "kernelspec": {
      "name": "python3",
      "display_name": "Python 3"
    },
    "language_info": {
      "name": "python"
    }
  },
  "cells": [
    {
      "cell_type": "markdown",
      "metadata": {
        "id": "view-in-github",
        "colab_type": "text"
      },
      "source": [
        "<a href=\"https://colab.research.google.com/github/fonslucens/test_deeplearning/blob/master/Notescale_LSTM.ipynb\" target=\"_parent\"><img src=\"https://colab.research.google.com/assets/colab-badge.svg\" alt=\"Open In Colab\"/></a>"
      ]
    },
    {
      "cell_type": "code",
      "metadata": {
        "id": "l_IFEwLqlJDd"
      },
      "source": [
        "note_seq = ['g8', 'e8', 'e4', 'f8', 'd8', 'd4', 'c8', 'd8', 'e8', 'f8', 'g8', 'g8', 'g4',\n",
        "       'g8', 'e8', 'e8', 'e8', 'f8', 'd8', 'd4', 'c8', 'e8', 'g8', 'g8', 'e8', 'e8', 'e4',\n",
        "       'd8', 'd8', 'd8', 'd8', 'd8', 'e8', 'f4', 'e8', 'e8', 'e8', 'e8', 'e8', 'f8', 'g4',\n",
        "       'g8', 'e8', 'e4', 'f8', 'd8', 'd4', 'c8', 'e8', 'g8', 'g8', 'e8', 'e8', 'e4']"
      ],
      "execution_count": 1,
      "outputs": []
    },
    {
      "cell_type": "code",
      "metadata": {
        "id": "EPNufLQRn1IH",
        "colab": {
          "base_uri": "https://localhost:8080/"
        },
        "outputId": "c7c4efa0-3468-4ddc-9014-d567e6ac7dea"
      },
      "source": [
        "note_seq[0:4], note_seq[1:5], note_seq[2:6]"
      ],
      "execution_count": 2,
      "outputs": [
        {
          "output_type": "execute_result",
          "data": {
            "text/plain": [
              "(['g8', 'e8', 'e4', 'f8'], ['e8', 'e4', 'f8', 'd8'], ['e4', 'f8', 'd8', 'd4'])"
            ]
          },
          "metadata": {
            "tags": []
          },
          "execution_count": 2
        }
      ]
    },
    {
      "cell_type": "code",
      "metadata": {
        "id": "k_0CBe0wlgXo"
      },
      "source": [
        "code2idx = {'c4':0, 'd4':1, 'e4':2, 'f4':3, 'g4':4, 'a4':5, 'b4':6,\n",
        "            'c8':7, 'd8':8, 'e8':9, 'f8':10, 'g8':11, 'a8':12, 'b8':13}"
      ],
      "execution_count": 3,
      "outputs": []
    },
    {
      "cell_type": "code",
      "metadata": {
        "colab": {
          "base_uri": "https://localhost:8080/"
        },
        "id": "UUey5eEMmTUk",
        "outputId": "9f20a61f-dbaa-4efc-908c-e07f87b54275"
      },
      "source": [
        "len(note_seq), range(len(note_seq)-4) # [4,8,12,....]"
      ],
      "execution_count": 4,
      "outputs": [
        {
          "output_type": "execute_result",
          "data": {
            "text/plain": [
              "(54, range(0, 50))"
            ]
          },
          "metadata": {
            "tags": []
          },
          "execution_count": 4
        }
      ]
    },
    {
      "cell_type": "code",
      "metadata": {
        "colab": {
          "base_uri": "https://localhost:8080/"
        },
        "id": "VmI-iyeEUyUP",
        "outputId": "09f89d9c-c90d-46f5-e7f3-0a04b12412d1"
      },
      "source": [
        "code2idx['g8']"
      ],
      "execution_count": 5,
      "outputs": [
        {
          "output_type": "execute_result",
          "data": {
            "text/plain": [
              "11"
            ]
          },
          "metadata": {
            "tags": []
          },
          "execution_count": 5
        }
      ]
    },
    {
      "cell_type": "code",
      "metadata": {
        "colab": {
          "base_uri": "https://localhost:8080/"
        },
        "id": "_hShpUi7lgrG",
        "outputId": "ac48b846-6906-4d88-900c-53db42393b9e"
      },
      "source": [
        "dataset = list()\n",
        "for i in range(len(note_seq)-4) : \n",
        "  subset = note_seq[i:i+4]\n",
        "  items = list()\n",
        "  # print(subset)\n",
        "  for item in subset:\n",
        "    # print(code2idx[item])\n",
        "    items.append(code2idx[item])\n",
        "  # print(items)\n",
        "  dataset.append(items)\n",
        "\n",
        "print(dataset)"
      ],
      "execution_count": 6,
      "outputs": [
        {
          "output_type": "stream",
          "text": [
            "[[11, 9, 2, 10], [9, 2, 10, 8], [2, 10, 8, 1], [10, 8, 1, 7], [8, 1, 7, 8], [1, 7, 8, 9], [7, 8, 9, 10], [8, 9, 10, 11], [9, 10, 11, 11], [10, 11, 11, 4], [11, 11, 4, 11], [11, 4, 11, 9], [4, 11, 9, 9], [11, 9, 9, 9], [9, 9, 9, 10], [9, 9, 10, 8], [9, 10, 8, 1], [10, 8, 1, 7], [8, 1, 7, 9], [1, 7, 9, 11], [7, 9, 11, 11], [9, 11, 11, 9], [11, 11, 9, 9], [11, 9, 9, 2], [9, 9, 2, 8], [9, 2, 8, 8], [2, 8, 8, 8], [8, 8, 8, 8], [8, 8, 8, 8], [8, 8, 8, 9], [8, 8, 9, 3], [8, 9, 3, 9], [9, 3, 9, 9], [3, 9, 9, 9], [9, 9, 9, 9], [9, 9, 9, 9], [9, 9, 9, 10], [9, 9, 10, 4], [9, 10, 4, 11], [10, 4, 11, 9], [4, 11, 9, 2], [11, 9, 2, 10], [9, 2, 10, 8], [2, 10, 8, 1], [10, 8, 1, 7], [8, 1, 7, 9], [1, 7, 9, 11], [7, 9, 11, 11], [9, 11, 11, 9], [11, 11, 9, 9]]\n"
          ],
          "name": "stdout"
        }
      ]
    },
    {
      "cell_type": "code",
      "metadata": {
        "id": "5pQcjTDnV1V5"
      },
      "source": [
        "import numpy as np\n",
        "datasets = np.array(dataset)"
      ],
      "execution_count": 7,
      "outputs": []
    },
    {
      "cell_type": "code",
      "metadata": {
        "id": "IU5-nPwQoxKQ",
        "colab": {
          "base_uri": "https://localhost:8080/"
        },
        "outputId": "b1413893-4f18-4643-b52a-87a9869d5190"
      },
      "source": [
        "x_train = datasets[:,0:3]\n",
        "x_train.shape #x_train"
      ],
      "execution_count": 8,
      "outputs": [
        {
          "output_type": "execute_result",
          "data": {
            "text/plain": [
              "(50, 3)"
            ]
          },
          "metadata": {
            "tags": []
          },
          "execution_count": 8
        }
      ]
    },
    {
      "cell_type": "code",
      "metadata": {
        "colab": {
          "base_uri": "https://localhost:8080/"
        },
        "id": "fhFXJSEbWAM4",
        "outputId": "635cc42e-ca0c-4af9-e56f-76addb609027"
      },
      "source": [
        "y_train = datasets[:,3]\n",
        "y_train.shape #y_train"
      ],
      "execution_count": 9,
      "outputs": [
        {
          "output_type": "execute_result",
          "data": {
            "text/plain": [
              "(50,)"
            ]
          },
          "metadata": {
            "tags": []
          },
          "execution_count": 9
        }
      ]
    },
    {
      "cell_type": "code",
      "metadata": {
        "colab": {
          "base_uri": "https://localhost:8080/"
        },
        "id": "xvmllAHDWV6V",
        "outputId": "cd74822b-d568-4758-a43b-601062936bb5"
      },
      "source": [
        "len(code2idx)"
      ],
      "execution_count": 10,
      "outputs": [
        {
          "output_type": "execute_result",
          "data": {
            "text/plain": [
              "14"
            ]
          },
          "metadata": {
            "tags": []
          },
          "execution_count": 10
        }
      ]
    },
    {
      "cell_type": "code",
      "metadata": {
        "colab": {
          "base_uri": "https://localhost:8080/"
        },
        "id": "fnNSpUyCXPeV",
        "outputId": "b64e49aa-e35b-4075-c8d9-55f2a199cf77"
      },
      "source": [
        "x_train  = x_train /13  #len(code2idx)\n",
        "x_train[3]"
      ],
      "execution_count": 11,
      "outputs": [
        {
          "output_type": "execute_result",
          "data": {
            "text/plain": [
              "array([0.76923077, 0.61538462, 0.07692308])"
            ]
          },
          "metadata": {
            "tags": []
          },
          "execution_count": 11
        }
      ]
    },
    {
      "cell_type": "markdown",
      "metadata": {
        "id": "gaYOHb3GXnNZ"
      },
      "source": [
        "# make model"
      ]
    },
    {
      "cell_type": "code",
      "metadata": {
        "id": "_BCkBt3gXni3"
      },
      "source": [
        "import tensorflow as tf"
      ],
      "execution_count": 12,
      "outputs": []
    },
    {
      "cell_type": "code",
      "metadata": {
        "colab": {
          "base_uri": "https://localhost:8080/"
        },
        "id": "WLWpPMj-eJff",
        "outputId": "f72056a8-4949-4702-fee3-78df5e3d543d"
      },
      "source": [
        "x_train.shape, x_train[2] # --> tensorfloq type(tensor) (50, 3, 1), --> metrix"
      ],
      "execution_count": 17,
      "outputs": [
        {
          "output_type": "execute_result",
          "data": {
            "text/plain": [
              "((50, 3), array([0.15384615, 0.76923077, 0.61538462]))"
            ]
          },
          "metadata": {
            "tags": []
          },
          "execution_count": 17
        }
      ]
    },
    {
      "cell_type": "code",
      "metadata": {
        "colab": {
          "base_uri": "https://localhost:8080/"
        },
        "id": "c8wveeTBeSbL",
        "outputId": "1afc8160-2523-434b-95ad-061272d3bd78"
      },
      "source": [
        "X_train = np.reshape(x_train, (50, 3, 1)) #tensor\n",
        "X_train.shape, X_train[2]"
      ],
      "execution_count": 18,
      "outputs": [
        {
          "output_type": "execute_result",
          "data": {
            "text/plain": [
              "((50, 3, 1), array([[0.15384615],\n",
              "        [0.76923077],\n",
              "        [0.61538462]]))"
            ]
          },
          "metadata": {
            "tags": []
          },
          "execution_count": 18
        }
      ]
    },
    {
      "cell_type": "code",
      "metadata": {
        "colab": {
          "base_uri": "https://localhost:8080/"
        },
        "id": "jZOCiXhEX_eT",
        "outputId": "e4ee00cc-8c43-47d8-9d83-e5ba6a7203ae"
      },
      "source": [
        "model = tf.keras.models.Sequential()\n",
        "\n",
        "model.add(tf.keras.Input(shape=(3,1))) # input layer\n",
        "model.add(tf.keras.layers.LSTM(128)) #hidden layer \n",
        "model.add(tf.keras.layers.Dense(13, activation='softmax')) # output layer\n",
        "\n",
        "model.compile(optimizer='adam', loss='sparse_categorical_crossentropy', metrics=['accuracy']) #gadget"
      ],
      "execution_count": 23,
      "outputs": [
        {
          "output_type": "stream",
          "text": [
            "WARNING:tensorflow:Please add `keras.layers.InputLayer` instead of `keras.Input` to Sequential model. `keras.Input` is intended to be used by Functional model.\n"
          ],
          "name": "stdout"
        }
      ]
    },
    {
      "cell_type": "code",
      "metadata": {
        "colab": {
          "base_uri": "https://localhost:8080/"
        },
        "id": "E3AWfEihhpCE",
        "outputId": "4cdbdcd0-3308-425c-bb03-f1dc493b4a28"
      },
      "source": [
        "hist = model.fit(X_train, y_train, epochs=500, batch_size=10)  # 50 / 5 = 10"
      ],
      "execution_count": 34,
      "outputs": [
        {
          "output_type": "stream",
          "text": [
            "Epoch 1/500\n",
            "5/5 [==============================] - 0s 5ms/step - loss: 0.7930 - accuracy: 0.6800\n",
            "Epoch 2/500\n",
            "5/5 [==============================] - 0s 5ms/step - loss: 0.7931 - accuracy: 0.6800\n",
            "Epoch 3/500\n",
            "5/5 [==============================] - 0s 5ms/step - loss: 0.7833 - accuracy: 0.6600\n",
            "Epoch 4/500\n",
            "5/5 [==============================] - 0s 5ms/step - loss: 0.7783 - accuracy: 0.6800\n",
            "Epoch 5/500\n",
            "5/5 [==============================] - 0s 5ms/step - loss: 0.7956 - accuracy: 0.6600\n",
            "Epoch 6/500\n",
            "5/5 [==============================] - 0s 6ms/step - loss: 0.7819 - accuracy: 0.6600\n",
            "Epoch 7/500\n",
            "5/5 [==============================] - 0s 5ms/step - loss: 0.7834 - accuracy: 0.6400\n",
            "Epoch 8/500\n",
            "5/5 [==============================] - 0s 5ms/step - loss: 0.7749 - accuracy: 0.7000\n",
            "Epoch 9/500\n",
            "5/5 [==============================] - 0s 6ms/step - loss: 0.7794 - accuracy: 0.7000\n",
            "Epoch 10/500\n",
            "5/5 [==============================] - 0s 6ms/step - loss: 0.8006 - accuracy: 0.6600\n",
            "Epoch 11/500\n",
            "5/5 [==============================] - 0s 5ms/step - loss: 0.7854 - accuracy: 0.6600\n",
            "Epoch 12/500\n",
            "5/5 [==============================] - 0s 5ms/step - loss: 0.7821 - accuracy: 0.7000\n",
            "Epoch 13/500\n",
            "5/5 [==============================] - 0s 5ms/step - loss: 0.7785 - accuracy: 0.6800\n",
            "Epoch 14/500\n",
            "5/5 [==============================] - 0s 6ms/step - loss: 0.7808 - accuracy: 0.6800\n",
            "Epoch 15/500\n",
            "5/5 [==============================] - 0s 5ms/step - loss: 0.7716 - accuracy: 0.7000\n",
            "Epoch 16/500\n",
            "5/5 [==============================] - 0s 6ms/step - loss: 0.7890 - accuracy: 0.6400\n",
            "Epoch 17/500\n",
            "5/5 [==============================] - 0s 6ms/step - loss: 0.7685 - accuracy: 0.6800\n",
            "Epoch 18/500\n",
            "5/5 [==============================] - 0s 5ms/step - loss: 0.7748 - accuracy: 0.6800\n",
            "Epoch 19/500\n",
            "5/5 [==============================] - 0s 5ms/step - loss: 0.7694 - accuracy: 0.7000\n",
            "Epoch 20/500\n",
            "5/5 [==============================] - 0s 5ms/step - loss: 0.7944 - accuracy: 0.6800\n",
            "Epoch 21/500\n",
            "5/5 [==============================] - 0s 5ms/step - loss: 0.7746 - accuracy: 0.6800\n",
            "Epoch 22/500\n",
            "5/5 [==============================] - 0s 6ms/step - loss: 0.7906 - accuracy: 0.6800\n",
            "Epoch 23/500\n",
            "5/5 [==============================] - 0s 5ms/step - loss: 0.7722 - accuracy: 0.7000\n",
            "Epoch 24/500\n",
            "5/5 [==============================] - 0s 5ms/step - loss: 0.7795 - accuracy: 0.6600\n",
            "Epoch 25/500\n",
            "5/5 [==============================] - 0s 5ms/step - loss: 0.7680 - accuracy: 0.7000\n",
            "Epoch 26/500\n",
            "5/5 [==============================] - 0s 6ms/step - loss: 0.7754 - accuracy: 0.7000\n",
            "Epoch 27/500\n",
            "5/5 [==============================] - 0s 6ms/step - loss: 0.7611 - accuracy: 0.6600\n",
            "Epoch 28/500\n",
            "5/5 [==============================] - 0s 5ms/step - loss: 0.7651 - accuracy: 0.6800\n",
            "Epoch 29/500\n",
            "5/5 [==============================] - 0s 5ms/step - loss: 0.7674 - accuracy: 0.7000\n",
            "Epoch 30/500\n",
            "5/5 [==============================] - 0s 5ms/step - loss: 0.7649 - accuracy: 0.7000\n",
            "Epoch 31/500\n",
            "5/5 [==============================] - 0s 5ms/step - loss: 0.7620 - accuracy: 0.7000\n",
            "Epoch 32/500\n",
            "5/5 [==============================] - 0s 5ms/step - loss: 0.7593 - accuracy: 0.6800\n",
            "Epoch 33/500\n",
            "5/5 [==============================] - 0s 6ms/step - loss: 0.7583 - accuracy: 0.7000\n",
            "Epoch 34/500\n",
            "5/5 [==============================] - 0s 6ms/step - loss: 0.7579 - accuracy: 0.6800\n",
            "Epoch 35/500\n",
            "5/5 [==============================] - 0s 6ms/step - loss: 0.7578 - accuracy: 0.7000\n",
            "Epoch 36/500\n",
            "5/5 [==============================] - 0s 5ms/step - loss: 0.7738 - accuracy: 0.6600\n",
            "Epoch 37/500\n",
            "5/5 [==============================] - 0s 5ms/step - loss: 0.7605 - accuracy: 0.7000\n",
            "Epoch 38/500\n",
            "5/5 [==============================] - 0s 6ms/step - loss: 0.7693 - accuracy: 0.6800\n",
            "Epoch 39/500\n",
            "5/5 [==============================] - 0s 5ms/step - loss: 0.7627 - accuracy: 0.7000\n",
            "Epoch 40/500\n",
            "5/5 [==============================] - 0s 6ms/step - loss: 0.7548 - accuracy: 0.6600\n",
            "Epoch 41/500\n",
            "5/5 [==============================] - 0s 5ms/step - loss: 0.7543 - accuracy: 0.6800\n",
            "Epoch 42/500\n",
            "5/5 [==============================] - 0s 5ms/step - loss: 0.7667 - accuracy: 0.6600\n",
            "Epoch 43/500\n",
            "5/5 [==============================] - 0s 5ms/step - loss: 0.7561 - accuracy: 0.6800\n",
            "Epoch 44/500\n",
            "5/5 [==============================] - 0s 6ms/step - loss: 0.7574 - accuracy: 0.6800\n",
            "Epoch 45/500\n",
            "5/5 [==============================] - 0s 8ms/step - loss: 0.7557 - accuracy: 0.6800\n",
            "Epoch 46/500\n",
            "5/5 [==============================] - 0s 6ms/step - loss: 0.7509 - accuracy: 0.7000\n",
            "Epoch 47/500\n",
            "5/5 [==============================] - 0s 5ms/step - loss: 0.7580 - accuracy: 0.7000\n",
            "Epoch 48/500\n",
            "5/5 [==============================] - 0s 5ms/step - loss: 0.7486 - accuracy: 0.7000\n",
            "Epoch 49/500\n",
            "5/5 [==============================] - 0s 6ms/step - loss: 0.7537 - accuracy: 0.6800\n",
            "Epoch 50/500\n",
            "5/5 [==============================] - 0s 5ms/step - loss: 0.7569 - accuracy: 0.6800\n",
            "Epoch 51/500\n",
            "5/5 [==============================] - 0s 5ms/step - loss: 0.7474 - accuracy: 0.6800\n",
            "Epoch 52/500\n",
            "5/5 [==============================] - 0s 6ms/step - loss: 0.7678 - accuracy: 0.6600\n",
            "Epoch 53/500\n",
            "5/5 [==============================] - 0s 5ms/step - loss: 0.7536 - accuracy: 0.6800\n",
            "Epoch 54/500\n",
            "5/5 [==============================] - 0s 5ms/step - loss: 0.7530 - accuracy: 0.7000\n",
            "Epoch 55/500\n",
            "5/5 [==============================] - 0s 5ms/step - loss: 0.7549 - accuracy: 0.7000\n",
            "Epoch 56/500\n",
            "5/5 [==============================] - 0s 6ms/step - loss: 0.7520 - accuracy: 0.7200\n",
            "Epoch 57/500\n",
            "5/5 [==============================] - 0s 6ms/step - loss: 0.7502 - accuracy: 0.6800\n",
            "Epoch 58/500\n",
            "5/5 [==============================] - 0s 5ms/step - loss: 0.7569 - accuracy: 0.6800\n",
            "Epoch 59/500\n",
            "5/5 [==============================] - 0s 5ms/step - loss: 0.7390 - accuracy: 0.6600\n",
            "Epoch 60/500\n",
            "5/5 [==============================] - 0s 5ms/step - loss: 0.7519 - accuracy: 0.7000\n",
            "Epoch 61/500\n",
            "5/5 [==============================] - 0s 5ms/step - loss: 0.7363 - accuracy: 0.7000\n",
            "Epoch 62/500\n",
            "5/5 [==============================] - 0s 4ms/step - loss: 0.7595 - accuracy: 0.7200\n",
            "Epoch 63/500\n",
            "5/5 [==============================] - 0s 5ms/step - loss: 0.7446 - accuracy: 0.6800\n",
            "Epoch 64/500\n",
            "5/5 [==============================] - 0s 5ms/step - loss: 0.7334 - accuracy: 0.7000\n",
            "Epoch 65/500\n",
            "5/5 [==============================] - 0s 5ms/step - loss: 0.7358 - accuracy: 0.7000\n",
            "Epoch 66/500\n",
            "5/5 [==============================] - 0s 6ms/step - loss: 0.7389 - accuracy: 0.7000\n",
            "Epoch 67/500\n",
            "5/5 [==============================] - 0s 5ms/step - loss: 0.7463 - accuracy: 0.6600\n",
            "Epoch 68/500\n",
            "5/5 [==============================] - 0s 5ms/step - loss: 0.7328 - accuracy: 0.6800\n",
            "Epoch 69/500\n",
            "5/5 [==============================] - 0s 5ms/step - loss: 0.7491 - accuracy: 0.6800\n",
            "Epoch 70/500\n",
            "5/5 [==============================] - 0s 5ms/step - loss: 0.7585 - accuracy: 0.6800\n",
            "Epoch 71/500\n",
            "5/5 [==============================] - 0s 4ms/step - loss: 0.7414 - accuracy: 0.7000\n",
            "Epoch 72/500\n",
            "5/5 [==============================] - 0s 5ms/step - loss: 0.7364 - accuracy: 0.7000\n",
            "Epoch 73/500\n",
            "5/5 [==============================] - 0s 5ms/step - loss: 0.7402 - accuracy: 0.6800\n",
            "Epoch 74/500\n",
            "5/5 [==============================] - 0s 5ms/step - loss: 0.7473 - accuracy: 0.7000\n",
            "Epoch 75/500\n",
            "5/5 [==============================] - 0s 5ms/step - loss: 0.7766 - accuracy: 0.6800\n",
            "Epoch 76/500\n",
            "5/5 [==============================] - 0s 5ms/step - loss: 0.7353 - accuracy: 0.6400\n",
            "Epoch 77/500\n",
            "5/5 [==============================] - 0s 5ms/step - loss: 0.7414 - accuracy: 0.6800\n",
            "Epoch 78/500\n",
            "5/5 [==============================] - 0s 6ms/step - loss: 0.7463 - accuracy: 0.7000\n",
            "Epoch 79/500\n",
            "5/5 [==============================] - 0s 6ms/step - loss: 0.7414 - accuracy: 0.7200\n",
            "Epoch 80/500\n",
            "5/5 [==============================] - 0s 5ms/step - loss: 0.7333 - accuracy: 0.7000\n",
            "Epoch 81/500\n",
            "5/5 [==============================] - 0s 6ms/step - loss: 0.7375 - accuracy: 0.6800\n",
            "Epoch 82/500\n",
            "5/5 [==============================] - 0s 5ms/step - loss: 0.7281 - accuracy: 0.7000\n",
            "Epoch 83/500\n",
            "5/5 [==============================] - 0s 6ms/step - loss: 0.7329 - accuracy: 0.7000\n",
            "Epoch 84/500\n",
            "5/5 [==============================] - 0s 6ms/step - loss: 0.7353 - accuracy: 0.6800\n",
            "Epoch 85/500\n",
            "5/5 [==============================] - 0s 5ms/step - loss: 0.7295 - accuracy: 0.6800\n",
            "Epoch 86/500\n",
            "5/5 [==============================] - 0s 6ms/step - loss: 0.7312 - accuracy: 0.7000\n",
            "Epoch 87/500\n",
            "5/5 [==============================] - 0s 4ms/step - loss: 0.7311 - accuracy: 0.7000\n",
            "Epoch 88/500\n",
            "5/5 [==============================] - 0s 5ms/step - loss: 0.7275 - accuracy: 0.7000\n",
            "Epoch 89/500\n",
            "5/5 [==============================] - 0s 6ms/step - loss: 0.7278 - accuracy: 0.7200\n",
            "Epoch 90/500\n",
            "5/5 [==============================] - 0s 5ms/step - loss: 0.7267 - accuracy: 0.6800\n",
            "Epoch 91/500\n",
            "5/5 [==============================] - 0s 5ms/step - loss: 0.7270 - accuracy: 0.7000\n",
            "Epoch 92/500\n",
            "5/5 [==============================] - 0s 5ms/step - loss: 0.7244 - accuracy: 0.7000\n",
            "Epoch 93/500\n",
            "5/5 [==============================] - 0s 5ms/step - loss: 0.7383 - accuracy: 0.6800\n",
            "Epoch 94/500\n",
            "5/5 [==============================] - 0s 5ms/step - loss: 0.7477 - accuracy: 0.6800\n",
            "Epoch 95/500\n",
            "5/5 [==============================] - 0s 5ms/step - loss: 0.7181 - accuracy: 0.7000\n",
            "Epoch 96/500\n",
            "5/5 [==============================] - 0s 5ms/step - loss: 0.7440 - accuracy: 0.6800\n",
            "Epoch 97/500\n",
            "5/5 [==============================] - 0s 5ms/step - loss: 0.7253 - accuracy: 0.6800\n",
            "Epoch 98/500\n",
            "5/5 [==============================] - 0s 5ms/step - loss: 0.7420 - accuracy: 0.7200\n",
            "Epoch 99/500\n",
            "5/5 [==============================] - 0s 6ms/step - loss: 0.7717 - accuracy: 0.6600\n",
            "Epoch 100/500\n",
            "5/5 [==============================] - 0s 7ms/step - loss: 0.7360 - accuracy: 0.7000\n",
            "Epoch 101/500\n",
            "5/5 [==============================] - 0s 5ms/step - loss: 0.7288 - accuracy: 0.7200\n",
            "Epoch 102/500\n",
            "5/5 [==============================] - 0s 5ms/step - loss: 0.7463 - accuracy: 0.6800\n",
            "Epoch 103/500\n",
            "5/5 [==============================] - 0s 5ms/step - loss: 0.7229 - accuracy: 0.7200\n",
            "Epoch 104/500\n",
            "5/5 [==============================] - 0s 5ms/step - loss: 0.7303 - accuracy: 0.7000\n",
            "Epoch 105/500\n",
            "5/5 [==============================] - 0s 5ms/step - loss: 0.7148 - accuracy: 0.7000\n",
            "Epoch 106/500\n",
            "5/5 [==============================] - 0s 7ms/step - loss: 0.7119 - accuracy: 0.7000\n",
            "Epoch 107/500\n",
            "5/5 [==============================] - 0s 6ms/step - loss: 0.7156 - accuracy: 0.7000\n",
            "Epoch 108/500\n",
            "5/5 [==============================] - 0s 6ms/step - loss: 0.7076 - accuracy: 0.7000\n",
            "Epoch 109/500\n",
            "5/5 [==============================] - 0s 5ms/step - loss: 0.7197 - accuracy: 0.6800\n",
            "Epoch 110/500\n",
            "5/5 [==============================] - 0s 5ms/step - loss: 0.7139 - accuracy: 0.7000\n",
            "Epoch 111/500\n",
            "5/5 [==============================] - 0s 5ms/step - loss: 0.7170 - accuracy: 0.7000\n",
            "Epoch 112/500\n",
            "5/5 [==============================] - 0s 5ms/step - loss: 0.7318 - accuracy: 0.6600\n",
            "Epoch 113/500\n",
            "5/5 [==============================] - 0s 6ms/step - loss: 0.7127 - accuracy: 0.7200\n",
            "Epoch 114/500\n",
            "5/5 [==============================] - 0s 5ms/step - loss: 0.7151 - accuracy: 0.7000\n",
            "Epoch 115/500\n",
            "5/5 [==============================] - 0s 7ms/step - loss: 0.7125 - accuracy: 0.6800\n",
            "Epoch 116/500\n",
            "5/5 [==============================] - 0s 5ms/step - loss: 0.7210 - accuracy: 0.7000\n",
            "Epoch 117/500\n",
            "5/5 [==============================] - 0s 5ms/step - loss: 0.7170 - accuracy: 0.7000\n",
            "Epoch 118/500\n",
            "5/5 [==============================] - 0s 6ms/step - loss: 0.7431 - accuracy: 0.6400\n",
            "Epoch 119/500\n",
            "5/5 [==============================] - 0s 5ms/step - loss: 0.7140 - accuracy: 0.6800\n",
            "Epoch 120/500\n",
            "5/5 [==============================] - 0s 5ms/step - loss: 0.7253 - accuracy: 0.6800\n",
            "Epoch 121/500\n",
            "5/5 [==============================] - 0s 5ms/step - loss: 0.7102 - accuracy: 0.6800\n",
            "Epoch 122/500\n",
            "5/5 [==============================] - 0s 5ms/step - loss: 0.7168 - accuracy: 0.7000\n",
            "Epoch 123/500\n",
            "5/5 [==============================] - 0s 5ms/step - loss: 0.7032 - accuracy: 0.7000\n",
            "Epoch 124/500\n",
            "5/5 [==============================] - 0s 5ms/step - loss: 0.7084 - accuracy: 0.7000\n",
            "Epoch 125/500\n",
            "5/5 [==============================] - 0s 5ms/step - loss: 0.7087 - accuracy: 0.6600\n",
            "Epoch 126/500\n",
            "5/5 [==============================] - 0s 5ms/step - loss: 0.7019 - accuracy: 0.7000\n",
            "Epoch 127/500\n",
            "5/5 [==============================] - 0s 7ms/step - loss: 0.7010 - accuracy: 0.6800\n",
            "Epoch 128/500\n",
            "5/5 [==============================] - 0s 7ms/step - loss: 0.7124 - accuracy: 0.7000\n",
            "Epoch 129/500\n",
            "5/5 [==============================] - 0s 5ms/step - loss: 0.7162 - accuracy: 0.7000\n",
            "Epoch 130/500\n",
            "5/5 [==============================] - 0s 6ms/step - loss: 0.6948 - accuracy: 0.6800\n",
            "Epoch 131/500\n",
            "5/5 [==============================] - 0s 6ms/step - loss: 0.7110 - accuracy: 0.7000\n",
            "Epoch 132/500\n",
            "5/5 [==============================] - 0s 5ms/step - loss: 0.7274 - accuracy: 0.6800\n",
            "Epoch 133/500\n",
            "5/5 [==============================] - 0s 5ms/step - loss: 0.6959 - accuracy: 0.7000\n",
            "Epoch 134/500\n",
            "5/5 [==============================] - 0s 6ms/step - loss: 0.7444 - accuracy: 0.7000\n",
            "Epoch 135/500\n",
            "5/5 [==============================] - 0s 6ms/step - loss: 0.7289 - accuracy: 0.6600\n",
            "Epoch 136/500\n",
            "5/5 [==============================] - 0s 5ms/step - loss: 0.7153 - accuracy: 0.6800\n",
            "Epoch 137/500\n",
            "5/5 [==============================] - 0s 5ms/step - loss: 0.7174 - accuracy: 0.7000\n",
            "Epoch 138/500\n",
            "5/5 [==============================] - 0s 5ms/step - loss: 0.6916 - accuracy: 0.7000\n",
            "Epoch 139/500\n",
            "5/5 [==============================] - 0s 5ms/step - loss: 0.7009 - accuracy: 0.7000\n",
            "Epoch 140/500\n",
            "5/5 [==============================] - 0s 5ms/step - loss: 0.6912 - accuracy: 0.6800\n",
            "Epoch 141/500\n",
            "5/5 [==============================] - 0s 5ms/step - loss: 0.6962 - accuracy: 0.7200\n",
            "Epoch 142/500\n",
            "5/5 [==============================] - 0s 9ms/step - loss: 0.6987 - accuracy: 0.7000\n",
            "Epoch 143/500\n",
            "5/5 [==============================] - 0s 5ms/step - loss: 0.6912 - accuracy: 0.7000\n",
            "Epoch 144/500\n",
            "5/5 [==============================] - 0s 5ms/step - loss: 0.6949 - accuracy: 0.7200\n",
            "Epoch 145/500\n",
            "5/5 [==============================] - 0s 5ms/step - loss: 0.6908 - accuracy: 0.6800\n",
            "Epoch 146/500\n",
            "5/5 [==============================] - 0s 5ms/step - loss: 0.6908 - accuracy: 0.6800\n",
            "Epoch 147/500\n",
            "5/5 [==============================] - 0s 5ms/step - loss: 0.6848 - accuracy: 0.7000\n",
            "Epoch 148/500\n",
            "5/5 [==============================] - 0s 5ms/step - loss: 0.6962 - accuracy: 0.7200\n",
            "Epoch 149/500\n",
            "5/5 [==============================] - 0s 5ms/step - loss: 0.6959 - accuracy: 0.7000\n",
            "Epoch 150/500\n",
            "5/5 [==============================] - 0s 5ms/step - loss: 0.6869 - accuracy: 0.7000\n",
            "Epoch 151/500\n",
            "5/5 [==============================] - 0s 5ms/step - loss: 0.7012 - accuracy: 0.7000\n",
            "Epoch 152/500\n",
            "5/5 [==============================] - 0s 6ms/step - loss: 0.6926 - accuracy: 0.6800\n",
            "Epoch 153/500\n",
            "5/5 [==============================] - 0s 5ms/step - loss: 0.7061 - accuracy: 0.7200\n",
            "Epoch 154/500\n",
            "5/5 [==============================] - 0s 5ms/step - loss: 0.6937 - accuracy: 0.6800\n",
            "Epoch 155/500\n",
            "5/5 [==============================] - 0s 5ms/step - loss: 0.6854 - accuracy: 0.7200\n",
            "Epoch 156/500\n",
            "5/5 [==============================] - 0s 5ms/step - loss: 0.6955 - accuracy: 0.7200\n",
            "Epoch 157/500\n",
            "5/5 [==============================] - 0s 8ms/step - loss: 0.6938 - accuracy: 0.6800\n",
            "Epoch 158/500\n",
            "5/5 [==============================] - 0s 6ms/step - loss: 0.7017 - accuracy: 0.7000\n",
            "Epoch 159/500\n",
            "5/5 [==============================] - 0s 6ms/step - loss: 0.6817 - accuracy: 0.7400\n",
            "Epoch 160/500\n",
            "5/5 [==============================] - 0s 6ms/step - loss: 0.6972 - accuracy: 0.7000\n",
            "Epoch 161/500\n",
            "5/5 [==============================] - 0s 5ms/step - loss: 0.6838 - accuracy: 0.7200\n",
            "Epoch 162/500\n",
            "5/5 [==============================] - 0s 6ms/step - loss: 0.6930 - accuracy: 0.7200\n",
            "Epoch 163/500\n",
            "5/5 [==============================] - 0s 7ms/step - loss: 0.7215 - accuracy: 0.7000\n",
            "Epoch 164/500\n",
            "5/5 [==============================] - 0s 5ms/step - loss: 0.7329 - accuracy: 0.7000\n",
            "Epoch 165/500\n",
            "5/5 [==============================] - 0s 6ms/step - loss: 0.6886 - accuracy: 0.7200\n",
            "Epoch 166/500\n",
            "5/5 [==============================] - 0s 8ms/step - loss: 0.6958 - accuracy: 0.6800\n",
            "Epoch 167/500\n",
            "5/5 [==============================] - 0s 6ms/step - loss: 0.6903 - accuracy: 0.7200\n",
            "Epoch 168/500\n",
            "5/5 [==============================] - 0s 5ms/step - loss: 0.6790 - accuracy: 0.7000\n",
            "Epoch 169/500\n",
            "5/5 [==============================] - 0s 6ms/step - loss: 0.6900 - accuracy: 0.7600\n",
            "Epoch 170/500\n",
            "5/5 [==============================] - 0s 6ms/step - loss: 0.6864 - accuracy: 0.7000\n",
            "Epoch 171/500\n",
            "5/5 [==============================] - 0s 5ms/step - loss: 0.6859 - accuracy: 0.6800\n",
            "Epoch 172/500\n",
            "5/5 [==============================] - 0s 6ms/step - loss: 0.7110 - accuracy: 0.7200\n",
            "Epoch 173/500\n",
            "5/5 [==============================] - 0s 6ms/step - loss: 0.6925 - accuracy: 0.7000\n",
            "Epoch 174/500\n",
            "5/5 [==============================] - 0s 5ms/step - loss: 0.6864 - accuracy: 0.6800\n",
            "Epoch 175/500\n",
            "5/5 [==============================] - 0s 5ms/step - loss: 0.6897 - accuracy: 0.7000\n",
            "Epoch 176/500\n",
            "5/5 [==============================] - 0s 5ms/step - loss: 0.7238 - accuracy: 0.6200\n",
            "Epoch 177/500\n",
            "5/5 [==============================] - 0s 6ms/step - loss: 0.6786 - accuracy: 0.6800\n",
            "Epoch 178/500\n",
            "5/5 [==============================] - 0s 5ms/step - loss: 0.6862 - accuracy: 0.7200\n",
            "Epoch 179/500\n",
            "5/5 [==============================] - 0s 5ms/step - loss: 0.6899 - accuracy: 0.7200\n",
            "Epoch 180/500\n",
            "5/5 [==============================] - 0s 5ms/step - loss: 0.6683 - accuracy: 0.7000\n",
            "Epoch 181/500\n",
            "5/5 [==============================] - 0s 5ms/step - loss: 0.6934 - accuracy: 0.7000\n",
            "Epoch 182/500\n",
            "5/5 [==============================] - 0s 6ms/step - loss: 0.7164 - accuracy: 0.7000\n",
            "Epoch 183/500\n",
            "5/5 [==============================] - 0s 5ms/step - loss: 0.6912 - accuracy: 0.6600\n",
            "Epoch 184/500\n",
            "5/5 [==============================] - 0s 5ms/step - loss: 0.6875 - accuracy: 0.7200\n",
            "Epoch 185/500\n",
            "5/5 [==============================] - 0s 5ms/step - loss: 0.6878 - accuracy: 0.7000\n",
            "Epoch 186/500\n",
            "5/5 [==============================] - 0s 5ms/step - loss: 0.6768 - accuracy: 0.6800\n",
            "Epoch 187/500\n",
            "5/5 [==============================] - 0s 5ms/step - loss: 0.7016 - accuracy: 0.6800\n",
            "Epoch 188/500\n",
            "5/5 [==============================] - 0s 6ms/step - loss: 0.6775 - accuracy: 0.6800\n",
            "Epoch 189/500\n",
            "5/5 [==============================] - 0s 5ms/step - loss: 0.6666 - accuracy: 0.7200\n",
            "Epoch 190/500\n",
            "5/5 [==============================] - 0s 5ms/step - loss: 0.6726 - accuracy: 0.7200\n",
            "Epoch 191/500\n",
            "5/5 [==============================] - 0s 5ms/step - loss: 0.6622 - accuracy: 0.7200\n",
            "Epoch 192/500\n",
            "5/5 [==============================] - 0s 5ms/step - loss: 0.6738 - accuracy: 0.7000\n",
            "Epoch 193/500\n",
            "5/5 [==============================] - 0s 5ms/step - loss: 0.6636 - accuracy: 0.6800\n",
            "Epoch 194/500\n",
            "5/5 [==============================] - 0s 8ms/step - loss: 0.6769 - accuracy: 0.7200\n",
            "Epoch 195/500\n",
            "5/5 [==============================] - 0s 5ms/step - loss: 0.6744 - accuracy: 0.7200\n",
            "Epoch 196/500\n",
            "5/5 [==============================] - 0s 5ms/step - loss: 0.6656 - accuracy: 0.6800\n",
            "Epoch 197/500\n",
            "5/5 [==============================] - 0s 5ms/step - loss: 0.6766 - accuracy: 0.7400\n",
            "Epoch 198/500\n",
            "5/5 [==============================] - 0s 6ms/step - loss: 0.6608 - accuracy: 0.7400\n",
            "Epoch 199/500\n",
            "5/5 [==============================] - 0s 6ms/step - loss: 0.6635 - accuracy: 0.7000\n",
            "Epoch 200/500\n",
            "5/5 [==============================] - 0s 6ms/step - loss: 0.6747 - accuracy: 0.7000\n",
            "Epoch 201/500\n",
            "5/5 [==============================] - 0s 5ms/step - loss: 0.6754 - accuracy: 0.7000\n",
            "Epoch 202/500\n",
            "5/5 [==============================] - 0s 5ms/step - loss: 0.6741 - accuracy: 0.7000\n",
            "Epoch 203/500\n",
            "5/5 [==============================] - 0s 6ms/step - loss: 0.6571 - accuracy: 0.7200\n",
            "Epoch 204/500\n",
            "5/5 [==============================] - 0s 5ms/step - loss: 0.6604 - accuracy: 0.7400\n",
            "Epoch 205/500\n",
            "5/5 [==============================] - 0s 5ms/step - loss: 0.6640 - accuracy: 0.7400\n",
            "Epoch 206/500\n",
            "5/5 [==============================] - 0s 5ms/step - loss: 0.6655 - accuracy: 0.7200\n",
            "Epoch 207/500\n",
            "5/5 [==============================] - 0s 5ms/step - loss: 0.6641 - accuracy: 0.7600\n",
            "Epoch 208/500\n",
            "5/5 [==============================] - 0s 5ms/step - loss: 0.6676 - accuracy: 0.7200\n",
            "Epoch 209/500\n",
            "5/5 [==============================] - 0s 5ms/step - loss: 0.6671 - accuracy: 0.7000\n",
            "Epoch 210/500\n",
            "5/5 [==============================] - 0s 7ms/step - loss: 0.6599 - accuracy: 0.7000\n",
            "Epoch 211/500\n",
            "5/5 [==============================] - 0s 5ms/step - loss: 0.6582 - accuracy: 0.7200\n",
            "Epoch 212/500\n",
            "5/5 [==============================] - 0s 5ms/step - loss: 0.6536 - accuracy: 0.7000\n",
            "Epoch 213/500\n",
            "5/5 [==============================] - 0s 5ms/step - loss: 0.6566 - accuracy: 0.7000\n",
            "Epoch 214/500\n",
            "5/5 [==============================] - 0s 5ms/step - loss: 0.6614 - accuracy: 0.7600\n",
            "Epoch 215/500\n",
            "5/5 [==============================] - 0s 7ms/step - loss: 0.6504 - accuracy: 0.7200\n",
            "Epoch 216/500\n",
            "5/5 [==============================] - 0s 5ms/step - loss: 0.6636 - accuracy: 0.7000\n",
            "Epoch 217/500\n",
            "5/5 [==============================] - 0s 5ms/step - loss: 0.6753 - accuracy: 0.7000\n",
            "Epoch 218/500\n",
            "5/5 [==============================] - 0s 5ms/step - loss: 0.6531 - accuracy: 0.7200\n",
            "Epoch 219/500\n",
            "5/5 [==============================] - 0s 6ms/step - loss: 0.6616 - accuracy: 0.7200\n",
            "Epoch 220/500\n",
            "5/5 [==============================] - 0s 5ms/step - loss: 0.6612 - accuracy: 0.7400\n",
            "Epoch 221/500\n",
            "5/5 [==============================] - 0s 5ms/step - loss: 0.6594 - accuracy: 0.7400\n",
            "Epoch 222/500\n",
            "5/5 [==============================] - 0s 5ms/step - loss: 0.6644 - accuracy: 0.7200\n",
            "Epoch 223/500\n",
            "5/5 [==============================] - 0s 7ms/step - loss: 0.6573 - accuracy: 0.7000\n",
            "Epoch 224/500\n",
            "5/5 [==============================] - 0s 6ms/step - loss: 0.6525 - accuracy: 0.7400\n",
            "Epoch 225/500\n",
            "5/5 [==============================] - 0s 5ms/step - loss: 0.6558 - accuracy: 0.7400\n",
            "Epoch 226/500\n",
            "5/5 [==============================] - 0s 6ms/step - loss: 0.6532 - accuracy: 0.7200\n",
            "Epoch 227/500\n",
            "5/5 [==============================] - 0s 5ms/step - loss: 0.6447 - accuracy: 0.7200\n",
            "Epoch 228/500\n",
            "5/5 [==============================] - 0s 5ms/step - loss: 0.6547 - accuracy: 0.7600\n",
            "Epoch 229/500\n",
            "5/5 [==============================] - 0s 5ms/step - loss: 0.6509 - accuracy: 0.7200\n",
            "Epoch 230/500\n",
            "5/5 [==============================] - 0s 5ms/step - loss: 0.6538 - accuracy: 0.7400\n",
            "Epoch 231/500\n",
            "5/5 [==============================] - 0s 5ms/step - loss: 0.6424 - accuracy: 0.7400\n",
            "Epoch 232/500\n",
            "5/5 [==============================] - 0s 5ms/step - loss: 0.6464 - accuracy: 0.7200\n",
            "Epoch 233/500\n",
            "5/5 [==============================] - 0s 5ms/step - loss: 0.6579 - accuracy: 0.7200\n",
            "Epoch 234/500\n",
            "5/5 [==============================] - 0s 7ms/step - loss: 0.6737 - accuracy: 0.7200\n",
            "Epoch 235/500\n",
            "5/5 [==============================] - 0s 6ms/step - loss: 0.6629 - accuracy: 0.7600\n",
            "Epoch 236/500\n",
            "5/5 [==============================] - 0s 7ms/step - loss: 0.6549 - accuracy: 0.7000\n",
            "Epoch 237/500\n",
            "5/5 [==============================] - 0s 5ms/step - loss: 0.6709 - accuracy: 0.7200\n",
            "Epoch 238/500\n",
            "5/5 [==============================] - 0s 5ms/step - loss: 0.6402 - accuracy: 0.7200\n",
            "Epoch 239/500\n",
            "5/5 [==============================] - 0s 6ms/step - loss: 0.6651 - accuracy: 0.7000\n",
            "Epoch 240/500\n",
            "5/5 [==============================] - 0s 5ms/step - loss: 0.6522 - accuracy: 0.7200\n",
            "Epoch 241/500\n",
            "5/5 [==============================] - 0s 7ms/step - loss: 0.6457 - accuracy: 0.7400\n",
            "Epoch 242/500\n",
            "5/5 [==============================] - 0s 5ms/step - loss: 0.6433 - accuracy: 0.7000\n",
            "Epoch 243/500\n",
            "5/5 [==============================] - 0s 6ms/step - loss: 0.6609 - accuracy: 0.7000\n",
            "Epoch 244/500\n",
            "5/5 [==============================] - 0s 5ms/step - loss: 0.6439 - accuracy: 0.7200\n",
            "Epoch 245/500\n",
            "5/5 [==============================] - 0s 5ms/step - loss: 0.6434 - accuracy: 0.7200\n",
            "Epoch 246/500\n",
            "5/5 [==============================] - 0s 5ms/step - loss: 0.6391 - accuracy: 0.7800\n",
            "Epoch 247/500\n",
            "5/5 [==============================] - 0s 6ms/step - loss: 0.6439 - accuracy: 0.7400\n",
            "Epoch 248/500\n",
            "5/5 [==============================] - 0s 5ms/step - loss: 0.6430 - accuracy: 0.7000\n",
            "Epoch 249/500\n",
            "5/5 [==============================] - 0s 5ms/step - loss: 0.6476 - accuracy: 0.7200\n",
            "Epoch 250/500\n",
            "5/5 [==============================] - 0s 5ms/step - loss: 0.6404 - accuracy: 0.7400\n",
            "Epoch 251/500\n",
            "5/5 [==============================] - 0s 5ms/step - loss: 0.6700 - accuracy: 0.7400\n",
            "Epoch 252/500\n",
            "5/5 [==============================] - 0s 8ms/step - loss: 0.6318 - accuracy: 0.7600\n",
            "Epoch 253/500\n",
            "5/5 [==============================] - 0s 5ms/step - loss: 0.6464 - accuracy: 0.7200\n",
            "Epoch 254/500\n",
            "5/5 [==============================] - 0s 6ms/step - loss: 0.6397 - accuracy: 0.7400\n",
            "Epoch 255/500\n",
            "5/5 [==============================] - 0s 6ms/step - loss: 0.6367 - accuracy: 0.7200\n",
            "Epoch 256/500\n",
            "5/5 [==============================] - 0s 6ms/step - loss: 0.6386 - accuracy: 0.7400\n",
            "Epoch 257/500\n",
            "5/5 [==============================] - 0s 6ms/step - loss: 0.6479 - accuracy: 0.7000\n",
            "Epoch 258/500\n",
            "5/5 [==============================] - 0s 5ms/step - loss: 0.6291 - accuracy: 0.7600\n",
            "Epoch 259/500\n",
            "5/5 [==============================] - 0s 5ms/step - loss: 0.6347 - accuracy: 0.7400\n",
            "Epoch 260/500\n",
            "5/5 [==============================] - 0s 6ms/step - loss: 0.6316 - accuracy: 0.7400\n",
            "Epoch 261/500\n",
            "5/5 [==============================] - 0s 7ms/step - loss: 0.6293 - accuracy: 0.7200\n",
            "Epoch 262/500\n",
            "5/5 [==============================] - 0s 6ms/step - loss: 0.6411 - accuracy: 0.7200\n",
            "Epoch 263/500\n",
            "5/5 [==============================] - 0s 5ms/step - loss: 0.6421 - accuracy: 0.7600\n",
            "Epoch 264/500\n",
            "5/5 [==============================] - 0s 7ms/step - loss: 0.6281 - accuracy: 0.7400\n",
            "Epoch 265/500\n",
            "5/5 [==============================] - 0s 5ms/step - loss: 0.6303 - accuracy: 0.7600\n",
            "Epoch 266/500\n",
            "5/5 [==============================] - 0s 6ms/step - loss: 0.6325 - accuracy: 0.7800\n",
            "Epoch 267/500\n",
            "5/5 [==============================] - 0s 5ms/step - loss: 0.6388 - accuracy: 0.7400\n",
            "Epoch 268/500\n",
            "5/5 [==============================] - 0s 8ms/step - loss: 0.6278 - accuracy: 0.7200\n",
            "Epoch 269/500\n",
            "5/5 [==============================] - 0s 6ms/step - loss: 0.6235 - accuracy: 0.7400\n",
            "Epoch 270/500\n",
            "5/5 [==============================] - 0s 5ms/step - loss: 0.6225 - accuracy: 0.7400\n",
            "Epoch 271/500\n",
            "5/5 [==============================] - 0s 6ms/step - loss: 0.6328 - accuracy: 0.7600\n",
            "Epoch 272/500\n",
            "5/5 [==============================] - 0s 5ms/step - loss: 0.6404 - accuracy: 0.7000\n",
            "Epoch 273/500\n",
            "5/5 [==============================] - 0s 6ms/step - loss: 0.6155 - accuracy: 0.7400\n",
            "Epoch 274/500\n",
            "5/5 [==============================] - 0s 5ms/step - loss: 0.6345 - accuracy: 0.7200\n",
            "Epoch 275/500\n",
            "5/5 [==============================] - 0s 7ms/step - loss: 0.6263 - accuracy: 0.7200\n",
            "Epoch 276/500\n",
            "5/5 [==============================] - 0s 5ms/step - loss: 0.6222 - accuracy: 0.7600\n",
            "Epoch 277/500\n",
            "5/5 [==============================] - 0s 6ms/step - loss: 0.6352 - accuracy: 0.7400\n",
            "Epoch 278/500\n",
            "5/5 [==============================] - 0s 6ms/step - loss: 0.6252 - accuracy: 0.7200\n",
            "Epoch 279/500\n",
            "5/5 [==============================] - 0s 6ms/step - loss: 0.6266 - accuracy: 0.7200\n",
            "Epoch 280/500\n",
            "5/5 [==============================] - 0s 6ms/step - loss: 0.6142 - accuracy: 0.7600\n",
            "Epoch 281/500\n",
            "5/5 [==============================] - 0s 7ms/step - loss: 0.6290 - accuracy: 0.7400\n",
            "Epoch 282/500\n",
            "5/5 [==============================] - 0s 5ms/step - loss: 0.6162 - accuracy: 0.7200\n",
            "Epoch 283/500\n",
            "5/5 [==============================] - 0s 6ms/step - loss: 0.6219 - accuracy: 0.7600\n",
            "Epoch 284/500\n",
            "5/5 [==============================] - 0s 5ms/step - loss: 0.6216 - accuracy: 0.7400\n",
            "Epoch 285/500\n",
            "5/5 [==============================] - 0s 5ms/step - loss: 0.6172 - accuracy: 0.7400\n",
            "Epoch 286/500\n",
            "5/5 [==============================] - 0s 6ms/step - loss: 0.6203 - accuracy: 0.7400\n",
            "Epoch 287/500\n",
            "5/5 [==============================] - 0s 5ms/step - loss: 0.6325 - accuracy: 0.7400\n",
            "Epoch 288/500\n",
            "5/5 [==============================] - 0s 7ms/step - loss: 0.6274 - accuracy: 0.7400\n",
            "Epoch 289/500\n",
            "5/5 [==============================] - 0s 6ms/step - loss: 0.6336 - accuracy: 0.7600\n",
            "Epoch 290/500\n",
            "5/5 [==============================] - 0s 5ms/step - loss: 0.6193 - accuracy: 0.7400\n",
            "Epoch 291/500\n",
            "5/5 [==============================] - 0s 5ms/step - loss: 0.6247 - accuracy: 0.7000\n",
            "Epoch 292/500\n",
            "5/5 [==============================] - 0s 6ms/step - loss: 0.6169 - accuracy: 0.7400\n",
            "Epoch 293/500\n",
            "5/5 [==============================] - 0s 5ms/step - loss: 0.6158 - accuracy: 0.7400\n",
            "Epoch 294/500\n",
            "5/5 [==============================] - 0s 5ms/step - loss: 0.6208 - accuracy: 0.7600\n",
            "Epoch 295/500\n",
            "5/5 [==============================] - 0s 5ms/step - loss: 0.6111 - accuracy: 0.7400\n",
            "Epoch 296/500\n",
            "5/5 [==============================] - 0s 5ms/step - loss: 0.6234 - accuracy: 0.7200\n",
            "Epoch 297/500\n",
            "5/5 [==============================] - 0s 5ms/step - loss: 0.6263 - accuracy: 0.7200\n",
            "Epoch 298/500\n",
            "5/5 [==============================] - 0s 5ms/step - loss: 0.6239 - accuracy: 0.7200\n",
            "Epoch 299/500\n",
            "5/5 [==============================] - 0s 5ms/step - loss: 0.6147 - accuracy: 0.7400\n",
            "Epoch 300/500\n",
            "5/5 [==============================] - 0s 6ms/step - loss: 0.6078 - accuracy: 0.7600\n",
            "Epoch 301/500\n",
            "5/5 [==============================] - 0s 5ms/step - loss: 0.6077 - accuracy: 0.7600\n",
            "Epoch 302/500\n",
            "5/5 [==============================] - 0s 5ms/step - loss: 0.6104 - accuracy: 0.7600\n",
            "Epoch 303/500\n",
            "5/5 [==============================] - 0s 5ms/step - loss: 0.6147 - accuracy: 0.7400\n",
            "Epoch 304/500\n",
            "5/5 [==============================] - 0s 5ms/step - loss: 0.6206 - accuracy: 0.7400\n",
            "Epoch 305/500\n",
            "5/5 [==============================] - 0s 6ms/step - loss: 0.6031 - accuracy: 0.7200\n",
            "Epoch 306/500\n",
            "5/5 [==============================] - 0s 5ms/step - loss: 0.6145 - accuracy: 0.7200\n",
            "Epoch 307/500\n",
            "5/5 [==============================] - 0s 5ms/step - loss: 0.6263 - accuracy: 0.7200\n",
            "Epoch 308/500\n",
            "5/5 [==============================] - 0s 8ms/step - loss: 0.6099 - accuracy: 0.7600\n",
            "Epoch 309/500\n",
            "5/5 [==============================] - 0s 6ms/step - loss: 0.6062 - accuracy: 0.7600\n",
            "Epoch 310/500\n",
            "5/5 [==============================] - 0s 5ms/step - loss: 0.6082 - accuracy: 0.7400\n",
            "Epoch 311/500\n",
            "5/5 [==============================] - 0s 5ms/step - loss: 0.6042 - accuracy: 0.7200\n",
            "Epoch 312/500\n",
            "5/5 [==============================] - 0s 5ms/step - loss: 0.6093 - accuracy: 0.7200\n",
            "Epoch 313/500\n",
            "5/5 [==============================] - 0s 5ms/step - loss: 0.6009 - accuracy: 0.7600\n",
            "Epoch 314/500\n",
            "5/5 [==============================] - 0s 5ms/step - loss: 0.6076 - accuracy: 0.7400\n",
            "Epoch 315/500\n",
            "5/5 [==============================] - 0s 7ms/step - loss: 0.6063 - accuracy: 0.7600\n",
            "Epoch 316/500\n",
            "5/5 [==============================] - 0s 5ms/step - loss: 0.5989 - accuracy: 0.7800\n",
            "Epoch 317/500\n",
            "5/5 [==============================] - 0s 5ms/step - loss: 0.6179 - accuracy: 0.7600\n",
            "Epoch 318/500\n",
            "5/5 [==============================] - 0s 6ms/step - loss: 0.6216 - accuracy: 0.7600\n",
            "Epoch 319/500\n",
            "5/5 [==============================] - 0s 6ms/step - loss: 0.6128 - accuracy: 0.7000\n",
            "Epoch 320/500\n",
            "5/5 [==============================] - 0s 5ms/step - loss: 0.6124 - accuracy: 0.7600\n",
            "Epoch 321/500\n",
            "5/5 [==============================] - 0s 5ms/step - loss: 0.6078 - accuracy: 0.7600\n",
            "Epoch 322/500\n",
            "5/5 [==============================] - 0s 8ms/step - loss: 0.5970 - accuracy: 0.7800\n",
            "Epoch 323/500\n",
            "5/5 [==============================] - 0s 6ms/step - loss: 0.6120 - accuracy: 0.7600\n",
            "Epoch 324/500\n",
            "5/5 [==============================] - 0s 5ms/step - loss: 0.6017 - accuracy: 0.7400\n",
            "Epoch 325/500\n",
            "5/5 [==============================] - 0s 6ms/step - loss: 0.6011 - accuracy: 0.7600\n",
            "Epoch 326/500\n",
            "5/5 [==============================] - 0s 6ms/step - loss: 0.6049 - accuracy: 0.7200\n",
            "Epoch 327/500\n",
            "5/5 [==============================] - 0s 5ms/step - loss: 0.6021 - accuracy: 0.7800\n",
            "Epoch 328/500\n",
            "5/5 [==============================] - 0s 6ms/step - loss: 0.5988 - accuracy: 0.7000\n",
            "Epoch 329/500\n",
            "5/5 [==============================] - 0s 6ms/step - loss: 0.6003 - accuracy: 0.7400\n",
            "Epoch 330/500\n",
            "5/5 [==============================] - 0s 7ms/step - loss: 0.6085 - accuracy: 0.7200\n",
            "Epoch 331/500\n",
            "5/5 [==============================] - 0s 6ms/step - loss: 0.6080 - accuracy: 0.7800\n",
            "Epoch 332/500\n",
            "5/5 [==============================] - 0s 7ms/step - loss: 0.6053 - accuracy: 0.7800\n",
            "Epoch 333/500\n",
            "5/5 [==============================] - 0s 7ms/step - loss: 0.5974 - accuracy: 0.7600\n",
            "Epoch 334/500\n",
            "5/5 [==============================] - 0s 6ms/step - loss: 0.5988 - accuracy: 0.7600\n",
            "Epoch 335/500\n",
            "5/5 [==============================] - 0s 6ms/step - loss: 0.6005 - accuracy: 0.7200\n",
            "Epoch 336/500\n",
            "5/5 [==============================] - 0s 7ms/step - loss: 0.5897 - accuracy: 0.7800\n",
            "Epoch 337/500\n",
            "5/5 [==============================] - 0s 5ms/step - loss: 0.6027 - accuracy: 0.7600\n",
            "Epoch 338/500\n",
            "5/5 [==============================] - 0s 7ms/step - loss: 0.5890 - accuracy: 0.7400\n",
            "Epoch 339/500\n",
            "5/5 [==============================] - 0s 5ms/step - loss: 0.5971 - accuracy: 0.7600\n",
            "Epoch 340/500\n",
            "5/5 [==============================] - 0s 6ms/step - loss: 0.5953 - accuracy: 0.7800\n",
            "Epoch 341/500\n",
            "5/5 [==============================] - 0s 6ms/step - loss: 0.6009 - accuracy: 0.7600\n",
            "Epoch 342/500\n",
            "5/5 [==============================] - 0s 5ms/step - loss: 0.5944 - accuracy: 0.7200\n",
            "Epoch 343/500\n",
            "5/5 [==============================] - 0s 5ms/step - loss: 0.5972 - accuracy: 0.7400\n",
            "Epoch 344/500\n",
            "5/5 [==============================] - 0s 5ms/step - loss: 0.5966 - accuracy: 0.7200\n",
            "Epoch 345/500\n",
            "5/5 [==============================] - 0s 5ms/step - loss: 0.5939 - accuracy: 0.7600\n",
            "Epoch 346/500\n",
            "5/5 [==============================] - 0s 6ms/step - loss: 0.5905 - accuracy: 0.7600\n",
            "Epoch 347/500\n",
            "5/5 [==============================] - 0s 5ms/step - loss: 0.5998 - accuracy: 0.7600\n",
            "Epoch 348/500\n",
            "5/5 [==============================] - 0s 5ms/step - loss: 0.6221 - accuracy: 0.7000\n",
            "Epoch 349/500\n",
            "5/5 [==============================] - 0s 5ms/step - loss: 0.6106 - accuracy: 0.7400\n",
            "Epoch 350/500\n",
            "5/5 [==============================] - 0s 6ms/step - loss: 0.6218 - accuracy: 0.7000\n",
            "Epoch 351/500\n",
            "5/5 [==============================] - 0s 5ms/step - loss: 0.6046 - accuracy: 0.7600\n",
            "Epoch 352/500\n",
            "5/5 [==============================] - 0s 6ms/step - loss: 0.5876 - accuracy: 0.7600\n",
            "Epoch 353/500\n",
            "5/5 [==============================] - 0s 5ms/step - loss: 0.5932 - accuracy: 0.7600\n",
            "Epoch 354/500\n",
            "5/5 [==============================] - 0s 6ms/step - loss: 0.5933 - accuracy: 0.7400\n",
            "Epoch 355/500\n",
            "5/5 [==============================] - 0s 6ms/step - loss: 0.5941 - accuracy: 0.7400\n",
            "Epoch 356/500\n",
            "5/5 [==============================] - 0s 5ms/step - loss: 0.6040 - accuracy: 0.7200\n",
            "Epoch 357/500\n",
            "5/5 [==============================] - 0s 6ms/step - loss: 0.5954 - accuracy: 0.7600\n",
            "Epoch 358/500\n",
            "5/5 [==============================] - 0s 6ms/step - loss: 0.5857 - accuracy: 0.7400\n",
            "Epoch 359/500\n",
            "5/5 [==============================] - 0s 5ms/step - loss: 0.5944 - accuracy: 0.7600\n",
            "Epoch 360/500\n",
            "5/5 [==============================] - 0s 6ms/step - loss: 0.5809 - accuracy: 0.7400\n",
            "Epoch 361/500\n",
            "5/5 [==============================] - 0s 5ms/step - loss: 0.5963 - accuracy: 0.7800\n",
            "Epoch 362/500\n",
            "5/5 [==============================] - 0s 5ms/step - loss: 0.5938 - accuracy: 0.7400\n",
            "Epoch 363/500\n",
            "5/5 [==============================] - 0s 6ms/step - loss: 0.5975 - accuracy: 0.7200\n",
            "Epoch 364/500\n",
            "5/5 [==============================] - 0s 8ms/step - loss: 0.5955 - accuracy: 0.7600\n",
            "Epoch 365/500\n",
            "5/5 [==============================] - 0s 5ms/step - loss: 0.5765 - accuracy: 0.7400\n",
            "Epoch 366/500\n",
            "5/5 [==============================] - 0s 5ms/step - loss: 0.5958 - accuracy: 0.7200\n",
            "Epoch 367/500\n",
            "5/5 [==============================] - 0s 6ms/step - loss: 0.5906 - accuracy: 0.7400\n",
            "Epoch 368/500\n",
            "5/5 [==============================] - 0s 5ms/step - loss: 0.5904 - accuracy: 0.8000\n",
            "Epoch 369/500\n",
            "5/5 [==============================] - 0s 5ms/step - loss: 0.5870 - accuracy: 0.7800\n",
            "Epoch 370/500\n",
            "5/5 [==============================] - 0s 5ms/step - loss: 0.5907 - accuracy: 0.7600\n",
            "Epoch 371/500\n",
            "5/5 [==============================] - 0s 5ms/step - loss: 0.5817 - accuracy: 0.7600\n",
            "Epoch 372/500\n",
            "5/5 [==============================] - 0s 6ms/step - loss: 0.5871 - accuracy: 0.7200\n",
            "Epoch 373/500\n",
            "5/5 [==============================] - 0s 7ms/step - loss: 0.5793 - accuracy: 0.7400\n",
            "Epoch 374/500\n",
            "5/5 [==============================] - 0s 5ms/step - loss: 0.5766 - accuracy: 0.7400\n",
            "Epoch 375/500\n",
            "5/5 [==============================] - 0s 5ms/step - loss: 0.5891 - accuracy: 0.7600\n",
            "Epoch 376/500\n",
            "5/5 [==============================] - 0s 5ms/step - loss: 0.5924 - accuracy: 0.7800\n",
            "Epoch 377/500\n",
            "5/5 [==============================] - 0s 5ms/step - loss: 0.5785 - accuracy: 0.8000\n",
            "Epoch 378/500\n",
            "5/5 [==============================] - 0s 5ms/step - loss: 0.5898 - accuracy: 0.7400\n",
            "Epoch 379/500\n",
            "5/5 [==============================] - 0s 6ms/step - loss: 0.5819 - accuracy: 0.7600\n",
            "Epoch 380/500\n",
            "5/5 [==============================] - 0s 6ms/step - loss: 0.5776 - accuracy: 0.7400\n",
            "Epoch 381/500\n",
            "5/5 [==============================] - 0s 6ms/step - loss: 0.5803 - accuracy: 0.7800\n",
            "Epoch 382/500\n",
            "5/5 [==============================] - 0s 6ms/step - loss: 0.5821 - accuracy: 0.7800\n",
            "Epoch 383/500\n",
            "5/5 [==============================] - 0s 5ms/step - loss: 0.5692 - accuracy: 0.7400\n",
            "Epoch 384/500\n",
            "5/5 [==============================] - 0s 5ms/step - loss: 0.5732 - accuracy: 0.7800\n",
            "Epoch 385/500\n",
            "5/5 [==============================] - 0s 7ms/step - loss: 0.5853 - accuracy: 0.7400\n",
            "Epoch 386/500\n",
            "5/5 [==============================] - 0s 6ms/step - loss: 0.5768 - accuracy: 0.7600\n",
            "Epoch 387/500\n",
            "5/5 [==============================] - 0s 5ms/step - loss: 0.5776 - accuracy: 0.7400\n",
            "Epoch 388/500\n",
            "5/5 [==============================] - 0s 7ms/step - loss: 0.5724 - accuracy: 0.7400\n",
            "Epoch 389/500\n",
            "5/5 [==============================] - 0s 6ms/step - loss: 0.5729 - accuracy: 0.7600\n",
            "Epoch 390/500\n",
            "5/5 [==============================] - 0s 6ms/step - loss: 0.5763 - accuracy: 0.7600\n",
            "Epoch 391/500\n",
            "5/5 [==============================] - 0s 6ms/step - loss: 0.5743 - accuracy: 0.7800\n",
            "Epoch 392/500\n",
            "5/5 [==============================] - 0s 7ms/step - loss: 0.5755 - accuracy: 0.7800\n",
            "Epoch 393/500\n",
            "5/5 [==============================] - 0s 6ms/step - loss: 0.5850 - accuracy: 0.7600\n",
            "Epoch 394/500\n",
            "5/5 [==============================] - 0s 6ms/step - loss: 0.5942 - accuracy: 0.7400\n",
            "Epoch 395/500\n",
            "5/5 [==============================] - 0s 6ms/step - loss: 0.5671 - accuracy: 0.7600\n",
            "Epoch 396/500\n",
            "5/5 [==============================] - 0s 8ms/step - loss: 0.5963 - accuracy: 0.7600\n",
            "Epoch 397/500\n",
            "5/5 [==============================] - 0s 6ms/step - loss: 0.5672 - accuracy: 0.7800\n",
            "Epoch 398/500\n",
            "5/5 [==============================] - 0s 6ms/step - loss: 0.5815 - accuracy: 0.7600\n",
            "Epoch 399/500\n",
            "5/5 [==============================] - 0s 6ms/step - loss: 0.5682 - accuracy: 0.7800\n",
            "Epoch 400/500\n",
            "5/5 [==============================] - 0s 6ms/step - loss: 0.5703 - accuracy: 0.7600\n",
            "Epoch 401/500\n",
            "5/5 [==============================] - 0s 7ms/step - loss: 0.5656 - accuracy: 0.7800\n",
            "Epoch 402/500\n",
            "5/5 [==============================] - 0s 6ms/step - loss: 0.5748 - accuracy: 0.7600\n",
            "Epoch 403/500\n",
            "5/5 [==============================] - 0s 7ms/step - loss: 0.5740 - accuracy: 0.7600\n",
            "Epoch 404/500\n",
            "5/5 [==============================] - 0s 6ms/step - loss: 0.5793 - accuracy: 0.7800\n",
            "Epoch 405/500\n",
            "5/5 [==============================] - 0s 7ms/step - loss: 0.5842 - accuracy: 0.7400\n",
            "Epoch 406/500\n",
            "5/5 [==============================] - 0s 6ms/step - loss: 0.5605 - accuracy: 0.7800\n",
            "Epoch 407/500\n",
            "5/5 [==============================] - 0s 6ms/step - loss: 0.5765 - accuracy: 0.7600\n",
            "Epoch 408/500\n",
            "5/5 [==============================] - 0s 6ms/step - loss: 0.5838 - accuracy: 0.7200\n",
            "Epoch 409/500\n",
            "5/5 [==============================] - 0s 6ms/step - loss: 0.5707 - accuracy: 0.7200\n",
            "Epoch 410/500\n",
            "5/5 [==============================] - 0s 6ms/step - loss: 0.5643 - accuracy: 0.7600\n",
            "Epoch 411/500\n",
            "5/5 [==============================] - 0s 7ms/step - loss: 0.5741 - accuracy: 0.7800\n",
            "Epoch 412/500\n",
            "5/5 [==============================] - 0s 7ms/step - loss: 0.5780 - accuracy: 0.7600\n",
            "Epoch 413/500\n",
            "5/5 [==============================] - 0s 6ms/step - loss: 0.5759 - accuracy: 0.8000\n",
            "Epoch 414/500\n",
            "5/5 [==============================] - 0s 6ms/step - loss: 0.5588 - accuracy: 0.7800\n",
            "Epoch 415/500\n",
            "5/5 [==============================] - 0s 6ms/step - loss: 0.5653 - accuracy: 0.7800\n",
            "Epoch 416/500\n",
            "5/5 [==============================] - 0s 6ms/step - loss: 0.5671 - accuracy: 0.7800\n",
            "Epoch 417/500\n",
            "5/5 [==============================] - 0s 8ms/step - loss: 0.5636 - accuracy: 0.7200\n",
            "Epoch 418/500\n",
            "5/5 [==============================] - 0s 6ms/step - loss: 0.5867 - accuracy: 0.7200\n",
            "Epoch 419/500\n",
            "5/5 [==============================] - 0s 8ms/step - loss: 0.5559 - accuracy: 0.7800\n",
            "Epoch 420/500\n",
            "5/5 [==============================] - 0s 6ms/step - loss: 0.5669 - accuracy: 0.7600\n",
            "Epoch 421/500\n",
            "5/5 [==============================] - 0s 6ms/step - loss: 0.5639 - accuracy: 0.7800\n",
            "Epoch 422/500\n",
            "5/5 [==============================] - 0s 6ms/step - loss: 0.5582 - accuracy: 0.7400\n",
            "Epoch 423/500\n",
            "5/5 [==============================] - 0s 7ms/step - loss: 0.5633 - accuracy: 0.7600\n",
            "Epoch 424/500\n",
            "5/5 [==============================] - 0s 6ms/step - loss: 0.5594 - accuracy: 0.7200\n",
            "Epoch 425/500\n",
            "5/5 [==============================] - 0s 6ms/step - loss: 0.5577 - accuracy: 0.7400\n",
            "Epoch 426/500\n",
            "5/5 [==============================] - 0s 7ms/step - loss: 0.5529 - accuracy: 0.7400\n",
            "Epoch 427/500\n",
            "5/5 [==============================] - 0s 6ms/step - loss: 0.5660 - accuracy: 0.7800\n",
            "Epoch 428/500\n",
            "5/5 [==============================] - 0s 6ms/step - loss: 0.5505 - accuracy: 0.7600\n",
            "Epoch 429/500\n",
            "5/5 [==============================] - 0s 7ms/step - loss: 0.5593 - accuracy: 0.7800\n",
            "Epoch 430/500\n",
            "5/5 [==============================] - 0s 6ms/step - loss: 0.5650 - accuracy: 0.7800\n",
            "Epoch 431/500\n",
            "5/5 [==============================] - 0s 7ms/step - loss: 0.5545 - accuracy: 0.7600\n",
            "Epoch 432/500\n",
            "5/5 [==============================] - 0s 6ms/step - loss: 0.5780 - accuracy: 0.7400\n",
            "Epoch 433/500\n",
            "5/5 [==============================] - 0s 7ms/step - loss: 0.5572 - accuracy: 0.7400\n",
            "Epoch 434/500\n",
            "5/5 [==============================] - 0s 6ms/step - loss: 0.5652 - accuracy: 0.7600\n",
            "Epoch 435/500\n",
            "5/5 [==============================] - 0s 6ms/step - loss: 0.5641 - accuracy: 0.7600\n",
            "Epoch 436/500\n",
            "5/5 [==============================] - 0s 6ms/step - loss: 0.5567 - accuracy: 0.7800\n",
            "Epoch 437/500\n",
            "5/5 [==============================] - 0s 6ms/step - loss: 0.5611 - accuracy: 0.8000\n",
            "Epoch 438/500\n",
            "5/5 [==============================] - 0s 7ms/step - loss: 0.5602 - accuracy: 0.7600\n",
            "Epoch 439/500\n",
            "5/5 [==============================] - 0s 6ms/step - loss: 0.5568 - accuracy: 0.7600\n",
            "Epoch 440/500\n",
            "5/5 [==============================] - 0s 6ms/step - loss: 0.5669 - accuracy: 0.7400\n",
            "Epoch 441/500\n",
            "5/5 [==============================] - 0s 6ms/step - loss: 0.5862 - accuracy: 0.7200\n",
            "Epoch 442/500\n",
            "5/5 [==============================] - 0s 9ms/step - loss: 0.5606 - accuracy: 0.7800\n",
            "Epoch 443/500\n",
            "5/5 [==============================] - 0s 6ms/step - loss: 0.5693 - accuracy: 0.7400\n",
            "Epoch 444/500\n",
            "5/5 [==============================] - 0s 7ms/step - loss: 0.5643 - accuracy: 0.7000\n",
            "Epoch 445/500\n",
            "5/5 [==============================] - 0s 6ms/step - loss: 0.5560 - accuracy: 0.7600\n",
            "Epoch 446/500\n",
            "5/5 [==============================] - 0s 6ms/step - loss: 0.5715 - accuracy: 0.7600\n",
            "Epoch 447/500\n",
            "5/5 [==============================] - 0s 6ms/step - loss: 0.5542 - accuracy: 0.7400\n",
            "Epoch 448/500\n",
            "5/5 [==============================] - 0s 6ms/step - loss: 0.5504 - accuracy: 0.7400\n",
            "Epoch 449/500\n",
            "5/5 [==============================] - 0s 6ms/step - loss: 0.5784 - accuracy: 0.8000\n",
            "Epoch 450/500\n",
            "5/5 [==============================] - 0s 6ms/step - loss: 0.5579 - accuracy: 0.7600\n",
            "Epoch 451/500\n",
            "5/5 [==============================] - 0s 6ms/step - loss: 0.5570 - accuracy: 0.7800\n",
            "Epoch 452/500\n",
            "5/5 [==============================] - 0s 5ms/step - loss: 0.5490 - accuracy: 0.7600\n",
            "Epoch 453/500\n",
            "5/5 [==============================] - 0s 6ms/step - loss: 0.5621 - accuracy: 0.7800\n",
            "Epoch 454/500\n",
            "5/5 [==============================] - 0s 8ms/step - loss: 0.5617 - accuracy: 0.7600\n",
            "Epoch 455/500\n",
            "5/5 [==============================] - 0s 6ms/step - loss: 0.5526 - accuracy: 0.7600\n",
            "Epoch 456/500\n",
            "5/5 [==============================] - 0s 6ms/step - loss: 0.5562 - accuracy: 0.7600\n",
            "Epoch 457/500\n",
            "5/5 [==============================] - 0s 5ms/step - loss: 0.5621 - accuracy: 0.7600\n",
            "Epoch 458/500\n",
            "5/5 [==============================] - 0s 6ms/step - loss: 0.5527 - accuracy: 0.7800\n",
            "Epoch 459/500\n",
            "5/5 [==============================] - 0s 7ms/step - loss: 0.5450 - accuracy: 0.7800\n",
            "Epoch 460/500\n",
            "5/5 [==============================] - 0s 7ms/step - loss: 0.5504 - accuracy: 0.7800\n",
            "Epoch 461/500\n",
            "5/5 [==============================] - 0s 5ms/step - loss: 0.5472 - accuracy: 0.7800\n",
            "Epoch 462/500\n",
            "5/5 [==============================] - 0s 6ms/step - loss: 0.5480 - accuracy: 0.7800\n",
            "Epoch 463/500\n",
            "5/5 [==============================] - 0s 6ms/step - loss: 0.5453 - accuracy: 0.7800\n",
            "Epoch 464/500\n",
            "5/5 [==============================] - 0s 6ms/step - loss: 0.5639 - accuracy: 0.7400\n",
            "Epoch 465/500\n",
            "5/5 [==============================] - 0s 6ms/step - loss: 0.5612 - accuracy: 0.8000\n",
            "Epoch 466/500\n",
            "5/5 [==============================] - 0s 6ms/step - loss: 0.5820 - accuracy: 0.7400\n",
            "Epoch 467/500\n",
            "5/5 [==============================] - 0s 6ms/step - loss: 0.5535 - accuracy: 0.7400\n",
            "Epoch 468/500\n",
            "5/5 [==============================] - 0s 6ms/step - loss: 0.5461 - accuracy: 0.7600\n",
            "Epoch 469/500\n",
            "5/5 [==============================] - 0s 6ms/step - loss: 0.5585 - accuracy: 0.7600\n",
            "Epoch 470/500\n",
            "5/5 [==============================] - 0s 5ms/step - loss: 0.5480 - accuracy: 0.8000\n",
            "Epoch 471/500\n",
            "5/5 [==============================] - 0s 6ms/step - loss: 0.5419 - accuracy: 0.7400\n",
            "Epoch 472/500\n",
            "5/5 [==============================] - 0s 6ms/step - loss: 0.5557 - accuracy: 0.7400\n",
            "Epoch 473/500\n",
            "5/5 [==============================] - 0s 8ms/step - loss: 0.5379 - accuracy: 0.7800\n",
            "Epoch 474/500\n",
            "5/5 [==============================] - 0s 6ms/step - loss: 0.5565 - accuracy: 0.7600\n",
            "Epoch 475/500\n",
            "5/5 [==============================] - 0s 6ms/step - loss: 0.5451 - accuracy: 0.7800\n",
            "Epoch 476/500\n",
            "5/5 [==============================] - 0s 6ms/step - loss: 0.5502 - accuracy: 0.7600\n",
            "Epoch 477/500\n",
            "5/5 [==============================] - 0s 6ms/step - loss: 0.5535 - accuracy: 0.7600\n",
            "Epoch 478/500\n",
            "5/5 [==============================] - 0s 7ms/step - loss: 0.5515 - accuracy: 0.7800\n",
            "Epoch 479/500\n",
            "5/5 [==============================] - 0s 7ms/step - loss: 0.5544 - accuracy: 0.7600\n",
            "Epoch 480/500\n",
            "5/5 [==============================] - 0s 6ms/step - loss: 0.5365 - accuracy: 0.7800\n",
            "Epoch 481/500\n",
            "5/5 [==============================] - 0s 6ms/step - loss: 0.5908 - accuracy: 0.7600\n",
            "Epoch 482/500\n",
            "5/5 [==============================] - 0s 7ms/step - loss: 0.5716 - accuracy: 0.7600\n",
            "Epoch 483/500\n",
            "5/5 [==============================] - 0s 6ms/step - loss: 0.5545 - accuracy: 0.7400\n",
            "Epoch 484/500\n",
            "5/5 [==============================] - 0s 7ms/step - loss: 0.5612 - accuracy: 0.7400\n",
            "Epoch 485/500\n",
            "5/5 [==============================] - 0s 6ms/step - loss: 0.5298 - accuracy: 0.7800\n",
            "Epoch 486/500\n",
            "5/5 [==============================] - 0s 6ms/step - loss: 0.5523 - accuracy: 0.7800\n",
            "Epoch 487/500\n",
            "5/5 [==============================] - 0s 6ms/step - loss: 0.5363 - accuracy: 0.7600\n",
            "Epoch 488/500\n",
            "5/5 [==============================] - 0s 7ms/step - loss: 0.5495 - accuracy: 0.7600\n",
            "Epoch 489/500\n",
            "5/5 [==============================] - 0s 7ms/step - loss: 0.5403 - accuracy: 0.7800\n",
            "Epoch 490/500\n",
            "5/5 [==============================] - 0s 7ms/step - loss: 0.5454 - accuracy: 0.7400\n",
            "Epoch 491/500\n",
            "5/5 [==============================] - 0s 9ms/step - loss: 0.5496 - accuracy: 0.7800\n",
            "Epoch 492/500\n",
            "5/5 [==============================] - 0s 7ms/step - loss: 0.5310 - accuracy: 0.7800\n",
            "Epoch 493/500\n",
            "5/5 [==============================] - 0s 6ms/step - loss: 0.5401 - accuracy: 0.7000\n",
            "Epoch 494/500\n",
            "5/5 [==============================] - 0s 6ms/step - loss: 0.5527 - accuracy: 0.7800\n",
            "Epoch 495/500\n",
            "5/5 [==============================] - 0s 7ms/step - loss: 0.5358 - accuracy: 0.7800\n",
            "Epoch 496/500\n",
            "5/5 [==============================] - 0s 6ms/step - loss: 0.5511 - accuracy: 0.7200\n",
            "Epoch 497/500\n",
            "5/5 [==============================] - 0s 6ms/step - loss: 0.5297 - accuracy: 0.7600\n",
            "Epoch 498/500\n",
            "5/5 [==============================] - 0s 5ms/step - loss: 0.5543 - accuracy: 0.7600\n",
            "Epoch 499/500\n",
            "5/5 [==============================] - 0s 7ms/step - loss: 0.5663 - accuracy: 0.7400\n",
            "Epoch 500/500\n",
            "5/5 [==============================] - 0s 8ms/step - loss: 0.5324 - accuracy: 0.8000\n"
          ],
          "name": "stdout"
        }
      ]
    },
    {
      "cell_type": "code",
      "metadata": {
        "colab": {
          "base_uri": "https://localhost:8080/"
        },
        "id": "i5F2zN0WlgP3",
        "outputId": "1cc4ee4b-9813-4631-d3ad-50c30f8deeed"
      },
      "source": [
        "model.evaluate(X_train, y_train)"
      ],
      "execution_count": 25,
      "outputs": [
        {
          "output_type": "stream",
          "text": [
            "2/2 [==============================] - 0s 9ms/step - loss: 2.4822 - accuracy: 0.3400\n"
          ],
          "name": "stdout"
        },
        {
          "output_type": "execute_result",
          "data": {
            "text/plain": [
              "[2.4822003841400146, 0.3400000035762787]"
            ]
          },
          "metadata": {
            "tags": []
          },
          "execution_count": 25
        }
      ]
    },
    {
      "cell_type": "code",
      "metadata": {
        "colab": {
          "base_uri": "https://localhost:8080/"
        },
        "id": "0CQob1YMsXZm",
        "outputId": "a17465ca-cb4e-426b-af04-44eadbfae8c3"
      },
      "source": [
        "X_train[4:5]"
      ],
      "execution_count": 27,
      "outputs": [
        {
          "output_type": "execute_result",
          "data": {
            "text/plain": [
              "array([[[0.61538462],\n",
              "        [0.07692308],\n",
              "        [0.53846154]]])"
            ]
          },
          "metadata": {
            "tags": []
          },
          "execution_count": 27
        }
      ]
    },
    {
      "cell_type": "code",
      "metadata": {
        "colab": {
          "base_uri": "https://localhost:8080/"
        },
        "id": "m6rCe_Ksq9rO",
        "outputId": "d74de115-b27e-45b1-d675-1fa7b5a40fb5"
      },
      "source": [
        "model.predict(X_train[4:5])"
      ],
      "execution_count": 37,
      "outputs": [
        {
          "output_type": "execute_result",
          "data": {
            "text/plain": [
              "array([[2.4689932e-08, 7.0719524e-12, 9.2872951e-06, 5.2600529e-04,\n",
              "        8.0879897e-07, 1.1744355e-08, 3.0277519e-08, 2.9209603e-05,\n",
              "        4.0145326e-01, 5.9767890e-01, 3.0250812e-04, 1.7255264e-08,\n",
              "        3.2369794e-08]], dtype=float32)"
            ]
          },
          "metadata": {
            "tags": []
          },
          "execution_count": 37
        }
      ]
    },
    {
      "cell_type": "code",
      "metadata": {
        "id": "HgvqvHFwra79"
      },
      "source": [
        "first = 0.61538462\n",
        "second = 0.07692308\n",
        "third = 0.53846154"
      ],
      "execution_count": 28,
      "outputs": []
    },
    {
      "cell_type": "code",
      "metadata": {
        "id": "Pyto5Wkcshdn"
      },
      "source": [
        "pred = model.predict([[[first], [second], [third]]])"
      ],
      "execution_count": 29,
      "outputs": []
    },
    {
      "cell_type": "code",
      "metadata": {
        "colab": {
          "base_uri": "https://localhost:8080/"
        },
        "id": "_n5P2eX1ttSR",
        "outputId": "863c61de-300d-4e80-84dd-70103ce622f0"
      },
      "source": [
        "model.predict(X_train[0:1])"
      ],
      "execution_count": 38,
      "outputs": [
        {
          "output_type": "execute_result",
          "data": {
            "text/plain": [
              "array([[3.1393392e-07, 4.5634186e-04, 2.2331538e-02, 1.5414051e-05,\n",
              "        7.2888390e-05, 3.4985871e-07, 1.5126312e-07, 1.1565816e-03,\n",
              "        5.2222945e-03, 5.3228214e-02, 9.1119796e-01, 6.3177869e-03,\n",
              "        2.3297304e-07]], dtype=float32)"
            ]
          },
          "metadata": {
            "tags": []
          },
          "execution_count": 38
        }
      ]
    },
    {
      "cell_type": "code",
      "metadata": {
        "colab": {
          "base_uri": "https://localhost:8080/"
        },
        "id": "phGVZANWsrpO",
        "outputId": "d06749d0-21b8-464f-a6e4-0dbea4cbb376"
      },
      "source": [
        "np.argmax(pred)"
      ],
      "execution_count": 30,
      "outputs": [
        {
          "output_type": "execute_result",
          "data": {
            "text/plain": [
              "9"
            ]
          },
          "metadata": {
            "tags": []
          },
          "execution_count": 30
        }
      ]
    },
    {
      "cell_type": "code",
      "metadata": {
        "id": "MVuCvuPosulF"
      },
      "source": [
        "code2idx = {'c4':0, 'd4':1, 'e4':2, 'f4':3, 'g4':4, 'a4':5, 'b4':6,\n",
        "            'c8':7, 'd8':8, 'e8':9, 'f8':10, 'g8':11, 'a8':12, 'b8':13}"
      ],
      "execution_count": 31,
      "outputs": []
    },
    {
      "cell_type": "code",
      "metadata": {
        "id": "LpVtcSwAs5ru"
      },
      "source": [
        "note_seq = ['g8', 'e8', 'e4', 'f8', 'd8', 'd4', 'c8', 'd8', 'e8', 'f8', 'g8', 'g8', 'g4',\n",
        "       'g8', 'e8', 'e8', 'e8', 'f8', 'd8', 'd4', 'c8', 'e8', 'g8', 'g8', 'e8', 'e8', 'e4',\n",
        "       'd8', 'd8', 'd8', 'd8', 'd8', 'e8', 'f4', 'e8', 'e8', 'e8', 'e8', 'e8', 'f8', 'g4',\n",
        "       'g8', 'e8', 'e4', 'f8', 'd8', 'd4', 'c8', 'e8', 'g8', 'g8', 'e8', 'e8', 'e4']"
      ],
      "execution_count": null,
      "outputs": []
    }
  ]
}