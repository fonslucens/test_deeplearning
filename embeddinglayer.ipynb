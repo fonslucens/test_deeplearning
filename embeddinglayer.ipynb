{
  "nbformat": 4,
  "nbformat_minor": 0,
  "metadata": {
    "colab": {
      "name": "embeddinglayer.ipynb",
      "provenance": [],
      "authorship_tag": "ABX9TyPuIbIcF2BWDsmZKEfdQhCm",
      "include_colab_link": true
    },
    "kernelspec": {
      "name": "python3",
      "display_name": "Python 3"
    },
    "language_info": {
      "name": "python"
    }
  },
  "cells": [
    {
      "cell_type": "markdown",
      "metadata": {
        "id": "view-in-github",
        "colab_type": "text"
      },
      "source": [
        "<a href=\"https://colab.research.google.com/github/fonslucens/test_deeplearning/blob/master/embeddinglayer.ipynb\" target=\"_parent\"><img src=\"https://colab.research.google.com/assets/colab-badge.svg\" alt=\"Open In Colab\"/></a>"
      ]
    },
    {
      "cell_type": "code",
      "metadata": {
        "id": "223WJX6fnyLz"
      },
      "source": [
        "import tensorflow as tf"
      ],
      "execution_count": 3,
      "outputs": []
    },
    {
      "cell_type": "code",
      "metadata": {
        "colab": {
          "base_uri": "https://localhost:8080/"
        },
        "id": "JB-0knyzu9Ma",
        "outputId": "d43f74ca-9bcf-48b1-d401-4e5802cd37cf"
      },
      "source": [
        "import numpy as np\n",
        "x_data =  np.array([[4], [20]])\n",
        "x_data, x_data.shape"
      ],
      "execution_count": 4,
      "outputs": [
        {
          "output_type": "execute_result",
          "data": {
            "text/plain": [
              "(array([[ 4],\n",
              "        [20]]), (2, 1))"
            ]
          },
          "metadata": {
            "tags": []
          },
          "execution_count": 4
        }
      ]
    },
    {
      "cell_type": "code",
      "metadata": {
        "id": "T2qJXFnruwVX"
      },
      "source": [
        "model = tf.keras.Sequential()\n",
        "model.add(tf.keras.layers.Embedding(50,2, input_length=1))   # input layer\n",
        "# model.add()   # hidden layer\n",
        "# model.add()   # output layer\n",
        "\n",
        "model.compile(optimizer='adam', loss='mse',)"
      ],
      "execution_count": 5,
      "outputs": []
    },
    {
      "cell_type": "code",
      "metadata": {
        "colab": {
          "base_uri": "https://localhost:8080/"
        },
        "id": "2rOlww5Ju0iv",
        "outputId": "47870b0a-a0ff-418a-ebdf-dc9cd6c648a2"
      },
      "source": [
        "model.predict(x_data)"
      ],
      "execution_count": 6,
      "outputs": [
        {
          "output_type": "execute_result",
          "data": {
            "text/plain": [
              "array([[[-0.04510113,  0.0412465 ]],\n",
              "\n",
              "       [[-0.04539507, -0.0262948 ]]], dtype=float32)"
            ]
          },
          "metadata": {
            "tags": []
          },
          "execution_count": 6
        }
      ]
    },
    {
      "cell_type": "code",
      "metadata": {
        "id": "yco1nseyx7AF"
      },
      "source": [
        ""
      ],
      "execution_count": null,
      "outputs": []
    }
  ]
}