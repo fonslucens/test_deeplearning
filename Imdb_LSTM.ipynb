{
  "nbformat": 4,
  "nbformat_minor": 0,
  "metadata": {
    "colab": {
      "name": "Imdb_LSTM.ipynb",
      "provenance": [],
      "collapsed_sections": [],
      "authorship_tag": "ABX9TyNmJZ/3cIEI2vZvb7BQaI6z",
      "include_colab_link": true
    },
    "kernelspec": {
      "name": "python3",
      "display_name": "Python 3"
    },
    "language_info": {
      "name": "python"
    }
  },
  "cells": [
    {
      "cell_type": "markdown",
      "metadata": {
        "id": "view-in-github",
        "colab_type": "text"
      },
      "source": [
        "<a href=\"https://colab.research.google.com/github/fonslucens/test_deeplearning/blob/master/Imdb_LSTM.ipynb\" target=\"_parent\"><img src=\"https://colab.research.google.com/assets/colab-badge.svg\" alt=\"Open In Colab\"/></a>"
      ]
    },
    {
      "cell_type": "code",
      "metadata": {
        "id": "f8AbhCN-EPZt"
      },
      "source": [
        "import tensorflow as tf"
      ],
      "execution_count": 1,
      "outputs": []
    },
    {
      "cell_type": "code",
      "metadata": {
        "colab": {
          "base_uri": "https://localhost:8080/"
        },
        "id": "kALYfCIOOq_1",
        "outputId": "94a445ab-69d0-4cb9-f207-1b35f1bdfbe0"
      },
      "source": [
        "(x_train, y_train),(x_test, y_test) = tf.keras.datasets.imdb.load_data(num_words=10000)\n",
        "x_train.shape, y_train.shape,x_test.shape, y_test.shape"
      ],
      "execution_count": 2,
      "outputs": [
        {
          "output_type": "stream",
          "text": [
            "Downloading data from https://storage.googleapis.com/tensorflow/tf-keras-datasets/imdb.npz\n",
            "17465344/17464789 [==============================] - 0s 0us/step\n"
          ],
          "name": "stdout"
        },
        {
          "output_type": "stream",
          "text": [
            "<string>:6: VisibleDeprecationWarning: Creating an ndarray from ragged nested sequences (which is a list-or-tuple of lists-or-tuples-or ndarrays with different lengths or shapes) is deprecated. If you meant to do this, you must specify 'dtype=object' when creating the ndarray\n",
            "/usr/local/lib/python3.7/dist-packages/tensorflow/python/keras/datasets/imdb.py:155: VisibleDeprecationWarning: Creating an ndarray from ragged nested sequences (which is a list-or-tuple of lists-or-tuples-or ndarrays with different lengths or shapes) is deprecated. If you meant to do this, you must specify 'dtype=object' when creating the ndarray\n",
            "  x_train, y_train = np.array(xs[:idx]), np.array(labels[:idx])\n",
            "/usr/local/lib/python3.7/dist-packages/tensorflow/python/keras/datasets/imdb.py:156: VisibleDeprecationWarning: Creating an ndarray from ragged nested sequences (which is a list-or-tuple of lists-or-tuples-or ndarrays with different lengths or shapes) is deprecated. If you meant to do this, you must specify 'dtype=object' when creating the ndarray\n",
            "  x_test, y_test = np.array(xs[idx:]), np.array(labels[idx:])\n"
          ],
          "name": "stderr"
        },
        {
          "output_type": "execute_result",
          "data": {
            "text/plain": [
              "((25000,), (25000,), (25000,), (25000,))"
            ]
          },
          "metadata": {
            "tags": []
          },
          "execution_count": 2
        }
      ]
    },
    {
      "cell_type": "code",
      "metadata": {
        "colab": {
          "base_uri": "https://localhost:8080/"
        },
        "id": "U-_fcmowOsR7",
        "outputId": "c10fc138-2d75-4628-bf6f-f6e0821c1566"
      },
      "source": [
        "print(type(x_train))\n",
        "print(type(x_train[0]), x_train[0])"
      ],
      "execution_count": 3,
      "outputs": [
        {
          "output_type": "stream",
          "text": [
            "<class 'numpy.ndarray'>\n",
            "<class 'list'> [1, 14, 22, 16, 43, 530, 973, 1622, 1385, 65, 458, 4468, 66, 3941, 4, 173, 36, 256, 5, 25, 100, 43, 838, 112, 50, 670, 2, 9, 35, 480, 284, 5, 150, 4, 172, 112, 167, 2, 336, 385, 39, 4, 172, 4536, 1111, 17, 546, 38, 13, 447, 4, 192, 50, 16, 6, 147, 2025, 19, 14, 22, 4, 1920, 4613, 469, 4, 22, 71, 87, 12, 16, 43, 530, 38, 76, 15, 13, 1247, 4, 22, 17, 515, 17, 12, 16, 626, 18, 2, 5, 62, 386, 12, 8, 316, 8, 106, 5, 4, 2223, 5244, 16, 480, 66, 3785, 33, 4, 130, 12, 16, 38, 619, 5, 25, 124, 51, 36, 135, 48, 25, 1415, 33, 6, 22, 12, 215, 28, 77, 52, 5, 14, 407, 16, 82, 2, 8, 4, 107, 117, 5952, 15, 256, 4, 2, 7, 3766, 5, 723, 36, 71, 43, 530, 476, 26, 400, 317, 46, 7, 4, 2, 1029, 13, 104, 88, 4, 381, 15, 297, 98, 32, 2071, 56, 26, 141, 6, 194, 7486, 18, 4, 226, 22, 21, 134, 476, 26, 480, 5, 144, 30, 5535, 18, 51, 36, 28, 224, 92, 25, 104, 4, 226, 65, 16, 38, 1334, 88, 12, 16, 283, 5, 16, 4472, 113, 103, 32, 15, 16, 5345, 19, 178, 32]\n"
          ],
          "name": "stdout"
        }
      ]
    },
    {
      "cell_type": "code",
      "metadata": {
        "colab": {
          "base_uri": "https://localhost:8080/"
        },
        "id": "eeUsRuHmOtzK",
        "outputId": "3e44dbbd-974a-49bf-ddfc-9acf8533575e"
      },
      "source": [
        "len(x_train[0])"
      ],
      "execution_count": 4,
      "outputs": [
        {
          "output_type": "execute_result",
          "data": {
            "text/plain": [
              "218"
            ]
          },
          "metadata": {
            "tags": []
          },
          "execution_count": 4
        }
      ]
    },
    {
      "cell_type": "code",
      "metadata": {
        "colab": {
          "base_uri": "https://localhost:8080/"
        },
        "id": "ffP3ttw8OvrC",
        "outputId": "e2dc0c0c-a6da-42d3-b06d-6fc204c1e37a"
      },
      "source": [
        "(x_train_100, y_train_100),(x_test_100, y_test_100) = tf.keras.datasets.imdb.load_data(num_words=100)\n",
        "x_train_100.shape, y_train_100.shape,x_test_100.shape, y_test_100.shape"
      ],
      "execution_count": 5,
      "outputs": [
        {
          "output_type": "stream",
          "text": [
            "<string>:6: VisibleDeprecationWarning: Creating an ndarray from ragged nested sequences (which is a list-or-tuple of lists-or-tuples-or ndarrays with different lengths or shapes) is deprecated. If you meant to do this, you must specify 'dtype=object' when creating the ndarray\n",
            "/usr/local/lib/python3.7/dist-packages/tensorflow/python/keras/datasets/imdb.py:155: VisibleDeprecationWarning: Creating an ndarray from ragged nested sequences (which is a list-or-tuple of lists-or-tuples-or ndarrays with different lengths or shapes) is deprecated. If you meant to do this, you must specify 'dtype=object' when creating the ndarray\n",
            "  x_train, y_train = np.array(xs[:idx]), np.array(labels[:idx])\n",
            "/usr/local/lib/python3.7/dist-packages/tensorflow/python/keras/datasets/imdb.py:156: VisibleDeprecationWarning: Creating an ndarray from ragged nested sequences (which is a list-or-tuple of lists-or-tuples-or ndarrays with different lengths or shapes) is deprecated. If you meant to do this, you must specify 'dtype=object' when creating the ndarray\n",
            "  x_test, y_test = np.array(xs[idx:]), np.array(labels[idx:])\n"
          ],
          "name": "stderr"
        },
        {
          "output_type": "execute_result",
          "data": {
            "text/plain": [
              "((25000,), (25000,), (25000,), (25000,))"
            ]
          },
          "metadata": {
            "tags": []
          },
          "execution_count": 5
        }
      ]
    },
    {
      "cell_type": "code",
      "metadata": {
        "colab": {
          "base_uri": "https://localhost:8080/"
        },
        "id": "qvfKN2ngOwzL",
        "outputId": "bbf6346b-2af4-402d-c214-0cc2b3e89092"
      },
      "source": [
        "print(type(x_train_100[0]), x_train_100[0])"
      ],
      "execution_count": 6,
      "outputs": [
        {
          "output_type": "stream",
          "text": [
            "<class 'list'> [1, 14, 22, 16, 43, 2, 2, 2, 2, 65, 2, 2, 66, 2, 4, 2, 36, 2, 5, 25, 2, 43, 2, 2, 50, 2, 2, 9, 35, 2, 2, 5, 2, 4, 2, 2, 2, 2, 2, 2, 39, 4, 2, 2, 2, 17, 2, 38, 13, 2, 4, 2, 50, 16, 6, 2, 2, 19, 14, 22, 4, 2, 2, 2, 4, 22, 71, 87, 12, 16, 43, 2, 38, 76, 15, 13, 2, 4, 22, 17, 2, 17, 12, 16, 2, 18, 2, 5, 62, 2, 12, 8, 2, 8, 2, 5, 4, 2, 2, 16, 2, 66, 2, 33, 4, 2, 12, 16, 38, 2, 5, 25, 2, 51, 36, 2, 48, 25, 2, 33, 6, 22, 12, 2, 28, 77, 52, 5, 14, 2, 16, 82, 2, 8, 4, 2, 2, 2, 15, 2, 4, 2, 7, 2, 5, 2, 36, 71, 43, 2, 2, 26, 2, 2, 46, 7, 4, 2, 2, 13, 2, 88, 4, 2, 15, 2, 98, 32, 2, 56, 26, 2, 6, 2, 2, 18, 4, 2, 22, 21, 2, 2, 26, 2, 5, 2, 30, 2, 18, 51, 36, 28, 2, 92, 25, 2, 4, 2, 65, 16, 38, 2, 88, 12, 16, 2, 5, 16, 2, 2, 2, 32, 15, 16, 2, 19, 2, 32]\n"
          ],
          "name": "stdout"
        }
      ]
    },
    {
      "cell_type": "code",
      "metadata": {
        "colab": {
          "base_uri": "https://localhost:8080/"
        },
        "id": "3MRxHPtEOyTi",
        "outputId": "1bc5a160-d9a4-43df-a674-d1331bc5767a"
      },
      "source": [
        "print(type(y_train))\n",
        "print(type(y_train[0]), y_train[0:5])"
      ],
      "execution_count": 7,
      "outputs": [
        {
          "output_type": "stream",
          "text": [
            "<class 'numpy.ndarray'>\n",
            "<class 'numpy.int64'> [1 0 0 1 0]\n"
          ],
          "name": "stdout"
        }
      ]
    },
    {
      "cell_type": "code",
      "metadata": {
        "id": "qO3xObSHOzjq"
      },
      "source": [
        "import numpy as np"
      ],
      "execution_count": 8,
      "outputs": []
    },
    {
      "cell_type": "code",
      "metadata": {
        "colab": {
          "base_uri": "https://localhost:8080/"
        },
        "id": "HnqDnNeMO07J",
        "outputId": "5ed878f4-b908-48f5-b299-4248868c8395"
      },
      "source": [
        "np.unique(y_train)"
      ],
      "execution_count": 9,
      "outputs": [
        {
          "output_type": "execute_result",
          "data": {
            "text/plain": [
              "array([0, 1])"
            ]
          },
          "metadata": {
            "tags": []
          },
          "execution_count": 9
        }
      ]
    },
    {
      "cell_type": "code",
      "metadata": {
        "colab": {
          "base_uri": "https://localhost:8080/"
        },
        "id": "Og6zx7ugO10i",
        "outputId": "8e3b914c-1cef-454a-df0a-e1cdcd3162f4"
      },
      "source": [
        "word_index = tf.keras.datasets.imdb.get_word_index()\n",
        "# print(type(word_index), word_index)"
      ],
      "execution_count": 10,
      "outputs": [
        {
          "output_type": "stream",
          "text": [
            "Downloading data from https://storage.googleapis.com/tensorflow/tf-keras-datasets/imdb_word_index.json\n",
            "1646592/1641221 [==============================] - 0s 0us/step\n"
          ],
          "name": "stdout"
        }
      ]
    },
    {
      "cell_type": "code",
      "metadata": {
        "id": "y26xMyL2O3Ha"
      },
      "source": [
        "# word_index.items()"
      ],
      "execution_count": 11,
      "outputs": []
    },
    {
      "cell_type": "code",
      "metadata": {
        "id": "Lmh6-63fO4ML"
      },
      "source": [
        "invert_word_index = dict()\n",
        "\n",
        "for (key, value) in word_index.items():\n",
        "  invert_word_index[value] = key\n",
        "\n",
        "# print(invert_word_index)"
      ],
      "execution_count": 12,
      "outputs": []
    },
    {
      "cell_type": "code",
      "metadata": {
        "colab": {
          "base_uri": "https://localhost:8080/",
          "height": 179
        },
        "id": "41F74jBMO5Si",
        "outputId": "b2772e57-9e78-4047-a15e-3f26b8e9ba05"
      },
      "source": [
        "decode_str = str()\n",
        "\n",
        "for num in x_train[0]:\n",
        "\n",
        "  # print(num, invert_word_index[num])\n",
        "  decode_str = decode_str + invert_word_index[num]+' '\n",
        "\n",
        "decode_str"
      ],
      "execution_count": 13,
      "outputs": [
        {
          "output_type": "execute_result",
          "data": {
            "application/vnd.google.colaboratory.intrinsic+json": {
              "type": "string"
            },
            "text/plain": [
              "\"the as you with out themselves powerful lets loves their becomes reaching had journalist of lot from anyone to have after out atmosphere never more room and it so heart shows to years of every never going and help moments or of every chest visual movie except her was several of enough more with is now current film as you of mine potentially unfortunately of you than him that with out themselves her get for was camp of you movie sometimes movie that with scary but and to story wonderful that in seeing in character to of 70s musicians with heart had shadows they of here that with her serious to have does when from why what have critics they is you that isn't one will very to as itself with other and in of seen over landed for anyone of and br show's to whether from than out themselves history he name half some br of and odd was two most of mean for 1 any an boat she he should is thought frog but of script you not while history he heart to real at barrel but when from one bit then have two of script their with her nobody most that with wasn't to with armed acting watch an for with heartfelt film want an \""
            ]
          },
          "metadata": {
            "tags": []
          },
          "execution_count": 13
        }
      ]
    },
    {
      "cell_type": "code",
      "metadata": {
        "colab": {
          "base_uri": "https://localhost:8080/",
          "height": 107
        },
        "id": "YwSrSc9rO6vC",
        "outputId": "edfa39ca-f9c3-49ad-fe65-d9c5e12a4412"
      },
      "source": [
        "decode_str = str()\n",
        "\n",
        "for num in x_train[20]:\n",
        "\n",
        "  # print(num, invert_word_index[num])\n",
        "  decode_str = decode_str + invert_word_index[num]+' '\n",
        "\n",
        "decode_str"
      ],
      "execution_count": 14,
      "outputs": [
        {
          "output_type": "execute_result",
          "data": {
            "application/vnd.google.colaboratory.intrinsic+json": {
              "type": "string"
            },
            "text/plain": [
              "\"the running this lily movie and as monster do on it her do for have lost and to one in character that in of here out in can what that after also think entire to that end of using it her straight that horror keep who is during doing and silly of oscar he surprisingly not and still been of and to of love it mouth i i of and and horror in one will forth or of remarkably and br and and more nothing himself in at is four i've less this of script on i i was although as on in at her do for was mediocre its br of too i'm i i albums zany real thirty be yes this dramatic all city street of sense \""
            ]
          },
          "metadata": {
            "tags": []
          },
          "execution_count": 14
        }
      ]
    },
    {
      "cell_type": "code",
      "metadata": {
        "id": "K-ZZMphlO8F6"
      },
      "source": [
        "def f_decode_str(x_data):\n",
        "\n",
        "  decode_str = str()\n",
        "\n",
        "  for num in x_data:\n",
        "    # print(num, invert_word_index[num])\n",
        "    decode_str = decode_str + invert_word_index[num]+' '\n",
        "\n",
        "  return decode_str"
      ],
      "execution_count": 15,
      "outputs": []
    },
    {
      "cell_type": "code",
      "metadata": {
        "colab": {
          "base_uri": "https://localhost:8080/",
          "height": 107
        },
        "id": "vfcLIgB8O92C",
        "outputId": "600b4947-9af8-48e8-be54-2d22ef30ad06"
      },
      "source": [
        "f_decode_str(x_train[20])"
      ],
      "execution_count": 16,
      "outputs": [
        {
          "output_type": "execute_result",
          "data": {
            "application/vnd.google.colaboratory.intrinsic+json": {
              "type": "string"
            },
            "text/plain": [
              "\"the running this lily movie and as monster do on it her do for have lost and to one in character that in of here out in can what that after also think entire to that end of using it her straight that horror keep who is during doing and silly of oscar he surprisingly not and still been of and to of love it mouth i i of and and horror in one will forth or of remarkably and br and and more nothing himself in at is four i've less this of script on i i was although as on in at her do for was mediocre its br of too i'm i i albums zany real thirty be yes this dramatic all city street of sense \""
            ]
          },
          "metadata": {
            "tags": []
          },
          "execution_count": 16
        }
      ]
    },
    {
      "cell_type": "code",
      "metadata": {
        "colab": {
          "base_uri": "https://localhost:8080/",
          "height": 89
        },
        "id": "jYOSlvVZO-1i",
        "outputId": "757df95c-8b01-4871-8ca9-de273e5c7cbf"
      },
      "source": [
        "f_decode_str(x_train_100[20])"
      ],
      "execution_count": 17,
      "outputs": [
        {
          "output_type": "execute_result",
          "data": {
            "application/vnd.google.colaboratory.intrinsic+json": {
              "type": "string"
            },
            "text/plain": [
              "'the and this and movie and as and do on it her do for have and and to one in and that in of and out in can what that and also and and to that and of and it her and that and and who is and and and and of and he and not and and been of and to of and it and i i of and and and in one will and or of and and br and and more and and in at is and and and this of and on i i was and as on in at her do for was and its br of too and i i and and and and be and this and all and and of and '"
            ]
          },
          "metadata": {
            "tags": []
          },
          "execution_count": 17
        }
      ]
    },
    {
      "cell_type": "markdown",
      "metadata": {
        "id": "dFxYSFNEPBLA"
      },
      "source": [
        "# 데이터 전처리 작업"
      ]
    },
    {
      "cell_type": "code",
      "metadata": {
        "colab": {
          "base_uri": "https://localhost:8080/"
        },
        "id": "INrksHOPPAUK",
        "outputId": "97c60db5-830f-47f5-ace9-a66069e10d68"
      },
      "source": [
        "len(x_train[0]), len(x_train[50]) , len(x_train[500]), len(x_train[1000])"
      ],
      "execution_count": 18,
      "outputs": [
        {
          "output_type": "execute_result",
          "data": {
            "text/plain": [
              "(218, 113, 60, 298)"
            ]
          },
          "metadata": {
            "tags": []
          },
          "execution_count": 18
        }
      ]
    },
    {
      "cell_type": "code",
      "metadata": {
        "colab": {
          "base_uri": "https://localhost:8080/"
        },
        "id": "E_tPs30EPFBy",
        "outputId": "10ba9c38-c501-4fec-e6a9-e53729aa3513"
      },
      "source": [
        "pad_x_train = tf.keras.preprocessing.sequence.pad_sequences(x_train, maxlen=500)\n",
        "len(pad_x_train[500]), pad_x_train[500]"
      ],
      "execution_count": 19,
      "outputs": [
        {
          "output_type": "execute_result",
          "data": {
            "text/plain": [
              "(500, array([   0,    0,    0,    0,    0,    0,    0,    0,    0,    0,    0,\n",
              "           0,    0,    0,    0,    0,    0,    0,    0,    0,    0,    0,\n",
              "           0,    0,    0,    0,    0,    0,    0,    0,    0,    0,    0,\n",
              "           0,    0,    0,    0,    0,    0,    0,    0,    0,    0,    0,\n",
              "           0,    0,    0,    0,    0,    0,    0,    0,    0,    0,    0,\n",
              "           0,    0,    0,    0,    0,    0,    0,    0,    0,    0,    0,\n",
              "           0,    0,    0,    0,    0,    0,    0,    0,    0,    0,    0,\n",
              "           0,    0,    0,    0,    0,    0,    0,    0,    0,    0,    0,\n",
              "           0,    0,    0,    0,    0,    0,    0,    0,    0,    0,    0,\n",
              "           0,    0,    0,    0,    0,    0,    0,    0,    0,    0,    0,\n",
              "           0,    0,    0,    0,    0,    0,    0,    0,    0,    0,    0,\n",
              "           0,    0,    0,    0,    0,    0,    0,    0,    0,    0,    0,\n",
              "           0,    0,    0,    0,    0,    0,    0,    0,    0,    0,    0,\n",
              "           0,    0,    0,    0,    0,    0,    0,    0,    0,    0,    0,\n",
              "           0,    0,    0,    0,    0,    0,    0,    0,    0,    0,    0,\n",
              "           0,    0,    0,    0,    0,    0,    0,    0,    0,    0,    0,\n",
              "           0,    0,    0,    0,    0,    0,    0,    0,    0,    0,    0,\n",
              "           0,    0,    0,    0,    0,    0,    0,    0,    0,    0,    0,\n",
              "           0,    0,    0,    0,    0,    0,    0,    0,    0,    0,    0,\n",
              "           0,    0,    0,    0,    0,    0,    0,    0,    0,    0,    0,\n",
              "           0,    0,    0,    0,    0,    0,    0,    0,    0,    0,    0,\n",
              "           0,    0,    0,    0,    0,    0,    0,    0,    0,    0,    0,\n",
              "           0,    0,    0,    0,    0,    0,    0,    0,    0,    0,    0,\n",
              "           0,    0,    0,    0,    0,    0,    0,    0,    0,    0,    0,\n",
              "           0,    0,    0,    0,    0,    0,    0,    0,    0,    0,    0,\n",
              "           0,    0,    0,    0,    0,    0,    0,    0,    0,    0,    0,\n",
              "           0,    0,    0,    0,    0,    0,    0,    0,    0,    0,    0,\n",
              "           0,    0,    0,    0,    0,    0,    0,    0,    0,    0,    0,\n",
              "           0,    0,    0,    0,    0,    0,    0,    0,    0,    0,    0,\n",
              "           0,    0,    0,    0,    0,    0,    0,    0,    0,    0,    0,\n",
              "           0,    0,    0,    0,    0,    0,    0,    0,    0,    0,    0,\n",
              "           0,    0,    0,    0,    0,    0,    0,    0,    0,    0,    0,\n",
              "           0,    0,    0,    0,    0,    0,    0,    0,    0,    0,    0,\n",
              "           0,    0,    0,    0,    0,    0,    0,    0,    0,    0,    0,\n",
              "           0,    0,    0,    0,    0,    0,    0,    0,    0,    0,    0,\n",
              "           0,    0,    0,    0,    0,    0,    0,    0,    0,    0,    0,\n",
              "           0,    0,    0,    0,    0,    0,    0,    0,    0,    0,    0,\n",
              "           0,    0,    0,    0,    0,    0,    0,    0,    0,    0,    0,\n",
              "           0,    0,    0,    0,    0,    0,    0,    0,    0,    0,    0,\n",
              "           0,    0,    0,    0,    0,    0,    0,    0,    0,    0,    0,\n",
              "           1,    5,  198,  138,  254,    8,  967,   10,   10,   39,    4,\n",
              "        1158,  213,    7,  650, 7660, 1475,  213,    7,  650,   13,  215,\n",
              "         135,   13, 1583,  754, 2359,  133,  252,   50,    9,   49, 1104,\n",
              "         136,   32,    4, 1109,  304,  133, 1812,   21,   15,  191,  607,\n",
              "           4,  910,  552,    7,  229,    5,  226,   20,  198,  138,   10,\n",
              "          10,  241,   46,    7,  158], dtype=int32))"
            ]
          },
          "metadata": {
            "tags": []
          },
          "execution_count": 19
        }
      ]
    },
    {
      "cell_type": "code",
      "metadata": {
        "colab": {
          "base_uri": "https://localhost:8080/"
        },
        "id": "ToyagECzPHaq",
        "outputId": "4ffe339d-df45-4188-b333-f93f552f4c0d"
      },
      "source": [
        "np.unique(y_train) #Dense :1, activation:sigmoid, loss : binary_crossentropy"
      ],
      "execution_count": 20,
      "outputs": [
        {
          "output_type": "execute_result",
          "data": {
            "text/plain": [
              "array([0, 1])"
            ]
          },
          "metadata": {
            "tags": []
          },
          "execution_count": 20
        }
      ]
    },
    {
      "cell_type": "markdown",
      "metadata": {
        "id": "9R1NTVbhPLuh"
      },
      "source": [
        "# make model"
      ]
    },
    {
      "cell_type": "code",
      "metadata": {
        "id": "aGFYafLZPLOK"
      },
      "source": [
        "model = tf.keras.Sequential()"
      ],
      "execution_count": 21,
      "outputs": []
    },
    {
      "cell_type": "code",
      "metadata": {
        "id": "PxVH7TPwPO7K"
      },
      "source": [
        "model.add(tf.keras.layers.Embedding(input_dim = 10000 , output_dim = 24, input_length=500))"
      ],
      "execution_count": 22,
      "outputs": []
    },
    {
      "cell_type": "code",
      "metadata": {
        "id": "5XUL3FbSPP85"
      },
      "source": [
        "model.add(tf.keras.layers.LSTM(24, return_sequences=True, activation='tanh'))\n",
        "model.add(tf.keras.layers.LSTM(12, activation='tanh'))"
      ],
      "execution_count": 23,
      "outputs": []
    },
    {
      "cell_type": "code",
      "metadata": {
        "id": "V3z-bBdNPRBC"
      },
      "source": [
        "model.add(tf.keras.layers.Dense(1, activation= 'sigmoid'))"
      ],
      "execution_count": 24,
      "outputs": []
    },
    {
      "cell_type": "code",
      "metadata": {
        "id": "iSGtH9iBPSEh"
      },
      "source": [
        "model.compile(optimizer = 'adam',loss = 'binary_crossentropy' , metrics=['acc'])"
      ],
      "execution_count": 25,
      "outputs": []
    },
    {
      "cell_type": "code",
      "metadata": {
        "colab": {
          "base_uri": "https://localhost:8080/"
        },
        "id": "ybkN6-ldPTI5",
        "outputId": "47acf327-0b2d-4e9a-e466-84535c3f3f13"
      },
      "source": [
        "model.summary()"
      ],
      "execution_count": 26,
      "outputs": [
        {
          "output_type": "stream",
          "text": [
            "Model: \"sequential\"\n",
            "_________________________________________________________________\n",
            "Layer (type)                 Output Shape              Param #   \n",
            "=================================================================\n",
            "embedding (Embedding)        (None, 500, 24)           240000    \n",
            "_________________________________________________________________\n",
            "lstm (LSTM)                  (None, 500, 24)           4704      \n",
            "_________________________________________________________________\n",
            "lstm_1 (LSTM)                (None, 12)                1776      \n",
            "_________________________________________________________________\n",
            "dense (Dense)                (None, 1)                 13        \n",
            "=================================================================\n",
            "Total params: 246,493\n",
            "Trainable params: 246,493\n",
            "Non-trainable params: 0\n",
            "_________________________________________________________________\n"
          ],
          "name": "stdout"
        }
      ]
    },
    {
      "cell_type": "markdown",
      "metadata": {
        "id": "osCeioW5PVsC"
      },
      "source": [
        "# training"
      ]
    },
    {
      "cell_type": "code",
      "metadata": {
        "colab": {
          "base_uri": "https://localhost:8080/"
        },
        "id": "2RInp_8SPUMp",
        "outputId": "06119c9e-b22b-418b-8073-7e87db771828"
      },
      "source": [
        "his = model.fit(pad_x_train, y_train , epochs=100, validation_split=0.3, batch_size=256)"
      ],
      "execution_count": 27,
      "outputs": [
        {
          "output_type": "stream",
          "text": [
            "Epoch 1/100\n",
            "69/69 [==============================] - 56s 754ms/step - loss: 0.5874 - acc: 0.6880 - val_loss: 0.4460 - val_acc: 0.8041\n",
            "Epoch 2/100\n",
            "69/69 [==============================] - 51s 737ms/step - loss: 0.3305 - acc: 0.8738 - val_loss: 0.3477 - val_acc: 0.8583\n",
            "Epoch 3/100\n",
            "69/69 [==============================] - 51s 734ms/step - loss: 0.2295 - acc: 0.9226 - val_loss: 0.3142 - val_acc: 0.8733\n",
            "Epoch 4/100\n",
            "69/69 [==============================] - 51s 738ms/step - loss: 0.1780 - acc: 0.9447 - val_loss: 0.3292 - val_acc: 0.8691\n",
            "Epoch 5/100\n",
            "69/69 [==============================] - 51s 737ms/step - loss: 0.1362 - acc: 0.9607 - val_loss: 0.3470 - val_acc: 0.8748\n",
            "Epoch 6/100\n",
            "69/69 [==============================] - 51s 733ms/step - loss: 0.1117 - acc: 0.9696 - val_loss: 0.4026 - val_acc: 0.8719\n",
            "Epoch 7/100\n",
            "69/69 [==============================] - 51s 736ms/step - loss: 0.0956 - acc: 0.9753 - val_loss: 0.4221 - val_acc: 0.8508\n",
            "Epoch 8/100\n",
            "69/69 [==============================] - 51s 737ms/step - loss: 0.0914 - acc: 0.9755 - val_loss: 0.4361 - val_acc: 0.8660\n",
            "Epoch 9/100\n",
            "69/69 [==============================] - 51s 745ms/step - loss: 0.0741 - acc: 0.9811 - val_loss: 0.4619 - val_acc: 0.8713\n",
            "Epoch 10/100\n",
            "69/69 [==============================] - 52s 757ms/step - loss: 0.0653 - acc: 0.9845 - val_loss: 0.4935 - val_acc: 0.8627\n",
            "Epoch 11/100\n",
            "69/69 [==============================] - 51s 745ms/step - loss: 0.0583 - acc: 0.9870 - val_loss: 0.5035 - val_acc: 0.8623\n",
            "Epoch 12/100\n",
            "69/69 [==============================] - 51s 747ms/step - loss: 0.0504 - acc: 0.9897 - val_loss: 0.5099 - val_acc: 0.8669\n",
            "Epoch 13/100\n",
            "69/69 [==============================] - 52s 749ms/step - loss: 0.0505 - acc: 0.9893 - val_loss: 0.5289 - val_acc: 0.8564\n",
            "Epoch 14/100\n",
            "69/69 [==============================] - 51s 745ms/step - loss: 0.0590 - acc: 0.9849 - val_loss: 0.5053 - val_acc: 0.8625\n",
            "Epoch 15/100\n",
            "69/69 [==============================] - 51s 744ms/step - loss: 0.0588 - acc: 0.9854 - val_loss: 0.5541 - val_acc: 0.8552\n",
            "Epoch 16/100\n",
            "69/69 [==============================] - 51s 743ms/step - loss: 0.0545 - acc: 0.9866 - val_loss: 0.5456 - val_acc: 0.8607\n",
            "Epoch 17/100\n",
            "69/69 [==============================] - 52s 752ms/step - loss: 0.0439 - acc: 0.9906 - val_loss: 0.5740 - val_acc: 0.8519\n",
            "Epoch 18/100\n",
            "69/69 [==============================] - 51s 742ms/step - loss: 0.0365 - acc: 0.9925 - val_loss: 0.5521 - val_acc: 0.8652\n",
            "Epoch 19/100\n",
            "69/69 [==============================] - 51s 745ms/step - loss: 0.0335 - acc: 0.9932 - val_loss: 0.5951 - val_acc: 0.8537\n",
            "Epoch 20/100\n",
            "69/69 [==============================] - 52s 757ms/step - loss: 0.0360 - acc: 0.9917 - val_loss: 0.5676 - val_acc: 0.8663\n",
            "Epoch 21/100\n",
            "69/69 [==============================] - 51s 742ms/step - loss: 0.0519 - acc: 0.9860 - val_loss: 0.5088 - val_acc: 0.8579\n",
            "Epoch 22/100\n",
            "69/69 [==============================] - 51s 739ms/step - loss: 0.0389 - acc: 0.9898 - val_loss: 0.5691 - val_acc: 0.8659\n",
            "Epoch 23/100\n",
            "69/69 [==============================] - 51s 739ms/step - loss: 0.0267 - acc: 0.9948 - val_loss: 0.6077 - val_acc: 0.8616\n",
            "Epoch 24/100\n",
            "69/69 [==============================] - 51s 736ms/step - loss: 0.0208 - acc: 0.9965 - val_loss: 0.6347 - val_acc: 0.8628\n",
            "Epoch 25/100\n",
            "69/69 [==============================] - 51s 737ms/step - loss: 0.0231 - acc: 0.9958 - val_loss: 0.6439 - val_acc: 0.8620\n",
            "Epoch 26/100\n",
            "69/69 [==============================] - 51s 739ms/step - loss: 0.0232 - acc: 0.9949 - val_loss: 0.6806 - val_acc: 0.8628\n",
            "Epoch 27/100\n",
            "69/69 [==============================] - 51s 740ms/step - loss: 0.0231 - acc: 0.9951 - val_loss: 0.6576 - val_acc: 0.8637\n",
            "Epoch 28/100\n",
            "69/69 [==============================] - 51s 739ms/step - loss: 0.0232 - acc: 0.9952 - val_loss: 0.6364 - val_acc: 0.8576\n",
            "Epoch 29/100\n",
            "69/69 [==============================] - 51s 734ms/step - loss: 0.0184 - acc: 0.9968 - val_loss: 0.6712 - val_acc: 0.8569\n",
            "Epoch 30/100\n",
            "69/69 [==============================] - 51s 735ms/step - loss: 0.0217 - acc: 0.9951 - val_loss: 0.6496 - val_acc: 0.8604\n",
            "Epoch 31/100\n",
            "69/69 [==============================] - 50s 732ms/step - loss: 0.0194 - acc: 0.9961 - val_loss: 0.6802 - val_acc: 0.8628\n",
            "Epoch 32/100\n",
            "69/69 [==============================] - 51s 736ms/step - loss: 0.0150 - acc: 0.9977 - val_loss: 0.7092 - val_acc: 0.8588\n",
            "Epoch 33/100\n",
            "69/69 [==============================] - 50s 732ms/step - loss: 0.0141 - acc: 0.9978 - val_loss: 0.7082 - val_acc: 0.8619\n",
            "Epoch 34/100\n",
            "69/69 [==============================] - 51s 734ms/step - loss: 0.0131 - acc: 0.9977 - val_loss: 0.7148 - val_acc: 0.8625\n",
            "Epoch 35/100\n",
            "69/69 [==============================] - 51s 740ms/step - loss: 0.0124 - acc: 0.9982 - val_loss: 0.7483 - val_acc: 0.8612\n",
            "Epoch 36/100\n",
            "69/69 [==============================] - 51s 737ms/step - loss: 0.0119 - acc: 0.9983 - val_loss: 0.7462 - val_acc: 0.8569\n",
            "Epoch 37/100\n",
            "69/69 [==============================] - 51s 739ms/step - loss: 0.0116 - acc: 0.9983 - val_loss: 0.7644 - val_acc: 0.8607\n",
            "Epoch 38/100\n",
            "69/69 [==============================] - 51s 734ms/step - loss: 0.0143 - acc: 0.9975 - val_loss: 0.7422 - val_acc: 0.8628\n",
            "Epoch 39/100\n",
            "69/69 [==============================] - 51s 735ms/step - loss: 0.0314 - acc: 0.9915 - val_loss: 0.6579 - val_acc: 0.8607\n",
            "Epoch 40/100\n",
            "69/69 [==============================] - 50s 732ms/step - loss: 0.0292 - acc: 0.9930 - val_loss: 0.6648 - val_acc: 0.8575\n",
            "Epoch 41/100\n",
            "69/69 [==============================] - 50s 730ms/step - loss: 0.0208 - acc: 0.9947 - val_loss: 0.6662 - val_acc: 0.8561\n",
            "Epoch 42/100\n",
            "69/69 [==============================] - 51s 740ms/step - loss: 0.0191 - acc: 0.9956 - val_loss: 0.6769 - val_acc: 0.8632\n",
            "Epoch 43/100\n",
            "69/69 [==============================] - 51s 734ms/step - loss: 0.0179 - acc: 0.9963 - val_loss: 0.7143 - val_acc: 0.8541\n",
            "Epoch 44/100\n",
            "69/69 [==============================] - 50s 730ms/step - loss: 0.0209 - acc: 0.9951 - val_loss: 0.6884 - val_acc: 0.8589\n",
            "Epoch 45/100\n",
            "69/69 [==============================] - 51s 734ms/step - loss: 0.0148 - acc: 0.9973 - val_loss: 0.7151 - val_acc: 0.8612\n",
            "Epoch 46/100\n",
            "69/69 [==============================] - 50s 732ms/step - loss: 0.0122 - acc: 0.9981 - val_loss: 0.7424 - val_acc: 0.8643\n",
            "Epoch 47/100\n",
            "69/69 [==============================] - 50s 731ms/step - loss: 0.0128 - acc: 0.9977 - val_loss: 0.7546 - val_acc: 0.8629\n",
            "Epoch 48/100\n",
            "69/69 [==============================] - 50s 733ms/step - loss: 0.0114 - acc: 0.9982 - val_loss: 0.7714 - val_acc: 0.8577\n",
            "Epoch 49/100\n",
            "69/69 [==============================] - 50s 730ms/step - loss: 0.0098 - acc: 0.9986 - val_loss: 0.7891 - val_acc: 0.8600\n",
            "Epoch 50/100\n",
            "69/69 [==============================] - 50s 730ms/step - loss: 0.0095 - acc: 0.9986 - val_loss: 0.7982 - val_acc: 0.8604\n",
            "Epoch 51/100\n",
            "69/69 [==============================] - 50s 730ms/step - loss: 0.0093 - acc: 0.9986 - val_loss: 0.8043 - val_acc: 0.8591\n",
            "Epoch 52/100\n",
            "69/69 [==============================] - 51s 734ms/step - loss: 0.0092 - acc: 0.9987 - val_loss: 0.8160 - val_acc: 0.8593\n",
            "Epoch 53/100\n",
            "69/69 [==============================] - 51s 734ms/step - loss: 0.0091 - acc: 0.9987 - val_loss: 0.8193 - val_acc: 0.8593\n",
            "Epoch 54/100\n",
            "69/69 [==============================] - 51s 740ms/step - loss: 0.0091 - acc: 0.9987 - val_loss: 0.8247 - val_acc: 0.8593\n",
            "Epoch 55/100\n",
            "69/69 [==============================] - 51s 740ms/step - loss: 0.0091 - acc: 0.9987 - val_loss: 0.8382 - val_acc: 0.8593\n",
            "Epoch 56/100\n",
            "69/69 [==============================] - 51s 734ms/step - loss: 0.0090 - acc: 0.9987 - val_loss: 0.8362 - val_acc: 0.8596\n",
            "Epoch 57/100\n",
            "69/69 [==============================] - 51s 736ms/step - loss: 0.0090 - acc: 0.9987 - val_loss: 0.8453 - val_acc: 0.8605\n",
            "Epoch 58/100\n",
            "69/69 [==============================] - 50s 730ms/step - loss: 0.0089 - acc: 0.9987 - val_loss: 0.8483 - val_acc: 0.8607\n",
            "Epoch 59/100\n",
            "69/69 [==============================] - 50s 731ms/step - loss: 0.0089 - acc: 0.9987 - val_loss: 0.8566 - val_acc: 0.8607\n",
            "Epoch 60/100\n",
            "69/69 [==============================] - 50s 727ms/step - loss: 0.0089 - acc: 0.9987 - val_loss: 0.8628 - val_acc: 0.8615\n",
            "Epoch 61/100\n",
            "69/69 [==============================] - 50s 731ms/step - loss: 0.0088 - acc: 0.9987 - val_loss: 0.8671 - val_acc: 0.8615\n",
            "Epoch 62/100\n",
            "69/69 [==============================] - 51s 733ms/step - loss: 0.0088 - acc: 0.9987 - val_loss: 0.8725 - val_acc: 0.8611\n",
            "Epoch 63/100\n",
            "69/69 [==============================] - 51s 733ms/step - loss: 0.0087 - acc: 0.9987 - val_loss: 0.8793 - val_acc: 0.8603\n",
            "Epoch 64/100\n",
            "69/69 [==============================] - 51s 736ms/step - loss: 0.0087 - acc: 0.9987 - val_loss: 0.8811 - val_acc: 0.8600\n",
            "Epoch 65/100\n",
            "69/69 [==============================] - 51s 738ms/step - loss: 0.0086 - acc: 0.9987 - val_loss: 0.8897 - val_acc: 0.8600\n",
            "Epoch 66/100\n",
            "69/69 [==============================] - 50s 731ms/step - loss: 0.0331 - acc: 0.9921 - val_loss: 0.6406 - val_acc: 0.8417\n",
            "Epoch 67/100\n",
            "69/69 [==============================] - 50s 732ms/step - loss: 0.0421 - acc: 0.9874 - val_loss: 0.6252 - val_acc: 0.8511\n",
            "Epoch 68/100\n",
            "69/69 [==============================] - 50s 726ms/step - loss: 0.0224 - acc: 0.9945 - val_loss: 0.6824 - val_acc: 0.8639\n",
            "Epoch 69/100\n",
            "69/69 [==============================] - 51s 734ms/step - loss: 0.0144 - acc: 0.9970 - val_loss: 0.7324 - val_acc: 0.8535\n",
            "Epoch 70/100\n",
            "69/69 [==============================] - 51s 735ms/step - loss: 0.0128 - acc: 0.9976 - val_loss: 0.7709 - val_acc: 0.8587\n",
            "Epoch 71/100\n",
            "69/69 [==============================] - 51s 738ms/step - loss: 0.0160 - acc: 0.9961 - val_loss: 0.7768 - val_acc: 0.8595\n",
            "Epoch 72/100\n",
            "69/69 [==============================] - 51s 736ms/step - loss: 0.0093 - acc: 0.9984 - val_loss: 0.7730 - val_acc: 0.8573\n",
            "Epoch 73/100\n",
            "69/69 [==============================] - 51s 737ms/step - loss: 0.0102 - acc: 0.9976 - val_loss: 0.7620 - val_acc: 0.8528\n",
            "Epoch 74/100\n",
            "69/69 [==============================] - 51s 747ms/step - loss: 0.0071 - acc: 0.9987 - val_loss: 0.8224 - val_acc: 0.8560\n",
            "Epoch 75/100\n",
            "69/69 [==============================] - 51s 744ms/step - loss: 0.0063 - acc: 0.9990 - val_loss: 0.8318 - val_acc: 0.8588\n",
            "Epoch 76/100\n",
            "69/69 [==============================] - 51s 739ms/step - loss: 0.0060 - acc: 0.9990 - val_loss: 0.8478 - val_acc: 0.8572\n",
            "Epoch 77/100\n",
            "69/69 [==============================] - 51s 736ms/step - loss: 0.0054 - acc: 0.9991 - val_loss: 0.8586 - val_acc: 0.8584\n",
            "Epoch 78/100\n",
            "69/69 [==============================] - 51s 744ms/step - loss: 0.0060 - acc: 0.9989 - val_loss: 0.8571 - val_acc: 0.8504\n",
            "Epoch 79/100\n",
            "69/69 [==============================] - 51s 737ms/step - loss: 0.0522 - acc: 0.9837 - val_loss: 0.6962 - val_acc: 0.8511\n",
            "Epoch 80/100\n",
            "69/69 [==============================] - 51s 738ms/step - loss: 0.0187 - acc: 0.9954 - val_loss: 0.7308 - val_acc: 0.8525\n",
            "Epoch 81/100\n",
            "69/69 [==============================] - 51s 741ms/step - loss: 0.0062 - acc: 0.9990 - val_loss: 0.7873 - val_acc: 0.8549\n",
            "Epoch 82/100\n",
            "69/69 [==============================] - 51s 741ms/step - loss: 0.0052 - acc: 0.9991 - val_loss: 0.8486 - val_acc: 0.8579\n",
            "Epoch 83/100\n",
            "69/69 [==============================] - 51s 743ms/step - loss: 0.0046 - acc: 0.9993 - val_loss: 0.8566 - val_acc: 0.8572\n",
            "Epoch 84/100\n",
            "69/69 [==============================] - 51s 744ms/step - loss: 0.0041 - acc: 0.9993 - val_loss: 0.8704 - val_acc: 0.8576\n",
            "Epoch 85/100\n",
            "69/69 [==============================] - 51s 744ms/step - loss: 0.0038 - acc: 0.9994 - val_loss: 0.8750 - val_acc: 0.8572\n",
            "Epoch 86/100\n",
            "69/69 [==============================] - 51s 745ms/step - loss: 0.0035 - acc: 0.9994 - val_loss: 0.8994 - val_acc: 0.8572\n",
            "Epoch 87/100\n",
            "69/69 [==============================] - 51s 742ms/step - loss: 0.0031 - acc: 0.9995 - val_loss: 0.8963 - val_acc: 0.8577\n",
            "Epoch 88/100\n",
            "69/69 [==============================] - 51s 740ms/step - loss: 0.0029 - acc: 0.9995 - val_loss: 0.9064 - val_acc: 0.8576\n",
            "Epoch 89/100\n",
            "69/69 [==============================] - 51s 736ms/step - loss: 0.0027 - acc: 0.9995 - val_loss: 0.8970 - val_acc: 0.8581\n",
            "Epoch 90/100\n",
            "69/69 [==============================] - 51s 746ms/step - loss: 0.0041 - acc: 0.9987 - val_loss: 1.0242 - val_acc: 0.8297\n",
            "Epoch 91/100\n",
            "69/69 [==============================] - 51s 735ms/step - loss: 0.0207 - acc: 0.9943 - val_loss: 0.7593 - val_acc: 0.8508\n",
            "Epoch 92/100\n",
            "69/69 [==============================] - 51s 738ms/step - loss: 0.0092 - acc: 0.9978 - val_loss: 0.8252 - val_acc: 0.8492\n",
            "Epoch 93/100\n",
            "69/69 [==============================] - 51s 737ms/step - loss: 0.0036 - acc: 0.9995 - val_loss: 0.9059 - val_acc: 0.8531\n",
            "Epoch 94/100\n",
            "69/69 [==============================] - 51s 733ms/step - loss: 0.0024 - acc: 0.9995 - val_loss: 0.9935 - val_acc: 0.8500\n",
            "Epoch 95/100\n",
            "69/69 [==============================] - 50s 731ms/step - loss: 0.0126 - acc: 0.9968 - val_loss: 1.0510 - val_acc: 0.8247\n",
            "Epoch 96/100\n",
            "69/69 [==============================] - 51s 733ms/step - loss: 0.0269 - acc: 0.9917 - val_loss: 0.7132 - val_acc: 0.8559\n",
            "Epoch 97/100\n",
            "69/69 [==============================] - 51s 736ms/step - loss: 0.0082 - acc: 0.9977 - val_loss: 0.8454 - val_acc: 0.8575\n",
            "Epoch 98/100\n",
            "69/69 [==============================] - 51s 736ms/step - loss: 0.0028 - acc: 0.9995 - val_loss: 0.8645 - val_acc: 0.8547\n",
            "Epoch 99/100\n",
            "69/69 [==============================] - 51s 736ms/step - loss: 0.0283 - acc: 0.9917 - val_loss: 0.8196 - val_acc: 0.8544\n",
            "Epoch 100/100\n",
            "69/69 [==============================] - 50s 730ms/step - loss: 0.0036 - acc: 0.9992 - val_loss: 0.8578 - val_acc: 0.8547\n"
          ],
          "name": "stdout"
        }
      ]
    },
    {
      "cell_type": "markdown",
      "metadata": {
        "id": "FeYeu-riPaJF"
      },
      "source": [
        "# evaluation"
      ]
    },
    {
      "cell_type": "code",
      "metadata": {
        "colab": {
          "base_uri": "https://localhost:8080/"
        },
        "id": "h16lcAIZPX65",
        "outputId": "8377d199-f8ef-4e4f-fda3-c2938bdbfa7a"
      },
      "source": [
        "model.evaluate(pad_x_train, y_train)"
      ],
      "execution_count": 28,
      "outputs": [
        {
          "output_type": "stream",
          "text": [
            "782/782 [==============================] - 49s 63ms/step - loss: 0.2584 - acc: 0.9562\n"
          ],
          "name": "stdout"
        },
        {
          "output_type": "execute_result",
          "data": {
            "text/plain": [
              "[0.25843656063079834, 0.9562399983406067]"
            ]
          },
          "metadata": {
            "tags": []
          },
          "execution_count": 28
        }
      ]
    },
    {
      "cell_type": "code",
      "metadata": {
        "id": "vSpXf5N5PdOg"
      },
      "source": [
        "# len(x_test[20])"
      ],
      "execution_count": 29,
      "outputs": []
    },
    {
      "cell_type": "code",
      "metadata": {
        "id": "EHOTJv07PelI"
      },
      "source": [
        "pad_x_test = tf.keras.preprocessing.sequence.pad_sequences(x_test, maxlen=500)"
      ],
      "execution_count": 30,
      "outputs": []
    },
    {
      "cell_type": "code",
      "metadata": {
        "colab": {
          "base_uri": "https://localhost:8080/"
        },
        "id": "Lth35_inPgGy",
        "outputId": "cb89d57d-16b4-40bf-b213-c871fd032d73"
      },
      "source": [
        "len(pad_x_test[20])"
      ],
      "execution_count": 31,
      "outputs": [
        {
          "output_type": "execute_result",
          "data": {
            "text/plain": [
              "500"
            ]
          },
          "metadata": {
            "tags": []
          },
          "execution_count": 31
        }
      ]
    },
    {
      "cell_type": "code",
      "metadata": {
        "colab": {
          "base_uri": "https://localhost:8080/"
        },
        "id": "tNzcUsCTPhfo",
        "outputId": "185e5f36-bb5c-4b10-d66f-e61e97c8c1f6"
      },
      "source": [
        "model.evaluate(pad_x_test)"
      ],
      "execution_count": 32,
      "outputs": [
        {
          "output_type": "stream",
          "text": [
            "782/782 [==============================] - 3s 2ms/step - loss: 0.0000e+00 - acc: 0.0000e+00\n"
          ],
          "name": "stdout"
        },
        {
          "output_type": "execute_result",
          "data": {
            "text/plain": [
              "[0.0, 0.0]"
            ]
          },
          "metadata": {
            "tags": []
          },
          "execution_count": 32
        }
      ]
    },
    {
      "cell_type": "code",
      "metadata": {
        "colab": {
          "base_uri": "https://localhost:8080/",
          "height": 265
        },
        "id": "E_5wUGHEPicZ",
        "outputId": "bed3ba48-63e0-49be-8cc0-9f1e92d95905"
      },
      "source": [
        "import matplotlib.pyplot as plt\n",
        "\n",
        "plt.plot(his.history['loss'])\n",
        "plt.plot(his.history['val_loss'])\n",
        "plt.show()"
      ],
      "execution_count": 33,
      "outputs": [
        {
          "output_type": "display_data",
          "data": {
            "image/png": "[encoded data removed]",
            "text/plain": [
              "<Figure size 432x288 with 1 Axes>"
            ]
          },
          "metadata": {
            "tags": [],
            "needs_background": "light"
          }
        }
      ]
    },
    {
      "cell_type": "code",
      "metadata": {
        "id": "dcmy8zRhPj2p"
      },
      "source": [
        ""
      ],
      "execution_count": null,
      "outputs": []
    }
  ]
}