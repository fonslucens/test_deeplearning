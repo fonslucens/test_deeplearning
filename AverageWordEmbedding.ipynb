{
  "nbformat": 4,
  "nbformat_minor": 0,
  "metadata": {
    "colab": {
      "name": "AverageWordEmbedding.ipynb",
      "provenance": [],
      "authorship_tag": "ABX9TyNDbW1gxRto9ppbfKCqubhk",
      "include_colab_link": true
    },
    "kernelspec": {
      "name": "python3",
      "display_name": "Python 3"
    },
    "language_info": {
      "name": "python"
    }
  },
  "cells": [
    {
      "cell_type": "markdown",
      "metadata": {
        "id": "view-in-github",
        "colab_type": "text"
      },
      "source": [
        "<a href=\"https://colab.research.google.com/github/fonslucens/test_deeplearning/blob/master/AverageWordEmbedding.ipynb\" target=\"_parent\"><img src=\"https://colab.research.google.com/assets/colab-badge.svg\" alt=\"Open In Colab\"/></a>"
      ]
    },
    {
      "cell_type": "code",
      "metadata": {
        "id": "qbT1hDQJ8iqB"
      },
      "source": [
        "from tensorflow.keras.datasets import imdb"
      ],
      "execution_count": 1,
      "outputs": []
    },
    {
      "cell_type": "code",
      "metadata": {
        "colab": {
          "base_uri": "https://localhost:8080/"
        },
        "id": "v7BGH99O98tF",
        "outputId": "18447114-efca-4b43-f8e6-24fd6dcf123a"
      },
      "source": [
        "vocab_size = 2000\n",
        "(x_train, y_train), (x_test, y_test)= imdb.load_data(num_words=vocab_size)\n",
        "x_train.shape, y_train.shape, x_test.shape, y_test.shape"
      ],
      "execution_count": 2,
      "outputs": [
        {
          "output_type": "stream",
          "text": [
            "Downloading data from https://storage.googleapis.com/tensorflow/tf-keras-datasets/imdb.npz\n",
            "17465344/17464789 [==============================] - 0s 0us/step\n",
            "17473536/17464789 [==============================] - 0s 0us/step\n"
          ],
          "name": "stdout"
        },
        {
          "output_type": "execute_result",
          "data": {
            "text/plain": [
              "((25000,), (25000,), (25000,), (25000,))"
            ]
          },
          "metadata": {},
          "execution_count": 2
        }
      ]
    },
    {
      "cell_type": "code",
      "metadata": {
        "colab": {
          "base_uri": "https://localhost:8080/"
        },
        "id": "VF_oNbRv-To7",
        "outputId": "0691e21f-fbac-4de5-920b-944d660dadac"
      },
      "source": [
        "print(x_train[1])"
      ],
      "execution_count": 3,
      "outputs": [
        {
          "output_type": "stream",
          "text": [
            "[1, 194, 1153, 194, 2, 78, 228, 5, 6, 1463, 2, 2, 134, 26, 4, 715, 8, 118, 1634, 14, 394, 20, 13, 119, 954, 189, 102, 5, 207, 110, 2, 21, 14, 69, 188, 8, 30, 23, 7, 4, 249, 126, 93, 4, 114, 9, 2, 1523, 5, 647, 4, 116, 9, 35, 2, 4, 229, 9, 340, 1322, 4, 118, 9, 4, 130, 2, 19, 4, 1002, 5, 89, 29, 952, 46, 37, 4, 455, 9, 45, 43, 38, 1543, 1905, 398, 4, 1649, 26, 2, 5, 163, 11, 2, 2, 4, 1153, 9, 194, 775, 7, 2, 2, 349, 2, 148, 605, 2, 2, 15, 123, 125, 68, 2, 2, 15, 349, 165, 2, 98, 5, 4, 228, 9, 43, 2, 1157, 15, 299, 120, 5, 120, 174, 11, 220, 175, 136, 50, 9, 2, 228, 2, 5, 2, 656, 245, 2, 5, 4, 2, 131, 152, 491, 18, 2, 32, 2, 1212, 14, 9, 6, 371, 78, 22, 625, 64, 1382, 9, 8, 168, 145, 23, 4, 1690, 15, 16, 4, 1355, 5, 28, 6, 52, 154, 462, 33, 89, 78, 285, 16, 145, 95]\n"
          ],
          "name": "stdout"
        }
      ]
    },
    {
      "cell_type": "code",
      "metadata": {
        "colab": {
          "base_uri": "https://localhost:8080/"
        },
        "id": "Aact5Jsl-Vr0",
        "outputId": "ae9b87d8-2c80-4c23-cf9f-826412201a76"
      },
      "source": [
        "len(x_train[1]), len(x_train[200])"
      ],
      "execution_count": 4,
      "outputs": [
        {
          "output_type": "execute_result",
          "data": {
            "text/plain": [
              "(189, 160)"
            ]
          },
          "metadata": {},
          "execution_count": 4
        }
      ]
    },
    {
      "cell_type": "code",
      "metadata": {
        "id": "xJlCe8J4-Zkj"
      },
      "source": [
        "from tensorflow.keras.preprocessing.sequence import pad_sequences"
      ],
      "execution_count": 5,
      "outputs": []
    },
    {
      "cell_type": "code",
      "metadata": {
        "id": "4reqduUu-fRb"
      },
      "source": [
        "X_train = pad_sequences(x_train, maxlen=300)"
      ],
      "execution_count": 6,
      "outputs": []
    },
    {
      "cell_type": "code",
      "metadata": {
        "colab": {
          "base_uri": "https://localhost:8080/"
        },
        "id": "VTjdHbtBAMuC",
        "outputId": "bfafcc69-2bfa-4665-ab26-d82fbe35fa31"
      },
      "source": [
        "import numpy as np\n",
        "np.unique(y_train)"
      ],
      "execution_count": 8,
      "outputs": [
        {
          "output_type": "execute_result",
          "data": {
            "text/plain": [
              "array([0, 1])"
            ]
          },
          "metadata": {},
          "execution_count": 8
        }
      ]
    },
    {
      "cell_type": "code",
      "metadata": {
        "id": "VWgV7M_v_mYx"
      },
      "source": [
        "import tensorflow as tf"
      ],
      "execution_count": 7,
      "outputs": []
    },
    {
      "cell_type": "code",
      "metadata": {
        "id": "DYxeMNzr_qFw"
      },
      "source": [
        "model = tf.keras.models.Sequential()\n",
        "\n",
        "model.add(tf.keras.layers.Embedding(input_dim=vocab_size, output_dim=50, input_length=300)) #input\n",
        "model.add(tf.keras.layers.GlobalAveragePooling1D()) #hidden\n",
        "model.add(tf.keras.layers.Dense(1, activation='sigmoid')) #output\n",
        "\n",
        "model.compile(optimizer='adam', loss='binary_crossentropy')"
      ],
      "execution_count": 9,
      "outputs": []
    },
    {
      "cell_type": "code",
      "metadata": {
        "colab": {
          "base_uri": "https://localhost:8080/"
        },
        "id": "fCXZMTaHBNw9",
        "outputId": "5fc11a2b-470c-4b19-96aa-5568f46bb44c"
      },
      "source": [
        "hist = model.fit(X_train, y_train, epochs=10, batch_size=128, validation_split=0.2)"
      ],
      "execution_count": 10,
      "outputs": [
        {
          "output_type": "stream",
          "text": [
            "Epoch 1/10\n",
            "157/157 [==============================] - 2s 10ms/step - loss: 0.6818 - val_loss: 0.6608\n",
            "Epoch 2/10\n",
            "157/157 [==============================] - 1s 9ms/step - loss: 0.6295 - val_loss: 0.5906\n",
            "Epoch 3/10\n",
            "157/157 [==============================] - 1s 9ms/step - loss: 0.5564 - val_loss: 0.5212\n",
            "Epoch 4/10\n",
            "157/157 [==============================] - 1s 9ms/step - loss: 0.4898 - val_loss: 0.4647\n",
            "Epoch 5/10\n",
            "157/157 [==============================] - 1s 9ms/step - loss: 0.4381 - val_loss: 0.4248\n",
            "Epoch 6/10\n",
            "157/157 [==============================] - 1s 8ms/step - loss: 0.4003 - val_loss: 0.3968\n",
            "Epoch 7/10\n",
            "157/157 [==============================] - 1s 9ms/step - loss: 0.3734 - val_loss: 0.3766\n",
            "Epoch 8/10\n",
            "157/157 [==============================] - 1s 9ms/step - loss: 0.3528 - val_loss: 0.3619\n",
            "Epoch 9/10\n",
            "157/157 [==============================] - 1s 9ms/step - loss: 0.3362 - val_loss: 0.3510\n",
            "Epoch 10/10\n",
            "157/157 [==============================] - 1s 9ms/step - loss: 0.3235 - val_loss: 0.3422\n"
          ],
          "name": "stdout"
        }
      ]
    },
    {
      "cell_type": "code",
      "metadata": {
        "colab": {
          "base_uri": "https://localhost:8080/"
        },
        "id": "m8DKR2WgBY33",
        "outputId": "99346e0f-ab8c-477d-db06-850aed106771"
      },
      "source": [
        "model.predict(X_train[5:6])"
      ],
      "execution_count": 11,
      "outputs": [
        {
          "output_type": "execute_result",
          "data": {
            "text/plain": [
              "array([[0.41782638]], dtype=float32)"
            ]
          },
          "metadata": {},
          "execution_count": 11
        }
      ]
    },
    {
      "cell_type": "markdown",
      "metadata": {
        "id": "GQfiDCaVERYT"
      },
      "source": [
        "## Callback EarlyStopping"
      ]
    },
    {
      "cell_type": "code",
      "metadata": {
        "colab": {
          "base_uri": "https://localhost:8080/"
        },
        "id": "ikretmx7BrDE",
        "outputId": "40ce93f0-e757-4280-b378-a920ca632420"
      },
      "source": [
        "es = tf.keras.callbacks.EarlyStopping(monitor='val_loss', patience=4, mode='min', verbose=1)\n",
        "es"
      ],
      "execution_count": 12,
      "outputs": [
        {
          "output_type": "execute_result",
          "data": {
            "text/plain": [
              "<keras.callbacks.EarlyStopping at 0x7f0a28a030d0>"
            ]
          },
          "metadata": {},
          "execution_count": 12
        }
      ]
    },
    {
      "cell_type": "code",
      "metadata": {
        "colab": {
          "base_uri": "https://localhost:8080/"
        },
        "id": "AEs54arTERCf",
        "outputId": "7851197e-0877-4e50-991a-b61220893e08"
      },
      "source": [
        "hist = model.fit(X_train, y_train, epochs=10, batch_size=128, validation_split=0.2, callbacks=[es])"
      ],
      "execution_count": 14,
      "outputs": [
        {
          "output_type": "stream",
          "text": [
            "Epoch 1/10\n",
            "157/157 [==============================] - 1s 9ms/step - loss: 0.2601 - val_loss: 0.3105\n",
            "Epoch 2/10\n",
            "157/157 [==============================] - 1s 9ms/step - loss: 0.2570 - val_loss: 0.3110\n",
            "Epoch 3/10\n",
            "157/157 [==============================] - 1s 8ms/step - loss: 0.2547 - val_loss: 0.3107\n",
            "Epoch 4/10\n",
            "157/157 [==============================] - 1s 9ms/step - loss: 0.2524 - val_loss: 0.3109\n",
            "Epoch 5/10\n",
            "157/157 [==============================] - 1s 9ms/step - loss: 0.2503 - val_loss: 0.3103\n",
            "Epoch 6/10\n",
            "157/157 [==============================] - 1s 9ms/step - loss: 0.2485 - val_loss: 0.3108\n",
            "Epoch 7/10\n",
            "157/157 [==============================] - 1s 9ms/step - loss: 0.2466 - val_loss: 0.3114\n",
            "Epoch 8/10\n",
            "157/157 [==============================] - 1s 9ms/step - loss: 0.2453 - val_loss: 0.3121\n",
            "Epoch 9/10\n",
            "157/157 [==============================] - 1s 9ms/step - loss: 0.2435 - val_loss: 0.3125\n",
            "Epoch 00009: early stopping\n"
          ],
          "name": "stdout"
        }
      ]
    },
    {
      "cell_type": "code",
      "metadata": {
        "id": "3iMXtcHxEjxu"
      },
      "source": [
        ""
      ],
      "execution_count": null,
      "outputs": []
    }
  ]
}