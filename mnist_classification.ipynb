{
  "nbformat": 4,
  "nbformat_minor": 0,
  "metadata": {
    "colab": {
      "name": "mnist_classification.ipynb",
      "provenance": [],
      "authorship_tag": "ABX9TyNc1gw0vzS9XjRDEuEZL9ZR",
      "include_colab_link": true
    },
    "kernelspec": {
      "name": "python3",
      "display_name": "Python 3"
    },
    "language_info": {
      "name": "python"
    }
  },
  "cells": [
    {
      "cell_type": "markdown",
      "metadata": {
        "id": "view-in-github",
        "colab_type": "text"
      },
      "source": [
        "<a href=\"https://colab.research.google.com/github/fonslucens/test_deeplearning/blob/master/mnist_classification.ipynb\" target=\"_parent\"><img src=\"https://colab.research.google.com/assets/colab-badge.svg\" alt=\"Open In Colab\"/></a>"
      ]
    },
    {
      "cell_type": "code",
      "metadata": {
        "id": "WyTTepI5qPog"
      },
      "source": [
        "from tensorflow.keras.datasets.mnist import load_data"
      ],
      "execution_count": 1,
      "outputs": []
    },
    {
      "cell_type": "code",
      "metadata": {
        "colab": {
          "base_uri": "https://localhost:8080/"
        },
        "id": "ieLz7nS9qXgF",
        "outputId": "4dffca5a-0cdb-4232-b5d8-85e4c4e0d237"
      },
      "source": [
        "(x_train, y_train), (x_test, y_test) = load_data(path='mnist.npz')\n",
        "x_train.shape, y_train.shape, x_test.shape, y_test.shape"
      ],
      "execution_count": 2,
      "outputs": [
        {
          "output_type": "stream",
          "text": [
            "Downloading data from https://storage.googleapis.com/tensorflow/tf-keras-datasets/mnist.npz\n",
            "11493376/11490434 [==============================] - 0s 0us/step\n"
          ],
          "name": "stdout"
        },
        {
          "output_type": "execute_result",
          "data": {
            "text/plain": [
              "((60000, 28, 28), (60000,), (10000, 28, 28), (10000,))"
            ]
          },
          "metadata": {
            "tags": []
          },
          "execution_count": 2
        }
      ]
    },
    {
      "cell_type": "code",
      "metadata": {
        "id": "MU_0cI4hqr3D"
      },
      "source": [
        "# y_train[4], x_train[4]"
      ],
      "execution_count": 3,
      "outputs": []
    },
    {
      "cell_type": "code",
      "metadata": {
        "colab": {
          "base_uri": "https://localhost:8080/"
        },
        "id": "NIGODv7_sdTx",
        "outputId": "d2f5dce5-3481-4100-bc50-9321c68da27a"
      },
      "source": [
        "y_train[50000], x_train[50000]"
      ],
      "execution_count": 4,
      "outputs": [
        {
          "output_type": "execute_result",
          "data": {
            "text/plain": [
              "(3, array([[  0,   0,   0,   0,   0,   0,   0,   0,   0,   0,   0,   0,   0,\n",
              "           0,   0,   0,   0,   0,   0,   0,   0,   0,   0,   0,   0,   0,\n",
              "           0,   0],\n",
              "        [  0,   0,   0,   0,   0,   0,   0,   0,   0,   0,   0,   0,   0,\n",
              "           0,   0,   0,   0,   0,   0,   0,   0,   0,   0,   0,   0,   0,\n",
              "           0,   0],\n",
              "        [  0,   0,   0,   0,   0,   0,   0,   0,   0,   0,   0,   0,   0,\n",
              "           0,   0,   0,   0,   0,   0,   0,   0,   0,   0,   0,   0,   0,\n",
              "           0,   0],\n",
              "        [  0,   0,   0,   0,   0,   0,   0,   0,   0,   0,   0,   0,   0,\n",
              "           0,   0,   0,   0,   0,   0,   0,   0,   0,   0,   0,   0,   0,\n",
              "           0,   0],\n",
              "        [  0,   0,   0,   0,   0,   0,   0,   0,   0,   0,  47, 160, 195,\n",
              "         205,  71,  86,  13,   0,   0,   0,   0,   0,   0,   0,   0,   0,\n",
              "           0,   0],\n",
              "        [  0,   0,   0,   0,   0,   0,   0,   0,   0,  12, 238, 254, 254,\n",
              "         254, 254, 254, 227,  84,   0,   0,   0,   0,   0,   0,   0,   0,\n",
              "           0,   0],\n",
              "        [  0,   0,   0,   0,   0,   0,   0,   0,   0,  13, 196, 176, 127,\n",
              "         176, 207, 236, 245, 222,  23,   0,   0,   0,   0,   0,   0,   0,\n",
              "           0,   0],\n",
              "        [  0,   0,   0,   0,   0,   0,   0,   0,   0,   0,   0,   0,   0,\n",
              "           0,   0,  20, 137, 254,  95,   0,   0,   0,   0,   0,   0,   0,\n",
              "           0,   0],\n",
              "        [  0,   0,   0,   0,   0,   0,   0,   0,   0,   0,   0,   0,   0,\n",
              "           0,   0,   0,  78, 254, 144,   0,   0,   0,   0,   0,   0,   0,\n",
              "           0,   0],\n",
              "        [  0,   0,   0,   0,   0,   0,   0,   0,   0,   0,   0,   0,   0,\n",
              "           0,   0,  17, 200, 254, 170,   0,   0,   0,   0,   0,   0,   0,\n",
              "           0,   0],\n",
              "        [  0,   0,   0,   0,   0,   0,   0,   0,   0,   0,   0,   0,   0,\n",
              "           0,  47, 218, 254, 216,  29,   0,   0,   0,   0,   0,   0,   0,\n",
              "           0,   0],\n",
              "        [  0,   0,   0,   0,   0,   0,   0,   0,   0,   0,   0,   0,   0,\n",
              "          95, 225, 254, 245,  65,   0,   0,   0,   0,   0,   0,   0,   0,\n",
              "           0,   0],\n",
              "        [  0,   0,   0,   0,   0,   0,   0,   0,   0,   0,   0,  12, 128,\n",
              "         252, 254, 236,  40,   0,   0,   0,   0,   0,   0,   0,   0,   0,\n",
              "           0,   0],\n",
              "        [  0,   0,   0,   0,   0,   0,   0,   0,   0,   0,   0, 172, 254,\n",
              "         254, 170,  58,   0,   0,   0,   0,   0,   0,   0,   0,   0,   0,\n",
              "           0,   0],\n",
              "        [  0,   0,   0,   0,   0,   0,   0,   0,   0,   0,   0, 207, 254,\n",
              "         254,  65,   0,   0,   0,   0,   0,   0,   0,   0,   0,   0,   0,\n",
              "           0,   0],\n",
              "        [  0,   0,   0,   0,   0,   0,   0,   0,   0,   0,   0, 137, 254,\n",
              "         254, 251, 146,  26,   0,   0,   0,   0,   0,   0,   0,   0,   0,\n",
              "           0,   0],\n",
              "        [  0,   0,   0,   0,   0,   0,   0,   0,   0,   0,   0,   9, 173,\n",
              "         224, 254, 254, 230,  71,   0,   0,   0,   0,   0,   0,   0,   0,\n",
              "           0,   0],\n",
              "        [  0,   0,   0,   0,   0,   0,   0,   0,   0,   0,   0,   0,   8,\n",
              "          12, 254, 254, 254, 246, 104,   0,   0,   0,   0,   0,   0,   0,\n",
              "           0,   0],\n",
              "        [  0,   0,   0,   0,   0,   0,   0,   0,   0,   0,   0,   0,   0,\n",
              "           0,  46, 189, 254, 254, 224,   0,   0,   0,   0,   0,   0,   0,\n",
              "           0,   0],\n",
              "        [  0,   0,   0,   0,   0,   0,   0,   0,   0,  10,   0,   0,   0,\n",
              "           0,   0,  17, 175, 254, 254,  25,   0,   0,   0,   0,   0,   0,\n",
              "           0,   0],\n",
              "        [  0,   0,   0,   0,   0,   0,   0,   0,  35, 231, 156, 112,  87,\n",
              "         186, 191, 218, 254, 254, 219,   0,   0,   0,   0,   0,   0,   0,\n",
              "           0,   0],\n",
              "        [  0,   0,   0,   0,   0,   0,   0,   0, 120, 255, 254, 254, 254,\n",
              "         254, 255, 254, 254, 242,  67,   0,   0,   0,   0,   0,   0,   0,\n",
              "           0,   0],\n",
              "        [  0,   0,   0,   0,   0,   0,   0,   0, 139, 255, 254, 254, 254,\n",
              "         254, 255, 171,  46,  24,   0,   0,   0,   0,   0,   0,   0,   0,\n",
              "           0,   0],\n",
              "        [  0,   0,   0,   0,   0,   0,   0,   0,   5,  71, 164, 189, 174,\n",
              "         174,  66,   4,   0,   0,   0,   0,   0,   0,   0,   0,   0,   0,\n",
              "           0,   0],\n",
              "        [  0,   0,   0,   0,   0,   0,   0,   0,   0,   0,   0,   0,   0,\n",
              "           0,   0,   0,   0,   0,   0,   0,   0,   0,   0,   0,   0,   0,\n",
              "           0,   0],\n",
              "        [  0,   0,   0,   0,   0,   0,   0,   0,   0,   0,   0,   0,   0,\n",
              "           0,   0,   0,   0,   0,   0,   0,   0,   0,   0,   0,   0,   0,\n",
              "           0,   0],\n",
              "        [  0,   0,   0,   0,   0,   0,   0,   0,   0,   0,   0,   0,   0,\n",
              "           0,   0,   0,   0,   0,   0,   0,   0,   0,   0,   0,   0,   0,\n",
              "           0,   0],\n",
              "        [  0,   0,   0,   0,   0,   0,   0,   0,   0,   0,   0,   0,   0,\n",
              "           0,   0,   0,   0,   0,   0,   0,   0,   0,   0,   0,   0,   0,\n",
              "           0,   0]], dtype=uint8))"
            ]
          },
          "metadata": {
            "tags": []
          },
          "execution_count": 4
        }
      ]
    },
    {
      "cell_type": "code",
      "metadata": {
        "colab": {
          "base_uri": "https://localhost:8080/",
          "height": 283
        },
        "id": "sKkBKwv0tOS-",
        "outputId": "3574201c-e093-4b49-cf20-930e81e5bb4d"
      },
      "source": [
        "import matplotlib.pyplot as plt\n",
        "\n",
        "plt.imshow(x_train[50000])\n",
        "print(y_train[50000], type(y_train[50000]))"
      ],
      "execution_count": 5,
      "outputs": [
        {
          "output_type": "stream",
          "text": [
            "3 <class 'numpy.uint8'>\n"
          ],
          "name": "stdout"
        },
        {
          "output_type": "display_data",
          "data": {
            "image/png": "[encoded data removed]",
            "text/plain": [
              "<Figure size 432x288 with 1 Axes>"
            ]
          },
          "metadata": {
            "tags": [],
            "needs_background": "light"
          }
        }
      ]
    },
    {
      "cell_type": "code",
      "metadata": {
        "colab": {
          "base_uri": "https://localhost:8080/"
        },
        "id": "7MoP9HeHtiYm",
        "outputId": "8a50e521-cb7f-460a-9324-0969f2ae599d"
      },
      "source": [
        "x_train = x_train.reshape(-1, 28*28)\n",
        "x_train.shape"
      ],
      "execution_count": 6,
      "outputs": [
        {
          "output_type": "execute_result",
          "data": {
            "text/plain": [
              "(60000, 784)"
            ]
          },
          "metadata": {
            "tags": []
          },
          "execution_count": 6
        }
      ]
    },
    {
      "cell_type": "code",
      "metadata": {
        "colab": {
          "base_uri": "https://localhost:8080/"
        },
        "id": "QY1lKbx8veAW",
        "outputId": "63d8cc17-3244-4e78-b639-78154abd98ff"
      },
      "source": [
        "x_test = x_test.reshape(-1, 28*28)\n",
        "x_test.shape"
      ],
      "execution_count": 7,
      "outputs": [
        {
          "output_type": "execute_result",
          "data": {
            "text/plain": [
              "(10000, 784)"
            ]
          },
          "metadata": {
            "tags": []
          },
          "execution_count": 7
        }
      ]
    },
    {
      "cell_type": "code",
      "metadata": {
        "colab": {
          "base_uri": "https://localhost:8080/"
        },
        "id": "5SZfpucyviF6",
        "outputId": "55e69519-361a-471b-9cfe-6d93e94ce082"
      },
      "source": [
        "y_train[2:10], y_train.shape"
      ],
      "execution_count": 8,
      "outputs": [
        {
          "output_type": "execute_result",
          "data": {
            "text/plain": [
              "(array([4, 1, 9, 2, 1, 3, 1, 4], dtype=uint8), (60000,))"
            ]
          },
          "metadata": {
            "tags": []
          },
          "execution_count": 8
        }
      ]
    },
    {
      "cell_type": "code",
      "metadata": {
        "colab": {
          "base_uri": "https://localhost:8080/"
        },
        "id": "lO_f4ZnHxgoK",
        "outputId": "ee041b80-b96e-4e6d-feb7-684f23f75d9b"
      },
      "source": [
        "import numpy as np\n",
        "np.unique(y_train)"
      ],
      "execution_count": 9,
      "outputs": [
        {
          "output_type": "execute_result",
          "data": {
            "text/plain": [
              "array([0, 1, 2, 3, 4, 5, 6, 7, 8, 9], dtype=uint8)"
            ]
          },
          "metadata": {
            "tags": []
          },
          "execution_count": 9
        }
      ]
    },
    {
      "cell_type": "markdown",
      "metadata": {
        "id": "Mdl5qDlfwY3a"
      },
      "source": [
        "# apply model"
      ]
    },
    {
      "cell_type": "code",
      "metadata": {
        "id": "IyXzUNhCvozD"
      },
      "source": [
        "import tensorflow as tf"
      ],
      "execution_count": 10,
      "outputs": []
    },
    {
      "cell_type": "code",
      "metadata": {
        "colab": {
          "base_uri": "https://localhost:8080/"
        },
        "id": "37ziXuwZwc3B",
        "outputId": "584e2ff5-be50-4acd-baad-9d5acb5751e7"
      },
      "source": [
        "model = tf.keras.models.Sequential()\n",
        "\n",
        "model.add(tf.keras.Input(shape=(784,)))   # input layer\n",
        "model.add(tf.keras.layers.Dense(64, activation='relu'))   # hidden layer\n",
        "model.add(tf.keras.layers.Dense(64, activation='relu'))   # hidden layer\n",
        "\n",
        "# 3이상 --> softmax, binary --> sigmoid\n",
        "model.add(tf.keras.layers.Dense(10, activation='softmax'))   # output layer\n",
        "\n",
        "# regression --> loss : mse\n",
        "# binary classification --> loss : binary crossentropy\n",
        "# over 3 classification --> loss : categorical crossentropy(sparse_categorical_crossentropy)\n",
        "model.compile(optimizer='adam', loss='sparse_categorical_crossentropy', metrics=['acc'])"
      ],
      "execution_count": 11,
      "outputs": [
        {
          "output_type": "stream",
          "text": [
            "WARNING:tensorflow:Please add `keras.layers.InputLayer` instead of `keras.Input` to Sequential model. `keras.Input` is intended to be used by Functional model.\n"
          ],
          "name": "stdout"
        }
      ]
    },
    {
      "cell_type": "code",
      "metadata": {
        "colab": {
          "base_uri": "https://localhost:8080/"
        },
        "id": "fppabnlC3N_f",
        "outputId": "ff810d21-2cca-4343-d2d7-fc5d131abdf6"
      },
      "source": [
        "hist = model.fit(x_train, y_train, epochs=100, validation_split=0.3)"
      ],
      "execution_count": 12,
      "outputs": [
        {
          "output_type": "stream",
          "text": [
            "Epoch 1/100\n",
            "1313/1313 [==============================] - 4s 3ms/step - loss: 2.2703 - acc: 0.8088 - val_loss: 0.5692 - val_acc: 0.8774\n",
            "Epoch 2/100\n",
            "1313/1313 [==============================] - 3s 2ms/step - loss: 0.4598 - acc: 0.8942 - val_loss: 0.4550 - val_acc: 0.8976\n",
            "Epoch 3/100\n",
            "1313/1313 [==============================] - 3s 2ms/step - loss: 0.3538 - acc: 0.9133 - val_loss: 0.3881 - val_acc: 0.9116\n",
            "Epoch 4/100\n",
            "1313/1313 [==============================] - 3s 2ms/step - loss: 0.2923 - acc: 0.9255 - val_loss: 0.3058 - val_acc: 0.9269\n",
            "Epoch 5/100\n",
            "1313/1313 [==============================] - 3s 2ms/step - loss: 0.2618 - acc: 0.9330 - val_loss: 0.2913 - val_acc: 0.9299\n",
            "Epoch 6/100\n",
            "1313/1313 [==============================] - 3s 2ms/step - loss: 0.2223 - acc: 0.9396 - val_loss: 0.2480 - val_acc: 0.9388\n",
            "Epoch 7/100\n",
            "1313/1313 [==============================] - 3s 3ms/step - loss: 0.1881 - acc: 0.9480 - val_loss: 0.2414 - val_acc: 0.9432\n",
            "Epoch 8/100\n",
            "1313/1313 [==============================] - 3s 3ms/step - loss: 0.1628 - acc: 0.9549 - val_loss: 0.2357 - val_acc: 0.9412\n",
            "Epoch 9/100\n",
            "1313/1313 [==============================] - 3s 2ms/step - loss: 0.1473 - acc: 0.9582 - val_loss: 0.1937 - val_acc: 0.9511\n",
            "Epoch 10/100\n",
            "1313/1313 [==============================] - 3s 2ms/step - loss: 0.1418 - acc: 0.9586 - val_loss: 0.1925 - val_acc: 0.9487\n",
            "Epoch 11/100\n",
            "1313/1313 [==============================] - 3s 2ms/step - loss: 0.1276 - acc: 0.9644 - val_loss: 0.2108 - val_acc: 0.9513\n",
            "Epoch 12/100\n",
            "1313/1313 [==============================] - 3s 2ms/step - loss: 0.1167 - acc: 0.9665 - val_loss: 0.1930 - val_acc: 0.9533\n",
            "Epoch 13/100\n",
            "1313/1313 [==============================] - 3s 3ms/step - loss: 0.1155 - acc: 0.9671 - val_loss: 0.1956 - val_acc: 0.9509\n",
            "Epoch 14/100\n",
            "1313/1313 [==============================] - 3s 2ms/step - loss: 0.1076 - acc: 0.9692 - val_loss: 0.1920 - val_acc: 0.9528\n",
            "Epoch 15/100\n",
            "1313/1313 [==============================] - 3s 3ms/step - loss: 0.1061 - acc: 0.9700 - val_loss: 0.1870 - val_acc: 0.9558\n",
            "Epoch 16/100\n",
            "1313/1313 [==============================] - 3s 2ms/step - loss: 0.0924 - acc: 0.9734 - val_loss: 0.1971 - val_acc: 0.9561\n",
            "Epoch 17/100\n",
            "1313/1313 [==============================] - 3s 2ms/step - loss: 0.0903 - acc: 0.9741 - val_loss: 0.1864 - val_acc: 0.9553\n",
            "Epoch 18/100\n",
            "1313/1313 [==============================] - 3s 2ms/step - loss: 0.0876 - acc: 0.9745 - val_loss: 0.2045 - val_acc: 0.9558\n",
            "Epoch 19/100\n",
            "1313/1313 [==============================] - 3s 2ms/step - loss: 0.0879 - acc: 0.9748 - val_loss: 0.1941 - val_acc: 0.9568\n",
            "Epoch 20/100\n",
            "1313/1313 [==============================] - 3s 2ms/step - loss: 0.0786 - acc: 0.9771 - val_loss: 0.2064 - val_acc: 0.9554\n",
            "Epoch 21/100\n",
            "1313/1313 [==============================] - 3s 2ms/step - loss: 0.0850 - acc: 0.9758 - val_loss: 0.2065 - val_acc: 0.9595\n",
            "Epoch 22/100\n",
            "1313/1313 [==============================] - 3s 2ms/step - loss: 0.0770 - acc: 0.9781 - val_loss: 0.2295 - val_acc: 0.9579\n",
            "Epoch 23/100\n",
            "1313/1313 [==============================] - 3s 2ms/step - loss: 0.0827 - acc: 0.9777 - val_loss: 0.2440 - val_acc: 0.9504\n",
            "Epoch 24/100\n",
            "1313/1313 [==============================] - 3s 2ms/step - loss: 0.0738 - acc: 0.9790 - val_loss: 0.2312 - val_acc: 0.9587\n",
            "Epoch 25/100\n",
            "1313/1313 [==============================] - 3s 2ms/step - loss: 0.0718 - acc: 0.9802 - val_loss: 0.2487 - val_acc: 0.9581\n",
            "Epoch 26/100\n",
            "1313/1313 [==============================] - 3s 3ms/step - loss: 0.0746 - acc: 0.9793 - val_loss: 0.2454 - val_acc: 0.9604\n",
            "Epoch 27/100\n",
            "1313/1313 [==============================] - 3s 2ms/step - loss: 0.0716 - acc: 0.9793 - val_loss: 0.2463 - val_acc: 0.9574\n",
            "Epoch 28/100\n",
            "1313/1313 [==============================] - 3s 2ms/step - loss: 0.0681 - acc: 0.9809 - val_loss: 0.2595 - val_acc: 0.9602\n",
            "Epoch 29/100\n",
            "1313/1313 [==============================] - 3s 2ms/step - loss: 0.0780 - acc: 0.9797 - val_loss: 0.2276 - val_acc: 0.9591\n",
            "Epoch 30/100\n",
            "1313/1313 [==============================] - 3s 2ms/step - loss: 0.0642 - acc: 0.9824 - val_loss: 0.2657 - val_acc: 0.9610\n",
            "Epoch 31/100\n",
            "1313/1313 [==============================] - 3s 2ms/step - loss: 0.0667 - acc: 0.9822 - val_loss: 0.2772 - val_acc: 0.9594\n",
            "Epoch 32/100\n",
            "1313/1313 [==============================] - 3s 2ms/step - loss: 0.0646 - acc: 0.9832 - val_loss: 0.2727 - val_acc: 0.9592\n",
            "Epoch 33/100\n",
            "1313/1313 [==============================] - 3s 3ms/step - loss: 0.0623 - acc: 0.9831 - val_loss: 0.2700 - val_acc: 0.9565\n",
            "Epoch 34/100\n",
            "1313/1313 [==============================] - 4s 3ms/step - loss: 0.0582 - acc: 0.9843 - val_loss: 0.2999 - val_acc: 0.9590\n",
            "Epoch 35/100\n",
            "1313/1313 [==============================] - 3s 2ms/step - loss: 0.0604 - acc: 0.9832 - val_loss: 0.2687 - val_acc: 0.9574\n",
            "Epoch 36/100\n",
            "1313/1313 [==============================] - 3s 2ms/step - loss: 0.0588 - acc: 0.9839 - val_loss: 0.3768 - val_acc: 0.9529\n",
            "Epoch 37/100\n",
            "1313/1313 [==============================] - 3s 2ms/step - loss: 0.0639 - acc: 0.9830 - val_loss: 0.2752 - val_acc: 0.9572\n",
            "Epoch 38/100\n",
            "1313/1313 [==============================] - 3s 2ms/step - loss: 0.0599 - acc: 0.9840 - val_loss: 0.2763 - val_acc: 0.9589\n",
            "Epoch 39/100\n",
            "1313/1313 [==============================] - 3s 2ms/step - loss: 0.0585 - acc: 0.9847 - val_loss: 0.2873 - val_acc: 0.9580\n",
            "Epoch 40/100\n",
            "1313/1313 [==============================] - 3s 2ms/step - loss: 0.0611 - acc: 0.9847 - val_loss: 0.2664 - val_acc: 0.9582\n",
            "Epoch 41/100\n",
            "1313/1313 [==============================] - 3s 2ms/step - loss: 0.0592 - acc: 0.9847 - val_loss: 0.2705 - val_acc: 0.9601\n",
            "Epoch 42/100\n",
            "1313/1313 [==============================] - 3s 2ms/step - loss: 0.0569 - acc: 0.9851 - val_loss: 0.3179 - val_acc: 0.9585\n",
            "Epoch 43/100\n",
            "1313/1313 [==============================] - 3s 2ms/step - loss: 0.0583 - acc: 0.9852 - val_loss: 0.3276 - val_acc: 0.9586\n",
            "Epoch 44/100\n",
            "1313/1313 [==============================] - 3s 2ms/step - loss: 0.0522 - acc: 0.9860 - val_loss: 0.3131 - val_acc: 0.9573\n",
            "Epoch 45/100\n",
            "1313/1313 [==============================] - 3s 2ms/step - loss: 0.0555 - acc: 0.9861 - val_loss: 0.3501 - val_acc: 0.9602\n",
            "Epoch 46/100\n",
            "1313/1313 [==============================] - 3s 3ms/step - loss: 0.0545 - acc: 0.9863 - val_loss: 0.3479 - val_acc: 0.9608\n",
            "Epoch 47/100\n",
            "1313/1313 [==============================] - 3s 3ms/step - loss: 0.0516 - acc: 0.9864 - val_loss: 0.3546 - val_acc: 0.9569\n",
            "Epoch 48/100\n",
            "1313/1313 [==============================] - 3s 3ms/step - loss: 0.0534 - acc: 0.9864 - val_loss: 0.3333 - val_acc: 0.9604\n",
            "Epoch 49/100\n",
            "1313/1313 [==============================] - 3s 3ms/step - loss: 0.0501 - acc: 0.9872 - val_loss: 0.3398 - val_acc: 0.9604\n",
            "Epoch 50/100\n",
            "1313/1313 [==============================] - 3s 3ms/step - loss: 0.0499 - acc: 0.9875 - val_loss: 0.3704 - val_acc: 0.9573\n",
            "Epoch 51/100\n",
            "1313/1313 [==============================] - 3s 3ms/step - loss: 0.0607 - acc: 0.9864 - val_loss: 0.3216 - val_acc: 0.9592\n",
            "Epoch 52/100\n",
            "1313/1313 [==============================] - 3s 3ms/step - loss: 0.0571 - acc: 0.9863 - val_loss: 0.3718 - val_acc: 0.9587\n",
            "Epoch 53/100\n",
            "1313/1313 [==============================] - 3s 3ms/step - loss: 0.0503 - acc: 0.9879 - val_loss: 0.4013 - val_acc: 0.9570\n",
            "Epoch 54/100\n",
            "1313/1313 [==============================] - 3s 3ms/step - loss: 0.0439 - acc: 0.9890 - val_loss: 0.3560 - val_acc: 0.9577\n",
            "Epoch 55/100\n",
            "1313/1313 [==============================] - 3s 3ms/step - loss: 0.0465 - acc: 0.9878 - val_loss: 0.3977 - val_acc: 0.9586\n",
            "Epoch 56/100\n",
            "1313/1313 [==============================] - 3s 2ms/step - loss: 0.0548 - acc: 0.9867 - val_loss: 0.3638 - val_acc: 0.9581\n",
            "Epoch 57/100\n",
            "1313/1313 [==============================] - 3s 2ms/step - loss: 0.0490 - acc: 0.9879 - val_loss: 0.4160 - val_acc: 0.9547\n",
            "Epoch 58/100\n",
            "1313/1313 [==============================] - 3s 3ms/step - loss: 0.0458 - acc: 0.9890 - val_loss: 0.3788 - val_acc: 0.9588\n",
            "Epoch 59/100\n",
            "1313/1313 [==============================] - 3s 3ms/step - loss: 0.0514 - acc: 0.9878 - val_loss: 0.4020 - val_acc: 0.9617\n",
            "Epoch 60/100\n",
            "1313/1313 [==============================] - 3s 2ms/step - loss: 0.0496 - acc: 0.9882 - val_loss: 0.4413 - val_acc: 0.9587\n",
            "Epoch 61/100\n",
            "1313/1313 [==============================] - 3s 3ms/step - loss: 0.0468 - acc: 0.9887 - val_loss: 0.4480 - val_acc: 0.9617\n",
            "Epoch 62/100\n",
            "1313/1313 [==============================] - 3s 3ms/step - loss: 0.0490 - acc: 0.9884 - val_loss: 0.4057 - val_acc: 0.9590\n",
            "Epoch 63/100\n",
            "1313/1313 [==============================] - 3s 3ms/step - loss: 0.0544 - acc: 0.9869 - val_loss: 0.5107 - val_acc: 0.9581\n",
            "Epoch 64/100\n",
            "1313/1313 [==============================] - 3s 3ms/step - loss: 0.0497 - acc: 0.9884 - val_loss: 0.3959 - val_acc: 0.9583\n",
            "Epoch 65/100\n",
            "1313/1313 [==============================] - 3s 2ms/step - loss: 0.0448 - acc: 0.9891 - val_loss: 0.4905 - val_acc: 0.9580\n",
            "Epoch 66/100\n",
            "1313/1313 [==============================] - 3s 2ms/step - loss: 0.0485 - acc: 0.9887 - val_loss: 0.4194 - val_acc: 0.9576\n",
            "Epoch 67/100\n",
            "1313/1313 [==============================] - 3s 2ms/step - loss: 0.0416 - acc: 0.9895 - val_loss: 0.4224 - val_acc: 0.9564\n",
            "Epoch 68/100\n",
            "1313/1313 [==============================] - 3s 3ms/step - loss: 0.0503 - acc: 0.9886 - val_loss: 0.4049 - val_acc: 0.9586\n",
            "Epoch 69/100\n",
            "1313/1313 [==============================] - 3s 3ms/step - loss: 0.0510 - acc: 0.9885 - val_loss: 0.4493 - val_acc: 0.9585\n",
            "Epoch 70/100\n",
            "1313/1313 [==============================] - 3s 3ms/step - loss: 0.0425 - acc: 0.9900 - val_loss: 0.4138 - val_acc: 0.9577\n",
            "Epoch 71/100\n",
            "1313/1313 [==============================] - 3s 2ms/step - loss: 0.0460 - acc: 0.9893 - val_loss: 0.5119 - val_acc: 0.9543\n",
            "Epoch 72/100\n",
            "1313/1313 [==============================] - 3s 3ms/step - loss: 0.0489 - acc: 0.9886 - val_loss: 0.4067 - val_acc: 0.9576\n",
            "Epoch 73/100\n",
            "1313/1313 [==============================] - 4s 3ms/step - loss: 0.0498 - acc: 0.9888 - val_loss: 0.4725 - val_acc: 0.9579\n",
            "Epoch 74/100\n",
            "1313/1313 [==============================] - 3s 3ms/step - loss: 0.0405 - acc: 0.9904 - val_loss: 0.5557 - val_acc: 0.9585\n",
            "Epoch 75/100\n",
            "1313/1313 [==============================] - 3s 2ms/step - loss: 0.0488 - acc: 0.9893 - val_loss: 0.4432 - val_acc: 0.9591\n",
            "Epoch 76/100\n",
            "1313/1313 [==============================] - 3s 2ms/step - loss: 0.0506 - acc: 0.9885 - val_loss: 0.4978 - val_acc: 0.9589\n",
            "Epoch 77/100\n",
            "1313/1313 [==============================] - 3s 3ms/step - loss: 0.0556 - acc: 0.9888 - val_loss: 0.4550 - val_acc: 0.9573\n",
            "Epoch 78/100\n",
            "1313/1313 [==============================] - 3s 3ms/step - loss: 0.0432 - acc: 0.9903 - val_loss: 0.5749 - val_acc: 0.9547\n",
            "Epoch 79/100\n",
            "1313/1313 [==============================] - 3s 2ms/step - loss: 0.0403 - acc: 0.9911 - val_loss: 0.4929 - val_acc: 0.9589\n",
            "Epoch 80/100\n",
            "1313/1313 [==============================] - 3s 3ms/step - loss: 0.0497 - acc: 0.9892 - val_loss: 0.5426 - val_acc: 0.9564\n",
            "Epoch 81/100\n",
            "1313/1313 [==============================] - 3s 2ms/step - loss: 0.0422 - acc: 0.9901 - val_loss: 0.5009 - val_acc: 0.9573\n",
            "Epoch 82/100\n",
            "1313/1313 [==============================] - 3s 2ms/step - loss: 0.0512 - acc: 0.9886 - val_loss: 0.4778 - val_acc: 0.9593\n",
            "Epoch 83/100\n",
            "1313/1313 [==============================] - 3s 2ms/step - loss: 0.0359 - acc: 0.9913 - val_loss: 0.4688 - val_acc: 0.9585\n",
            "Epoch 84/100\n",
            "1313/1313 [==============================] - 3s 3ms/step - loss: 0.0479 - acc: 0.9897 - val_loss: 0.4926 - val_acc: 0.9611\n",
            "Epoch 85/100\n",
            "1313/1313 [==============================] - 3s 2ms/step - loss: 0.0510 - acc: 0.9892 - val_loss: 0.5264 - val_acc: 0.9585\n",
            "Epoch 86/100\n",
            "1313/1313 [==============================] - 3s 3ms/step - loss: 0.0388 - acc: 0.9908 - val_loss: 0.6224 - val_acc: 0.9591\n",
            "Epoch 87/100\n",
            "1313/1313 [==============================] - 3s 3ms/step - loss: 0.0416 - acc: 0.9905 - val_loss: 0.5917 - val_acc: 0.9577\n",
            "Epoch 88/100\n",
            "1313/1313 [==============================] - 3s 3ms/step - loss: 0.0514 - acc: 0.9894 - val_loss: 0.6447 - val_acc: 0.9584\n",
            "Epoch 89/100\n",
            "1313/1313 [==============================] - 3s 3ms/step - loss: 0.0491 - acc: 0.9905 - val_loss: 0.5451 - val_acc: 0.9602\n",
            "Epoch 90/100\n",
            "1313/1313 [==============================] - 3s 2ms/step - loss: 0.0408 - acc: 0.9907 - val_loss: 0.6131 - val_acc: 0.9593\n",
            "Epoch 91/100\n",
            "1313/1313 [==============================] - 3s 3ms/step - loss: 0.0315 - acc: 0.9921 - val_loss: 0.6696 - val_acc: 0.9601\n",
            "Epoch 92/100\n",
            "1313/1313 [==============================] - 3s 3ms/step - loss: 0.0519 - acc: 0.9895 - val_loss: 0.6387 - val_acc: 0.9587\n",
            "Epoch 93/100\n",
            "1313/1313 [==============================] - 3s 3ms/step - loss: 0.0466 - acc: 0.9903 - val_loss: 0.5830 - val_acc: 0.9595\n",
            "Epoch 94/100\n",
            "1313/1313 [==============================] - 3s 2ms/step - loss: 0.0457 - acc: 0.9897 - val_loss: 0.5732 - val_acc: 0.9594\n",
            "Epoch 95/100\n",
            "1313/1313 [==============================] - 3s 2ms/step - loss: 0.0445 - acc: 0.9905 - val_loss: 0.5734 - val_acc: 0.9602\n",
            "Epoch 96/100\n",
            "1313/1313 [==============================] - 3s 2ms/step - loss: 0.0438 - acc: 0.9905 - val_loss: 0.5638 - val_acc: 0.9582\n",
            "Epoch 97/100\n",
            "1313/1313 [==============================] - 3s 3ms/step - loss: 0.0421 - acc: 0.9905 - val_loss: 0.5896 - val_acc: 0.9563\n",
            "Epoch 98/100\n",
            "1313/1313 [==============================] - 3s 3ms/step - loss: 0.0478 - acc: 0.9901 - val_loss: 0.5469 - val_acc: 0.9574\n",
            "Epoch 99/100\n",
            "1313/1313 [==============================] - 3s 3ms/step - loss: 0.0582 - acc: 0.9886 - val_loss: 0.5919 - val_acc: 0.9581\n",
            "Epoch 100/100\n",
            "1313/1313 [==============================] - 3s 2ms/step - loss: 0.0421 - acc: 0.9910 - val_loss: 0.5889 - val_acc: 0.9604\n"
          ],
          "name": "stdout"
        }
      ]
    },
    {
      "cell_type": "markdown",
      "metadata": {
        "id": "j8AdRkXPoxXu"
      },
      "source": [
        "# evaluation"
      ]
    },
    {
      "cell_type": "code",
      "metadata": {
        "colab": {
          "base_uri": "https://localhost:8080/"
        },
        "id": "O7CO9Nk4_Hpq",
        "outputId": "15bf41b2-5b6c-4e14-862d-1493ae2c69da"
      },
      "source": [
        "hist.history.keys()"
      ],
      "execution_count": 13,
      "outputs": [
        {
          "output_type": "execute_result",
          "data": {
            "text/plain": [
              "dict_keys(['loss', 'acc', 'val_loss', 'val_acc'])"
            ]
          },
          "metadata": {
            "tags": []
          },
          "execution_count": 13
        }
      ]
    },
    {
      "cell_type": "code",
      "metadata": {
        "colab": {
          "base_uri": "https://localhost:8080/",
          "height": 265
        },
        "id": "gZvZ6I68o3_D",
        "outputId": "125bcb9c-c90f-4dd6-f2ca-f2be8f384701"
      },
      "source": [
        "import matplotlib.pyplot as plt\n",
        "\n",
        "plt.plot(hist.history['loss'])\n",
        "plt.plot(hist.history['val_loss'], 'b-')\n",
        "plt.show()"
      ],
      "execution_count": 14,
      "outputs": [
        {
          "output_type": "display_data",
          "data": {
            "image/png": "[encoded data removed]",
            "text/plain": [
              "<Figure size 432x288 with 1 Axes>"
            ]
          },
          "metadata": {
            "tags": [],
            "needs_background": "light"
          }
        }
      ]
    },
    {
      "cell_type": "code",
      "metadata": {
        "colab": {
          "base_uri": "https://localhost:8080/",
          "height": 268
        },
        "id": "gSQd-Jp8o6UR",
        "outputId": "a0c319d6-d4d1-404c-98dd-51cfb93da6fe"
      },
      "source": [
        "plt.plot(hist.history['acc'])\n",
        "plt.plot(hist.history['val_acc'], 'r-')\n",
        "plt.show()"
      ],
      "execution_count": 15,
      "outputs": [
        {
          "output_type": "display_data",
          "data": {
            "image/png": "[encoded data removed]",
            "text/plain": [
              "<Figure size 432x288 with 1 Axes>"
            ]
          },
          "metadata": {
            "tags": [],
            "needs_background": "light"
          }
        }
      ]
    },
    {
      "cell_type": "markdown",
      "metadata": {
        "id": "unfusxJVo813"
      },
      "source": [
        "# service"
      ]
    },
    {
      "cell_type": "code",
      "metadata": {
        "colab": {
          "base_uri": "https://localhost:8080/"
        },
        "id": "TADXIVcXjOln",
        "outputId": "47da60cf-78e6-4bc1-b3b1-882f6dabbc24"
      },
      "source": [
        "# x_test[30]"
      ],
      "execution_count": 20,
      "outputs": [
        {
          "output_type": "execute_result",
          "data": {
            "text/plain": [
              "array([  0,   0,   0,   0,   0,   0,   0,   0,   0,   0,   0,   0,   0,\n",
              "         0,   0,   0,   0,   0,   0,   0,   0,   0,   0,   0,   0,   0,\n",
              "         0,   0,   0,   0,   0,   0,   0,   0,   0,   0,   0,   0,   0,\n",
              "         0,   0,   0,   0,   0,   0,   0,   0,   0,   0,   0,   0,   0,\n",
              "         0,   0,   0,   0,   0,   0,   0,   0,   0,   0,   0,   0,   0,\n",
              "         0,   0,   0,   0,   0,   0,   0,   0,   0,   0,   0,   0,   0,\n",
              "         0,   0,   0,   0,   0,   0,   0,   0,   0,   0,   0,   0,   0,\n",
              "         0,   0,   0,   0,   0,   0,   0,   0,   0,   0,   0,   0,   0,\n",
              "         0,   0,   0,   0,   0,   0,   0,   0,   0,   0,   0,   0,   0,\n",
              "         0,   0,   0,   0,   0,   0,   0,   0,   0,   0,   0,   0,   0,\n",
              "         0,   0,   0,   0,   0,   0,   0,   0,   0,   0,   0,   0,   0,\n",
              "         0,   0,   0,   0,   0,   0,   0,   0,   0,   0,   0,   0,   0,\n",
              "         0,   0,   0,   0,   0,   0,   0,   0,   0,   0,   0,   0,   0,\n",
              "         0,   0,   0,   0,   0,   0,  21, 113, 193, 254, 253, 254, 253,\n",
              "       254, 172,  82,   0,   0,   0,   0,   0,   0,   0,   0,   0,   0,\n",
              "         0,   0,   0,   0,   0,   0,   0,   0, 183, 253, 252, 253, 252,\n",
              "       253, 252, 253, 252, 243,  40,   0,   0,   0,   0,   0,   0,   0,\n",
              "         0,   0,   0,   0,   0,   0,   0,   0,   0,   0, 203, 255, 233,\n",
              "       183, 102, 203, 203, 234, 253, 254, 151,   0,   0,   0,   0,   0,\n",
              "         0,   0,   0,   0,   0,   0,   0,   0,   0,   0,   0,   0,  81,\n",
              "       151,  50,   0,   0,   0,  41, 193, 252, 253, 111,   0,   0,   0,\n",
              "         0,   0,   0,   0,   0,   0,   0,   0,   0,   0,   0,   0,   0,\n",
              "         0,   0,   0,   0,   0,   0,  11, 213, 254, 253, 203,   0,   0,\n",
              "         0,   0,   0,   0,   0,   0,   0,   0,   0,   0,   0,   0,   0,\n",
              "         0,   0,   0,   0,   0,   0,   0, 123, 213, 252, 253, 252,  81,\n",
              "         0,   0,   0,   0,   0,   0,   0,   0,   0,   0,   0,   0,   0,\n",
              "         0,   0,   0,   0,   0,   0,   0,   0,  51, 253, 254, 253, 254,\n",
              "       151,  21,   0,   0,   0,   0,   0,   0,   0,   0,   0,   0,   0,\n",
              "         0,   0,   0,   0,   0,   0,   0,   0,   0,   0,  10, 212, 253,\n",
              "       252, 253, 232, 223, 122,  82,   0,   0,   0,   0,   0,   0,   0,\n",
              "         0,   0,   0,   0,   0,   0,   0,   0,   0,   0,   0,   0,   0,\n",
              "         0, 123, 223, 254, 253, 254, 253, 254,  71,   0,   0,   0,   0,\n",
              "         0,   0,   0,   0,   0,   0,   0,   0,   0,   0,   0,   0,   0,\n",
              "         0,   0,   0,   0,  20,  50, 131, 213, 252, 253, 192,   0,   0,\n",
              "         0,   0,   0,   0,   0,   0,   0,   0,   0,   0,   0,   0,   0,\n",
              "         0,   0,   0,   0,   0,   0,   0,   0,   0,  21, 162, 254, 253,\n",
              "       102,   0,   0,   0,   0,   0,   0,   0,   0,   0,   0,   0,   0,\n",
              "         0,   0,   0,   0,   0,   0,   0,   0,   0,   0,   0,  21, 203,\n",
              "       253, 252,  61,   0,   0,   0,   0,   0,   0,   0,   0,   0,   0,\n",
              "         0,   0,   0,   0,   0,   0,   0,   0,   0,   0,   0,   0,   0,\n",
              "       132, 253, 254,  91,   0,   0,   0,   0,   0,   0,   0,   0,   0,\n",
              "         0,   0,   0,   0,   0,   0,   0,   0,   0,   0,   0,   0,   0,\n",
              "        21, 142, 253, 252, 233,  30,   0,   0,   0,   0,   0,   0,   0,\n",
              "         0,   0,   0,   0,   0,   0,   0,   0,   0,   0,   0,   0,   0,\n",
              "         0,  41, 214, 253, 254, 213,   0,   0,   0,   0,   0,   0,   0,\n",
              "         0,   0,   0,   0,   0,   0,   0,   0,   0,   0,   0,   0,   0,\n",
              "         0,   0, 163, 243, 253, 252, 172,  10,   0,   0,   0,   0,   0,\n",
              "         0,   0,   0,   0,   0,   0,   0,   0,   0,   0,   0,   0,   0,\n",
              "        11, 173, 173, 253, 255, 253, 224,  81,   0,   0,   0,   0,   0,\n",
              "         0,   0,   0,   0,   0,   0,   0,   0,   0,   0,   0,   0,   0,\n",
              "         0,   0, 132, 252, 253, 252, 253, 171,  20,   0,   0,   0,   0,\n",
              "         0,   0,   0,   0,   0,   0,   0,   0,   0,   0,   0,   0,   0,\n",
              "         0,   0,   0,   0, 153, 253, 244, 203,  82,   0,   0,   0,   0,\n",
              "         0,   0,   0,   0,   0,   0,   0,   0,   0,   0,   0,   0,   0,\n",
              "         0,   0,   0,   0,   0,   0,  92, 192, 122,   0,   0,   0,   0,\n",
              "         0,   0,   0,   0,   0,   0,   0,   0,   0,   0,   0,   0,   0,\n",
              "         0,   0,   0,   0,   0,   0,   0,   0,   0,   0,   0,   0,   0,\n",
              "         0,   0,   0,   0,   0,   0,   0,   0,   0,   0,   0,   0,   0,\n",
              "         0,   0,   0,   0,   0,   0,   0,   0,   0,   0,   0,   0,   0,\n",
              "         0,   0,   0,   0,   0,   0,   0,   0,   0,   0,   0,   0,   0,\n",
              "         0,   0,   0,   0], dtype=uint8)"
            ]
          },
          "metadata": {
            "tags": []
          },
          "execution_count": 20
        }
      ]
    },
    {
      "cell_type": "code",
      "metadata": {
        "colab": {
          "base_uri": "https://localhost:8080/"
        },
        "id": "NLdaxql6o7nB",
        "outputId": "b0f83a4d-dd40-4229-d2ae-5db55fb59cf2"
      },
      "source": [
        "import numpy as np\n",
        "# np.set_printoptions(precision=8)\n",
        "\n",
        "pred = model.predict(x_test[30:31])\n",
        "pred, np.argmax(pred)"
      ],
      "execution_count": 24,
      "outputs": [
        {
          "output_type": "execute_result",
          "data": {
            "text/plain": [
              "array([[0.0000000e+00, 0.0000000e+00, 0.0000000e+00, 1.0000000e+00,\n",
              "        0.0000000e+00, 0.0000000e+00, 0.0000000e+00, 5.1816895e-28,\n",
              "        0.0000000e+00, 0.0000000e+00]], dtype=float32)"
            ]
          },
          "metadata": {
            "tags": []
          },
          "execution_count": 24
        }
      ]
    },
    {
      "cell_type": "code",
      "metadata": {
        "colab": {
          "base_uri": "https://localhost:8080/"
        },
        "id": "X4at1lc36awK",
        "outputId": "e8a6f9d2-cf0a-4af2-8018-032b55985ef3"
      },
      "source": [
        "model.save('./model_save')"
      ],
      "execution_count": 33,
      "outputs": [
        {
          "output_type": "stream",
          "text": [
            "INFO:tensorflow:Assets written to: ./model_save/assets\n"
          ],
          "name": "stdout"
        }
      ]
    },
    {
      "cell_type": "code",
      "metadata": {
        "id": "mVSfVoTW6pIQ"
      },
      "source": [
        "model.save('./model_save01.h5')"
      ],
      "execution_count": 34,
      "outputs": []
    },
    {
      "cell_type": "code",
      "metadata": {
        "colab": {
          "base_uri": "https://localhost:8080/"
        },
        "id": "RTkMJXMH7G_p",
        "outputId": "7e5e71de-b80a-4b8e-af8a-08fab3239b48"
      },
      "source": [
        "model_load = tf.keras.models.load_model('./model_save01.h5')\n",
        "model_load"
      ],
      "execution_count": 36,
      "outputs": [
        {
          "output_type": "execute_result",
          "data": {
            "text/plain": [
              "<tensorflow.python.keras.engine.sequential.Sequential at 0x7f1eed288490>"
            ]
          },
          "metadata": {
            "tags": []
          },
          "execution_count": 36
        }
      ]
    },
    {
      "cell_type": "code",
      "metadata": {
        "colab": {
          "base_uri": "https://localhost:8080/"
        },
        "id": "AEoAp88UnXRi",
        "outputId": "b2728d0d-0ab8-4be7-8fc0-ed54dac8a9e4"
      },
      "source": [
        "load_pred = model_load.predict(x_test[30:31])\n",
        "load_pred, np.argmax(load_pred)"
      ],
      "execution_count": 37,
      "outputs": [
        {
          "output_type": "execute_result",
          "data": {
            "text/plain": [
              "(array([[0.0000000e+00, 0.0000000e+00, 0.0000000e+00, 1.0000000e+00,\n",
              "         0.0000000e+00, 0.0000000e+00, 0.0000000e+00, 5.1816895e-28,\n",
              "         0.0000000e+00, 0.0000000e+00]], dtype=float32), 3)"
            ]
          },
          "metadata": {
            "tags": []
          },
          "execution_count": 37
        }
      ]
    },
    {
      "cell_type": "code",
      "metadata": {
        "id": "rM1ycOKs-NWE"
      },
      "source": [
        ""
      ],
      "execution_count": null,
      "outputs": []
    }
  ]
}