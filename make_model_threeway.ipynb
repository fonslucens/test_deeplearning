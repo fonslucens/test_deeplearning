{
  "nbformat": 4,
  "nbformat_minor": 0,
  "metadata": {
    "colab": {
      "name": "make_model_threeway.ipynb",
      "provenance": [],
      "authorship_tag": "ABX9TyMCM2Fxt0HdcoOkWNlvvNKr",
      "include_colab_link": true
    },
    "kernelspec": {
      "name": "python3",
      "display_name": "Python 3"
    },
    "language_info": {
      "name": "python"
    }
  },
  "cells": [
    {
      "cell_type": "markdown",
      "metadata": {
        "id": "view-in-github",
        "colab_type": "text"
      },
      "source": [
        "<a href=\"https://colab.research.google.com/github/fonslucens/test_deeplearning/blob/master/make_model_threeway.ipynb\" target=\"_parent\"><img src=\"https://colab.research.google.com/assets/colab-badge.svg\" alt=\"Open In Colab\"/></a>"
      ]
    },
    {
      "cell_type": "markdown",
      "metadata": {
        "id": "Bjhu5n-FX5Ny"
      },
      "source": [
        "## Function API"
      ]
    },
    {
      "cell_type": "code",
      "metadata": {
        "id": "sOGAwwfuXlp2"
      },
      "source": [
        "import tensorflow as tf"
      ],
      "execution_count": 1,
      "outputs": []
    },
    {
      "cell_type": "code",
      "metadata": {
        "id": "9U8s0ZUoX_jH"
      },
      "source": [
        "inputs = tf.keras.Input(shape=(2,))"
      ],
      "execution_count": 9,
      "outputs": []
    },
    {
      "cell_type": "code",
      "metadata": {
        "id": "DsCbZhpVYFxQ"
      },
      "source": [
        "hidden = tf.keras.layers.Dense(2, activation='sigmoid')(inputs)"
      ],
      "execution_count": 10,
      "outputs": []
    },
    {
      "cell_type": "code",
      "metadata": {
        "id": "FEi4Llu1YRwV"
      },
      "source": [
        "outputs = tf.keras.layers.Dense(1, activation='sigmoid')(hidden)"
      ],
      "execution_count": 11,
      "outputs": []
    },
    {
      "cell_type": "code",
      "metadata": {
        "id": "RMh8NNGCZDnT"
      },
      "source": [
        "model = tf.keras.models.Model(inputs=inputs, outputs=outputs)"
      ],
      "execution_count": 12,
      "outputs": []
    },
    {
      "cell_type": "code",
      "metadata": {
        "colab": {
          "base_uri": "https://localhost:8080/",
          "height": 272
        },
        "id": "S7-3SmcmZZW7",
        "outputId": "452e073b-4c51-43a0-ea55-e46352f485ae"
      },
      "source": [
        "tf.keras.utils.plot_model(model)"
      ],
      "execution_count": 13,
      "outputs": [
        {
          "output_type": "execute_result",
          "data": {
            "image/png": "[encoded data removed]",
            "text/plain": [
              "<IPython.core.display.Image object>"
            ]
          },
          "metadata": {},
          "execution_count": 13
        }
      ]
    },
    {
      "cell_type": "code",
      "metadata": {
        "id": "mVw676XKaFsZ"
      },
      "source": [
        ""
      ],
      "execution_count": null,
      "outputs": []
    }
  ]
}