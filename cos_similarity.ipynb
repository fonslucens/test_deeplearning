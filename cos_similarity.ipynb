{
  "nbformat": 4,
  "nbformat_minor": 0,
  "metadata": {
    "colab": {
      "name": "cos_similarity.ipynb",
      "provenance": [],
      "authorship_tag": "ABX9TyNrJf17S+rjKCT4xE/8MNSK",
      "include_colab_link": true
    },
    "kernelspec": {
      "name": "python3",
      "display_name": "Python 3"
    },
    "language_info": {
      "name": "python"
    }
  },
  "cells": [
    {
      "cell_type": "markdown",
      "metadata": {
        "id": "view-in-github",
        "colab_type": "text"
      },
      "source": [
        "<a href=\"https://colab.research.google.com/github/fonslucens/test_deeplearning/blob/master/cos_similarity.ipynb\" target=\"_parent\"><img src=\"https://colab.research.google.com/assets/colab-badge.svg\" alt=\"Open In Colab\"/></a>"
      ]
    },
    {
      "cell_type": "markdown",
      "metadata": {
        "id": "7CkZuIm1oRF1"
      },
      "source": [
        " 바나나  사과  저는  좋아요\n",
        "문서1   0      1     1     1\n",
        "문서2   1      0     1     1\n",
        "문서3   2      0     2     2\n"
      ]
    },
    {
      "cell_type": "code",
      "metadata": {
        "id": "1kdA5WZCnAQt"
      },
      "source": [
        "from numpy import dot\n",
        "from numpy.linalg import norm\n",
        "import numpy as np\n",
        "def cos_sim(A, B):\n",
        "       return dot(A, B)/(norm(A)*norm(B))"
      ],
      "execution_count": null,
      "outputs": []
    },
    {
      "cell_type": "code",
      "metadata": {
        "id": "TTLKi1Cqo2Ck"
      },
      "source": [
        "doc1 = np.array([1, 0, 1, 1, 1])\n",
        "doc2 = np.array([2, 1, 0, 1, 1])\n",
        "doc3 = np.array([3, 2, 0, 2, 2])"
      ],
      "execution_count": null,
      "outputs": []
    },
    {
      "cell_type": "code",
      "metadata": {
        "colab": {
          "base_uri": "https://localhost:8080/"
        },
        "id": "t2LUKfqZpTa4",
        "outputId": "ab78564b-afed-4431-95f6-a5f749f28c25"
      },
      "source": [
        "cos_sim(doc1, doc2)"
      ],
      "execution_count": null,
      "outputs": [
        {
          "output_type": "execute_result",
          "data": {
            "text/plain": [
              "0.7559289460184544"
            ]
          },
          "metadata": {},
          "execution_count": 3
        }
      ]
    },
    {
      "cell_type": "code",
      "metadata": {
        "colab": {
          "base_uri": "https://localhost:8080/"
        },
        "id": "rNhDvf8wqPl8",
        "outputId": "0910d945-6bae-42dc-a610-90807b9ac4eb"
      },
      "source": [
        "cos_sim(doc1, doc3)"
      ],
      "execution_count": null,
      "outputs": [
        {
          "output_type": "execute_result",
          "data": {
            "text/plain": [
              "0.7637626158259734"
            ]
          },
          "metadata": {},
          "execution_count": 4
        }
      ]
    },
    {
      "cell_type": "markdown",
      "metadata": {
        "id": "j29Ho1ixxpZs"
      },
      "source": [
        "Client ID : aITCAPrRSpJfA6kKKSbO\n",
        "\n",
        "Client Secret : fuxth8kTcc"
      ]
    },
    {
      "cell_type": "code",
      "metadata": {
        "id": "nZUCBqOtqTZN"
      },
      "source": [
        "from sklearn.feature_extraction.text import TfidfVectorizer"
      ],
      "execution_count": 2,
      "outputs": []
    },
    {
      "cell_type": "code",
      "metadata": {
        "id": "ypCDvlb4jY76"
      },
      "source": [
        "corpus = [\n",
        "    'you know I want your love',\n",
        "    'I like you',\n",
        "    'what should I do ',    \n",
        "]\n"
      ],
      "execution_count": 3,
      "outputs": []
    },
    {
      "cell_type": "code",
      "metadata": {
        "colab": {
          "base_uri": "https://localhost:8080/"
        },
        "id": "-HzfDAYJjfdh",
        "outputId": "99f462c0-ecac-47f7-e11e-c69b7cbb8141"
      },
      "source": [
        "tfidf = TfidfVectorizer()\n",
        "tfidf.fit_transform(corpus).toarray()"
      ],
      "execution_count": 4,
      "outputs": [
        {
          "output_type": "execute_result",
          "data": {
            "text/plain": [
              "array([[0.        , 0.46735098, 0.        , 0.46735098, 0.        ,\n",
              "        0.46735098, 0.        , 0.35543247, 0.46735098],\n",
              "       [0.        , 0.        , 0.79596054, 0.        , 0.        ,\n",
              "        0.        , 0.        , 0.60534851, 0.        ],\n",
              "       [0.57735027, 0.        , 0.        , 0.        , 0.57735027,\n",
              "        0.        , 0.57735027, 0.        , 0.        ]])"
            ]
          },
          "metadata": {},
          "execution_count": 4
        }
      ]
    },
    {
      "cell_type": "code",
      "metadata": {
        "colab": {
          "base_uri": "https://localhost:8080/"
        },
        "id": "gszKjvwgj4ul",
        "outputId": "2402f94c-0574-47a8-f75d-777a288e3a57"
      },
      "source": [
        "print(tfidf.vocabulary_)"
      ],
      "execution_count": 6,
      "outputs": [
        {
          "output_type": "stream",
          "text": [
            "{'you': 7, 'know': 1, 'want': 5, 'your': 8, 'love': 3, 'like': 2, 'what': 6, 'should': 4, 'do': 0}\n"
          ],
          "name": "stdout"
        }
      ]
    },
    {
      "cell_type": "markdown",
      "metadata": {
        "id": "DGwHLhFSmU1N"
      },
      "source": [
        "## Recommanded with cos simulatory\n",
        "\n",
        "---\n",
        "dataset from https://www.kaggle.com/rounakbanik/the-movies-dataset/version/7?select=movies_metadata.csv\n",
        "\n",
        "\n"
      ]
    },
    {
      "cell_type": "code",
      "metadata": {
        "id": "AVuuSymzj7rc"
      },
      "source": [
        "import pandas as pd"
      ],
      "execution_count": 7,
      "outputs": []
    },
    {
      "cell_type": "code",
      "metadata": {
        "colab": {
          "base_uri": "https://localhost:8080/"
        },
        "id": "VIJrkXpZntym",
        "outputId": "5991512c-5a30-4056-d948-db63d859e842"
      },
      "source": [
        "df_data = pd.read_csv('./movies_metadata.csv')"
      ],
      "execution_count": 12,
      "outputs": [
        {
          "output_type": "stream",
          "text": [
            "/usr/local/lib/python3.7/dist-packages/IPython/core/interactiveshell.py:2718: DtypeWarning: Columns (10) have mixed types.Specify dtype option on import or set low_memory=False.\n",
            "  interactivity=interactivity, compiler=compiler, result=result)\n"
          ],
          "name": "stderr"
        }
      ]
    },
    {
      "cell_type": "code",
      "metadata": {
        "colab": {
          "base_uri": "https://localhost:8080/"
        },
        "id": "wY9da1z6np45",
        "outputId": "eab4dc18-7461-473b-8d50-6c0e0a710282"
      },
      "source": [
        "df_data.columns"
      ],
      "execution_count": 13,
      "outputs": [
        {
          "output_type": "execute_result",
          "data": {
            "text/plain": [
              "Index(['adult', 'belongs_to_collection', 'budget', 'genres', 'homepage', 'id',\n",
              "       'imdb_id', 'original_language', 'original_title', 'overview',\n",
              "       'popularity', 'poster_path', 'production_companies',\n",
              "       'production_countries', 'release_date', 'revenue', 'runtime',\n",
              "       'spoken_languages', 'status', 'tagline', 'title', 'video',\n",
              "       'vote_average', 'vote_count'],\n",
              "      dtype='object')"
            ]
          },
          "metadata": {},
          "execution_count": 13
        }
      ]
    },
    {
      "cell_type": "code",
      "metadata": {
        "id": "cM_HlxUPnsG1"
      },
      "source": [
        "data = df_data.head(10000)"
      ],
      "execution_count": 14,
      "outputs": []
    },
    {
      "cell_type": "code",
      "metadata": {
        "id": "Z60Vr29PoA4e"
      },
      "source": [
        "data = data.dropna()"
      ],
      "execution_count": 15,
      "outputs": []
    },
    {
      "cell_type": "code",
      "metadata": {
        "colab": {
          "base_uri": "https://localhost:8080/"
        },
        "id": "0lQ_qxsloD4Y",
        "outputId": "cd9c8ee8-c2aa-485e-b0b3-348592fed1fe"
      },
      "source": [
        "data.info()"
      ],
      "execution_count": 16,
      "outputs": [
        {
          "output_type": "stream",
          "text": [
            "<class 'pandas.core.frame.DataFrame'>\n",
            "Int64Index: 158 entries, 9 to 9888\n",
            "Data columns (total 24 columns):\n",
            " #   Column                 Non-Null Count  Dtype  \n",
            "---  ------                 --------------  -----  \n",
            " 0   adult                  158 non-null    object \n",
            " 1   belongs_to_collection  158 non-null    object \n",
            " 2   budget                 158 non-null    object \n",
            " 3   genres                 158 non-null    object \n",
            " 4   homepage               158 non-null    object \n",
            " 5   id                     158 non-null    object \n",
            " 6   imdb_id                158 non-null    object \n",
            " 7   original_language      158 non-null    object \n",
            " 8   original_title         158 non-null    object \n",
            " 9   overview               158 non-null    object \n",
            " 10  popularity             158 non-null    object \n",
            " 11  poster_path            158 non-null    object \n",
            " 12  production_companies   158 non-null    object \n",
            " 13  production_countries   158 non-null    object \n",
            " 14  release_date           158 non-null    object \n",
            " 15  revenue                158 non-null    float64\n",
            " 16  runtime                158 non-null    float64\n",
            " 17  spoken_languages       158 non-null    object \n",
            " 18  status                 158 non-null    object \n",
            " 19  tagline                158 non-null    object \n",
            " 20  title                  158 non-null    object \n",
            " 21  video                  158 non-null    object \n",
            " 22  vote_average           158 non-null    float64\n",
            " 23  vote_count             158 non-null    float64\n",
            "dtypes: float64(4), object(20)\n",
            "memory usage: 30.9+ KB\n"
          ],
          "name": "stdout"
        }
      ]
    },
    {
      "cell_type": "code",
      "metadata": {
        "id": "IVdDwg_iozBR"
      },
      "source": [
        "from sklearn.feature_extraction.text import TfidfVectorizer"
      ],
      "execution_count": 17,
      "outputs": []
    },
    {
      "cell_type": "code",
      "metadata": {
        "colab": {
          "base_uri": "https://localhost:8080/"
        },
        "id": "uVbjbRZ4o4Sr",
        "outputId": "1a135931-a8a7-412b-9397-fd519413e882"
      },
      "source": [
        "tfidf = TfidfVectorizer()\n",
        "tfidf_matrix = tfidf.fit_transform(data['overview'])\n",
        "tfidf_matrix.shape"
      ],
      "execution_count": 18,
      "outputs": [
        {
          "output_type": "execute_result",
          "data": {
            "text/plain": [
              "(158, 2696)"
            ]
          },
          "metadata": {},
          "execution_count": 18
        }
      ]
    },
    {
      "cell_type": "code",
      "metadata": {
        "colab": {
          "base_uri": "https://localhost:8080/"
        },
        "id": "nHQxqb43pLPL",
        "outputId": "380c081a-a16f-4dcd-ee6d-d749be1b1491"
      },
      "source": [
        "len(tfidf.vocabulary_)"
      ],
      "execution_count": 19,
      "outputs": [
        {
          "output_type": "execute_result",
          "data": {
            "text/plain": [
              "2696"
            ]
          },
          "metadata": {},
          "execution_count": 19
        }
      ]
    },
    {
      "cell_type": "code",
      "metadata": {
        "colab": {
          "base_uri": "https://localhost:8080/"
        },
        "id": "NMT85DyfpPEr",
        "outputId": "a97d5aa1-0b9f-4b6c-ee30-d2eb325ac104"
      },
      "source": [
        "type(tfidf_matrix), tfidf_matrix[4].toarray()"
      ],
      "execution_count": 21,
      "outputs": [
        {
          "output_type": "execute_result",
          "data": {
            "text/plain": [
              "(scipy.sparse.csr.csr_matrix, array([[0., 0., 0., ..., 0., 0., 0.]]))"
            ]
          },
          "metadata": {},
          "execution_count": 21
        }
      ]
    },
    {
      "cell_type": "code",
      "metadata": {
        "id": "4B66nORKpRcC"
      },
      "source": [
        "from sklearn.metrics.pairwise import linear_kernel"
      ],
      "execution_count": 22,
      "outputs": []
    },
    {
      "cell_type": "code",
      "metadata": {
        "colab": {
          "base_uri": "https://localhost:8080/"
        },
        "id": "MDaXWUgXqkZX",
        "outputId": "288afa4c-712d-4210-a4fc-3234d5ecd047"
      },
      "source": [
        "cosin_sim = linear_kernel(tfidf_matrix, tfidf_matrix)\n",
        "type(cosin_sim), cosin_sim.shape"
      ],
      "execution_count": 23,
      "outputs": [
        {
          "output_type": "execute_result",
          "data": {
            "text/plain": [
              "(numpy.ndarray, (158, 158))"
            ]
          },
          "metadata": {},
          "execution_count": 23
        }
      ]
    },
    {
      "cell_type": "code",
      "metadata": {
        "colab": {
          "base_uri": "https://localhost:8080/"
        },
        "id": "juWXloSKqwru",
        "outputId": "8ff08409-4e5a-4359-d781-a4b4b635c7bd"
      },
      "source": [
        "cosin_sim[3]"
      ],
      "execution_count": 24,
      "outputs": [
        {
          "output_type": "execute_result",
          "data": {
            "text/plain": [
              "array([0.03403894, 0.07378662, 0.0606532 , 1.        , 0.05231864,\n",
              "       0.05361942, 0.04305033, 0.01963748, 0.03302958, 0.04013632,\n",
              "       0.05650286, 0.04380791, 0.045455  , 0.0360105 , 0.07208718,\n",
              "       0.06037126, 0.02463999, 0.06438099, 0.0261279 , 0.03232211,\n",
              "       0.03084823, 0.04654037, 0.05100054, 0.02586476, 0.01778496,\n",
              "       0.05746612, 0.10967293, 0.0282976 , 0.04640804, 0.02406314,\n",
              "       0.0671682 , 0.03956612, 0.04875229, 0.04437252, 0.02699316,\n",
              "       0.02809418, 0.04223523, 0.02060186, 0.05070264, 0.03129839,\n",
              "       0.02382746, 0.03403162, 0.03612028, 0.0502291 , 0.04674237,\n",
              "       0.07158003, 0.02806686, 0.03066928, 0.07962729, 0.04691775,\n",
              "       0.00644533, 0.0481169 , 0.03853567, 0.03240614, 0.01586077,\n",
              "       0.02972285, 0.06138844, 0.02404479, 0.02269754, 0.03191292,\n",
              "       0.05483523, 0.03238852, 0.10369226, 0.01014625, 0.02365042,\n",
              "       0.07221074, 0.0937075 , 0.06614349, 0.06212896, 0.03717476,\n",
              "       0.03104298, 0.04467526, 0.04421634, 0.0348611 , 0.0419346 ,\n",
              "       0.04463273, 0.08416776, 0.02689952, 0.0765093 , 0.03427164,\n",
              "       0.05688173, 0.03798184, 0.06100084, 0.06977991, 0.043257  ,\n",
              "       0.06593067, 0.07318941, 0.03004147, 0.07785691, 0.03362121,\n",
              "       0.04905523, 0.05165596, 0.0530247 , 0.03135838, 0.03568706,\n",
              "       0.01777612, 0.02582292, 0.06439404, 0.09755842, 0.04048298,\n",
              "       0.02410179, 0.11799301, 0.02372764, 0.03365979, 0.0516431 ,\n",
              "       0.03419398, 0.05102216, 0.03686381, 0.05020573, 0.        ,\n",
              "       0.04703451, 0.06167647, 0.09303921, 0.05049593, 0.04349756,\n",
              "       0.06190237, 0.01970586, 0.0232032 , 0.04319589, 0.03768416,\n",
              "       0.01250471, 0.04833805, 0.03121207, 0.01953039, 0.03584489,\n",
              "       0.04046393, 0.04644173, 0.07827514, 0.06894843, 0.0402017 ,\n",
              "       0.04454245, 0.04634837, 0.07287341, 0.05707715, 0.03935795,\n",
              "       0.02696071, 0.03522189, 0.03972236, 0.04045747, 0.03815843,\n",
              "       0.04161958, 0.05359455, 0.0795967 , 0.04720775, 0.06361119,\n",
              "       0.03409284, 0.09568197, 0.03113103, 0.07496798, 0.06092952,\n",
              "       0.02241252, 0.03758525, 0.02565086, 0.06497691, 0.03866494,\n",
              "       0.09101481, 0.05321531, 0.05776599])"
            ]
          },
          "metadata": {},
          "execution_count": 24
        }
      ]
    },
    {
      "cell_type": "code",
      "metadata": {
        "colab": {
          "base_uri": "https://localhost:8080/"
        },
        "id": "uaAOh1EVqySt",
        "outputId": "99ca642f-7469-43f4-f053-569ae05db744"
      },
      "source": [
        "indeces = pd.Series(data.index, index=data['title']).drop_duplicates()\n",
        "indeces.head(5)"
      ],
      "execution_count": 25,
      "outputs": [
        {
          "output_type": "execute_result",
          "data": {
            "text/plain": [
              "title\n",
              "GoldenEye                                    9\n",
              "Friday                                      68\n",
              "From Dusk Till Dawn                         69\n",
              "Blue in the Face                           153\n",
              "Mighty Morphin Power Rangers: The Movie    178\n",
              "dtype: int64"
            ]
          },
          "metadata": {},
          "execution_count": 25
        }
      ]
    },
    {
      "cell_type": "code",
      "metadata": {
        "colab": {
          "base_uri": "https://localhost:8080/"
        },
        "id": "isr6RR3rrwpE",
        "outputId": "af66f232-57b0-4a91-ae06-7b1c044eb452"
      },
      "source": [
        "indeces['From Dusk Till Dawn']"
      ],
      "execution_count": 26,
      "outputs": [
        {
          "output_type": "execute_result",
          "data": {
            "text/plain": [
              "69"
            ]
          },
          "metadata": {},
          "execution_count": 26
        }
      ]
    },
    {
      "cell_type": "code",
      "metadata": {
        "colab": {
          "base_uri": "https://localhost:8080/"
        },
        "id": "fQosq8ubsSND",
        "outputId": "61954a5f-c604-441a-ab06-9170990a93ce"
      },
      "source": [
        "list(cosin_sim[69])"
      ],
      "execution_count": 27,
      "outputs": [
        {
          "output_type": "execute_result",
          "data": {
            "text/plain": [
              "[0.0727441763199051,\n",
              " 0.02892051203972273,\n",
              " 0.02996503077446317,\n",
              " 0.037174758464543475,\n",
              " 0.02346836061741026,\n",
              " 0.021246298385504493,\n",
              " 0.03633447712794377,\n",
              " 0.02409510202753557,\n",
              " 0.06229400104850713,\n",
              " 0.03702937763287602,\n",
              " 0.02266926258350839,\n",
              " 0.03550986180781372,\n",
              " 0.04067791017893172,\n",
              " 0.02258712427618866,\n",
              " 0.055681642758578426,\n",
              " 0.03285809837552814,\n",
              " 0.008864996791036644,\n",
              " 0.051654345203359445,\n",
              " 0.036543295302026296,\n",
              " 0.05436611020060969,\n",
              " 0.033444124944652376,\n",
              " 0.034369941078449484,\n",
              " 0.015738855191422714,\n",
              " 0.04867096565015526,\n",
              " 0.0165640075249569,\n",
              " 0.045349328897193536,\n",
              " 0.046479507343680074,\n",
              " 0.02335116601519331,\n",
              " 0.03414460067128391,\n",
              " 0.01880098894929399,\n",
              " 0.03749684968923591,\n",
              " 0.03495873912734175,\n",
              " 0.028904142549040543,\n",
              " 0.07653702067400137,\n",
              " 0.0420053856954951,\n",
              " 0.01887417858509342,\n",
              " 0.03899075747625005,\n",
              " 0.018905351270920575,\n",
              " 0.0581371686844761,\n",
              " 0.06256835081107805,\n",
              " 0.06418018781492944,\n",
              " 0.02818557476486423,\n",
              " 0.012636801969483472,\n",
              " 0.03411513362071413,\n",
              " 0.022011528214427596,\n",
              " 0.04084155794601536,\n",
              " 0.023258756302241734,\n",
              " 0.019434400902220792,\n",
              " 0.011090334694260625,\n",
              " 0.03129096914175193,\n",
              " 0.04968739277034367,\n",
              " 0.03873771943547791,\n",
              " 0.034845850090862746,\n",
              " 0.03605364586541966,\n",
              " 0.0548995128641066,\n",
              " 0.02896844624837778,\n",
              " 0.12396013932603699,\n",
              " 0.017560212468627247,\n",
              " 0.022379533800444853,\n",
              " 0.016716442893773248,\n",
              " 0.028666856516304462,\n",
              " 0.012784701549151406,\n",
              " 0.1021239662265584,\n",
              " 0.03605753708829086,\n",
              " 0.01856145411679454,\n",
              " 0.007536792238047464,\n",
              " 0.03627565301897282,\n",
              " 0.14772757089625846,\n",
              " 0.07863939654572888,\n",
              " 1.0000000000000002,\n",
              " 0.06490919638216405,\n",
              " 0.11846245157106666,\n",
              " 0.06759477729852406,\n",
              " 0.007901538716347259,\n",
              " 0.11163546861489206,\n",
              " 0.01962351198325638,\n",
              " 0.01181452076934861,\n",
              " 0.018959047441475984,\n",
              " 0.0777240551998175,\n",
              " 0.051627310335658996,\n",
              " 0.06704982880658902,\n",
              " 0.028672356399621114,\n",
              " 0.07708831666547515,\n",
              " 0.15998660887787308,\n",
              " 0.06751206299021836,\n",
              " 0.10414294242114651,\n",
              " 0.04845924109409865,\n",
              " 0.0717245949157262,\n",
              " 0.10207971087196481,\n",
              " 0.03816176849889954,\n",
              " 0.09094390029051094,\n",
              " 0.06753700009620281,\n",
              " 0.049070838287092515,\n",
              " 0.034855063923446575,\n",
              " 0.024062479484665455,\n",
              " 0.030183934970486534,\n",
              " 0.06296895414834959,\n",
              " 0.023769001423475638,\n",
              " 0.030156580008166636,\n",
              " 0.03376180402655872,\n",
              " 0.061113241865163405,\n",
              " 0.037795124213644886,\n",
              " 0.013543880450032412,\n",
              " 0.05214196347976607,\n",
              " 0.017136047440244224,\n",
              " 0.0545485044703303,\n",
              " 0.03825794763419014,\n",
              " 0.04060438050660771,\n",
              " 0.03959379257603307,\n",
              " 0.007428128800515271,\n",
              " 0.04368412791359948,\n",
              " 0.03345980038521615,\n",
              " 0.07328169202429911,\n",
              " 0.0689153492778048,\n",
              " 0.04811438035541243,\n",
              " 0.04703552901593579,\n",
              " 0.014362995369105555,\n",
              " 0.014307027867566774,\n",
              " 0.06985103392068573,\n",
              " 0.029171828881181305,\n",
              " 0.006024975732732928,\n",
              " 0.014747555638018852,\n",
              " 0.030870304828824347,\n",
              " 0.030274526518226395,\n",
              " 0.053070918929712795,\n",
              " 0.011049442309096387,\n",
              " 0.05400170634573909,\n",
              " 0.019459697602779054,\n",
              " 0.016100559847618837,\n",
              " 0.03879250264403164,\n",
              " 0.028407275208326067,\n",
              " 0.023713241492282357,\n",
              " 0.04701350455478659,\n",
              " 0.1189225068324697,\n",
              " 0.055885332432776914,\n",
              " 0.020799280936346448,\n",
              " 0.04803360538836958,\n",
              " 0.13396597843861469,\n",
              " 0.12763954217361856,\n",
              " 0.08967898602019628,\n",
              " 0.07594087445235678,\n",
              " 0.02408693980023397,\n",
              " 0.08666987642376395,\n",
              " 0.06478599766441434,\n",
              " 0.028746339265731016,\n",
              " 0.03514313566038776,\n",
              " 0.0534815153722194,\n",
              " 0.021863433525886794,\n",
              " 0.05246406756710896,\n",
              " 0.0948290631705181,\n",
              " 0.006121010082791553,\n",
              " 0.026997757361824554,\n",
              " 0.03204387494829313,\n",
              " 0.019101143576897628,\n",
              " 0.041909783109255964,\n",
              " 0.03110393121739402,\n",
              " 0.042092553084743786,\n",
              " 0.044729912840070066]"
            ]
          },
          "metadata": {},
          "execution_count": 27
        }
      ]
    },
    {
      "cell_type": "code",
      "metadata": {
        "colab": {
          "base_uri": "https://localhost:8080/"
        },
        "id": "D4IoVxm2se7r",
        "outputId": "f65b7c07-4ebb-4d49-fabb-c92426c63642"
      },
      "source": [
        "sorted(list(cosin_sim[69]), reverse=True)[1:11]"
      ],
      "execution_count": 28,
      "outputs": [
        {
          "output_type": "execute_result",
          "data": {
            "text/plain": [
              "[0.15998660887787308,\n",
              " 0.14772757089625846,\n",
              " 0.13396597843861469,\n",
              " 0.12763954217361856,\n",
              " 0.12396013932603699,\n",
              " 0.1189225068324697,\n",
              " 0.11846245157106666,\n",
              " 0.11163546861489206,\n",
              " 0.10414294242114651,\n",
              " 0.1021239662265584]"
            ]
          },
          "metadata": {},
          "execution_count": 28
        }
      ]
    },
    {
      "cell_type": "code",
      "metadata": {
        "colab": {
          "base_uri": "https://localhost:8080/"
        },
        "id": "-nIUJ5JhtNNW",
        "outputId": "2d0e9a18-726a-4610-d436-6d57f8553c87"
      },
      "source": [
        "cosin_list = list(enumerate(cosin_sim[69]))\n",
        "cosin_list"
      ],
      "execution_count": 29,
      "outputs": [
        {
          "output_type": "execute_result",
          "data": {
            "text/plain": [
              "[(0, 0.0727441763199051),\n",
              " (1, 0.02892051203972273),\n",
              " (2, 0.02996503077446317),\n",
              " (3, 0.037174758464543475),\n",
              " (4, 0.02346836061741026),\n",
              " (5, 0.021246298385504493),\n",
              " (6, 0.03633447712794377),\n",
              " (7, 0.02409510202753557),\n",
              " (8, 0.06229400104850713),\n",
              " (9, 0.03702937763287602),\n",
              " (10, 0.02266926258350839),\n",
              " (11, 0.03550986180781372),\n",
              " (12, 0.04067791017893172),\n",
              " (13, 0.02258712427618866),\n",
              " (14, 0.055681642758578426),\n",
              " (15, 0.03285809837552814),\n",
              " (16, 0.008864996791036644),\n",
              " (17, 0.051654345203359445),\n",
              " (18, 0.036543295302026296),\n",
              " (19, 0.05436611020060969),\n",
              " (20, 0.033444124944652376),\n",
              " (21, 0.034369941078449484),\n",
              " (22, 0.015738855191422714),\n",
              " (23, 0.04867096565015526),\n",
              " (24, 0.0165640075249569),\n",
              " (25, 0.045349328897193536),\n",
              " (26, 0.046479507343680074),\n",
              " (27, 0.02335116601519331),\n",
              " (28, 0.03414460067128391),\n",
              " (29, 0.01880098894929399),\n",
              " (30, 0.03749684968923591),\n",
              " (31, 0.03495873912734175),\n",
              " (32, 0.028904142549040543),\n",
              " (33, 0.07653702067400137),\n",
              " (34, 0.0420053856954951),\n",
              " (35, 0.01887417858509342),\n",
              " (36, 0.03899075747625005),\n",
              " (37, 0.018905351270920575),\n",
              " (38, 0.0581371686844761),\n",
              " (39, 0.06256835081107805),\n",
              " (40, 0.06418018781492944),\n",
              " (41, 0.02818557476486423),\n",
              " (42, 0.012636801969483472),\n",
              " (43, 0.03411513362071413),\n",
              " (44, 0.022011528214427596),\n",
              " (45, 0.04084155794601536),\n",
              " (46, 0.023258756302241734),\n",
              " (47, 0.019434400902220792),\n",
              " (48, 0.011090334694260625),\n",
              " (49, 0.03129096914175193),\n",
              " (50, 0.04968739277034367),\n",
              " (51, 0.03873771943547791),\n",
              " (52, 0.034845850090862746),\n",
              " (53, 0.03605364586541966),\n",
              " (54, 0.0548995128641066),\n",
              " (55, 0.02896844624837778),\n",
              " (56, 0.12396013932603699),\n",
              " (57, 0.017560212468627247),\n",
              " (58, 0.022379533800444853),\n",
              " (59, 0.016716442893773248),\n",
              " (60, 0.028666856516304462),\n",
              " (61, 0.012784701549151406),\n",
              " (62, 0.1021239662265584),\n",
              " (63, 0.03605753708829086),\n",
              " (64, 0.01856145411679454),\n",
              " (65, 0.007536792238047464),\n",
              " (66, 0.03627565301897282),\n",
              " (67, 0.14772757089625846),\n",
              " (68, 0.07863939654572888),\n",
              " (69, 1.0000000000000002),\n",
              " (70, 0.06490919638216405),\n",
              " (71, 0.11846245157106666),\n",
              " (72, 0.06759477729852406),\n",
              " (73, 0.007901538716347259),\n",
              " (74, 0.11163546861489206),\n",
              " (75, 0.01962351198325638),\n",
              " (76, 0.01181452076934861),\n",
              " (77, 0.018959047441475984),\n",
              " (78, 0.0777240551998175),\n",
              " (79, 0.051627310335658996),\n",
              " (80, 0.06704982880658902),\n",
              " (81, 0.028672356399621114),\n",
              " (82, 0.07708831666547515),\n",
              " (83, 0.15998660887787308),\n",
              " (84, 0.06751206299021836),\n",
              " (85, 0.10414294242114651),\n",
              " (86, 0.04845924109409865),\n",
              " (87, 0.0717245949157262),\n",
              " (88, 0.10207971087196481),\n",
              " (89, 0.03816176849889954),\n",
              " (90, 0.09094390029051094),\n",
              " (91, 0.06753700009620281),\n",
              " (92, 0.049070838287092515),\n",
              " (93, 0.034855063923446575),\n",
              " (94, 0.024062479484665455),\n",
              " (95, 0.030183934970486534),\n",
              " (96, 0.06296895414834959),\n",
              " (97, 0.023769001423475638),\n",
              " (98, 0.030156580008166636),\n",
              " (99, 0.03376180402655872),\n",
              " (100, 0.061113241865163405),\n",
              " (101, 0.037795124213644886),\n",
              " (102, 0.013543880450032412),\n",
              " (103, 0.05214196347976607),\n",
              " (104, 0.017136047440244224),\n",
              " (105, 0.0545485044703303),\n",
              " (106, 0.03825794763419014),\n",
              " (107, 0.04060438050660771),\n",
              " (108, 0.03959379257603307),\n",
              " (109, 0.007428128800515271),\n",
              " (110, 0.04368412791359948),\n",
              " (111, 0.03345980038521615),\n",
              " (112, 0.07328169202429911),\n",
              " (113, 0.0689153492778048),\n",
              " (114, 0.04811438035541243),\n",
              " (115, 0.04703552901593579),\n",
              " (116, 0.014362995369105555),\n",
              " (117, 0.014307027867566774),\n",
              " (118, 0.06985103392068573),\n",
              " (119, 0.029171828881181305),\n",
              " (120, 0.006024975732732928),\n",
              " (121, 0.014747555638018852),\n",
              " (122, 0.030870304828824347),\n",
              " (123, 0.030274526518226395),\n",
              " (124, 0.053070918929712795),\n",
              " (125, 0.011049442309096387),\n",
              " (126, 0.05400170634573909),\n",
              " (127, 0.019459697602779054),\n",
              " (128, 0.016100559847618837),\n",
              " (129, 0.03879250264403164),\n",
              " (130, 0.028407275208326067),\n",
              " (131, 0.023713241492282357),\n",
              " (132, 0.04701350455478659),\n",
              " (133, 0.1189225068324697),\n",
              " (134, 0.055885332432776914),\n",
              " (135, 0.020799280936346448),\n",
              " (136, 0.04803360538836958),\n",
              " (137, 0.13396597843861469),\n",
              " (138, 0.12763954217361856),\n",
              " (139, 0.08967898602019628),\n",
              " (140, 0.07594087445235678),\n",
              " (141, 0.02408693980023397),\n",
              " (142, 0.08666987642376395),\n",
              " (143, 0.06478599766441434),\n",
              " (144, 0.028746339265731016),\n",
              " (145, 0.03514313566038776),\n",
              " (146, 0.0534815153722194),\n",
              " (147, 0.021863433525886794),\n",
              " (148, 0.05246406756710896),\n",
              " (149, 0.0948290631705181),\n",
              " (150, 0.006121010082791553),\n",
              " (151, 0.026997757361824554),\n",
              " (152, 0.03204387494829313),\n",
              " (153, 0.019101143576897628),\n",
              " (154, 0.041909783109255964),\n",
              " (155, 0.03110393121739402),\n",
              " (156, 0.042092553084743786),\n",
              " (157, 0.044729912840070066)]"
            ]
          },
          "metadata": {},
          "execution_count": 29
        }
      ]
    },
    {
      "cell_type": "code",
      "metadata": {
        "colab": {
          "base_uri": "https://localhost:8080/"
        },
        "id": "tX0vuro8yI9Z",
        "outputId": "c2679aed-e605-4d4a-e550-a18709553f37"
      },
      "source": [
        "cosin_index = sorted(cosin_list, key=lambda x:x[1], reverse=True)\n",
        "cosin_index[0:11]"
      ],
      "execution_count": 31,
      "outputs": [
        {
          "output_type": "execute_result",
          "data": {
            "text/plain": [
              "[(69, 1.0000000000000002),\n",
              " (83, 0.15998660887787308),\n",
              " (67, 0.14772757089625846),\n",
              " (137, 0.13396597843861469),\n",
              " (138, 0.12763954217361856),\n",
              " (56, 0.12396013932603699),\n",
              " (133, 0.1189225068324697),\n",
              " (71, 0.11846245157106666),\n",
              " (74, 0.11163546861489206),\n",
              " (85, 0.10414294242114651),\n",
              " (62, 0.1021239662265584)]"
            ]
          },
          "metadata": {},
          "execution_count": 31
        }
      ]
    },
    {
      "cell_type": "code",
      "metadata": {
        "id": "m4hz5001yxk6"
      },
      "source": [
        "# for i in cosin_index:\n",
        "#   i[0]\n",
        "movie_indexes = [i[0] for i in cosin_index[1:11]]"
      ],
      "execution_count": 34,
      "outputs": []
    },
    {
      "cell_type": "code",
      "metadata": {
        "colab": {
          "base_uri": "https://localhost:8080/"
        },
        "id": "fbTsSpZPz2Ku",
        "outputId": "a13c9a96-4f97-40d3-ab21-71187dcda114"
      },
      "source": [
        "data['title'].iloc[movie_indexes]"
      ],
      "execution_count": 35,
      "outputs": [
        {
          "output_type": "execute_result",
          "data": {
            "text/plain": [
              "3513                      The Spy Who Loved Me\n",
              "2832                     From Russia with Love\n",
              "7329                       You Only Live Twice\n",
              "7330                                 Octopussy\n",
              "2263                          A View to a Kill\n",
              "7192    Agent Cody Banks 2: Destination London\n",
              "2875                          Live and Let Die\n",
              "2965                   The World Is Not Enough\n",
              "3517               The Man with the Golden Gun\n",
              "2572                                    Tarzan\n",
              "Name: title, dtype: object"
            ]
          },
          "metadata": {},
          "execution_count": 35
        }
      ]
    },
    {
      "cell_type": "code",
      "metadata": {
        "id": "4z_4HWC-0GGa"
      },
      "source": [
        ""
      ],
      "execution_count": null,
      "outputs": []
    }
  ]
}