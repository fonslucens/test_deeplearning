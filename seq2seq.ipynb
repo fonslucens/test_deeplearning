{
  "nbformat": 4,
  "nbformat_minor": 0,
  "metadata": {
    "colab": {
      "name": "seq2seq.ipynb",
      "provenance": [],
      "authorship_tag": "ABX9TyMIqaHnbtWq4IoPMG93eLBP",
      "include_colab_link": true
    },
    "kernelspec": {
      "name": "python3",
      "display_name": "Python 3"
    },
    "language_info": {
      "name": "python"
    }
  },
  "cells": [
    {
      "cell_type": "markdown",
      "metadata": {
        "id": "view-in-github",
        "colab_type": "text"
      },
      "source": [
        "<a href=\"https://colab.research.google.com/github/fonslucens/test_deeplearning/blob/master/seq2seq.ipynb\" target=\"_parent\"><img src=\"https://colab.research.google.com/assets/colab-badge.svg\" alt=\"Open In Colab\"/></a>"
      ]
    },
    {
      "cell_type": "code",
      "metadata": {
        "id": "pTTJF2zcXTRA"
      },
      "source": [
        "import numpy as np"
      ],
      "execution_count": 1,
      "outputs": []
    },
    {
      "cell_type": "code",
      "metadata": {
        "colab": {
          "base_uri": "https://localhost:8080/"
        },
        "id": "kqFXDbmUXgxX",
        "outputId": "349e70e3-7cc9-41a4-d586-028e1ab4265e"
      },
      "source": [
        "index_inputs = np.load(open('./train_inputs.npy', 'rb'))\n",
        "index_outputs = np.load(open('./train_outputs.npy', 'rb'))\n",
        "index_targets = np.load(open('./train_targets.npy', 'rb'))\n",
        "type(index_inputs), type(index_outputs), type(index_targets)"
      ],
      "execution_count": 22,
      "outputs": [
        {
          "output_type": "execute_result",
          "data": {
            "text/plain": [
              "(numpy.ndarray, numpy.ndarray, numpy.ndarray)"
            ]
          },
          "metadata": {},
          "execution_count": 22
        }
      ]
    },
    {
      "cell_type": "code",
      "metadata": {
        "colab": {
          "base_uri": "https://localhost:8080/"
        },
        "id": "3DFDxbX-XsZs",
        "outputId": "40a5f921-8a7c-4504-f1f5-f13f12d6e4c6"
      },
      "source": [
        "index_inputs[3:5]"
      ],
      "execution_count": 3,
      "outputs": [
        {
          "output_type": "execute_result",
          "data": {
            "text/plain": [
              "array([[ 20,  30, 107,   0,   0,   0,   0,   0,   0,   0,   0,   0,   0,\n",
              "          0,   0,   0,   0,   0,   0,   0,   0,   0,   0,   0,   0],\n",
              "       [ 93,   7,  79,   0,   0,   0,   0,   0,   0,   0,   0,   0,   0,\n",
              "          0,   0,   0,   0,   0,   0,   0,   0,   0,   0,   0,   0]])"
            ]
          },
          "metadata": {},
          "execution_count": 3
        }
      ]
    },
    {
      "cell_type": "code",
      "metadata": {
        "colab": {
          "base_uri": "https://localhost:8080/"
        },
        "id": "F-59IKawXuFz",
        "outputId": "fbb8ba45-7252-44a2-e5f3-9ca2272bcaea"
      },
      "source": [
        "!python -m pip install konlpy"
      ],
      "execution_count": 4,
      "outputs": [
        {
          "output_type": "stream",
          "text": [
            "Collecting konlpy\n",
            "  Downloading konlpy-0.5.2-py2.py3-none-any.whl (19.4 MB)\n",
            "\u001b[K     |████████████████████████████████| 19.4 MB 55.5 MB/s \n",
            "\u001b[?25hRequirement already satisfied: lxml>=4.1.0 in /usr/local/lib/python3.7/dist-packages (from konlpy) (4.2.6)\n",
            "Collecting beautifulsoup4==4.6.0\n",
            "  Downloading beautifulsoup4-4.6.0-py3-none-any.whl (86 kB)\n",
            "\u001b[K     |████████████████████████████████| 86 kB 4.2 MB/s \n",
            "\u001b[?25hCollecting colorama\n",
            "  Downloading colorama-0.4.4-py2.py3-none-any.whl (16 kB)\n",
            "Requirement already satisfied: numpy>=1.6 in /usr/local/lib/python3.7/dist-packages (from konlpy) (1.19.5)\n",
            "Collecting JPype1>=0.7.0\n",
            "  Downloading JPype1-1.3.0-cp37-cp37m-manylinux_2_5_x86_64.manylinux1_x86_64.whl (448 kB)\n",
            "\u001b[K     |████████████████████████████████| 448 kB 58.6 MB/s \n",
            "\u001b[?25hRequirement already satisfied: tweepy>=3.7.0 in /usr/local/lib/python3.7/dist-packages (from konlpy) (3.10.0)\n",
            "Requirement already satisfied: typing-extensions in /usr/local/lib/python3.7/dist-packages (from JPype1>=0.7.0->konlpy) (3.7.4.3)\n",
            "Requirement already satisfied: six>=1.10.0 in /usr/local/lib/python3.7/dist-packages (from tweepy>=3.7.0->konlpy) (1.15.0)\n",
            "Requirement already satisfied: requests-oauthlib>=0.7.0 in /usr/local/lib/python3.7/dist-packages (from tweepy>=3.7.0->konlpy) (1.3.0)\n",
            "Requirement already satisfied: requests[socks]>=2.11.1 in /usr/local/lib/python3.7/dist-packages (from tweepy>=3.7.0->konlpy) (2.23.0)\n",
            "Requirement already satisfied: oauthlib>=3.0.0 in /usr/local/lib/python3.7/dist-packages (from requests-oauthlib>=0.7.0->tweepy>=3.7.0->konlpy) (3.1.1)\n",
            "Requirement already satisfied: idna<3,>=2.5 in /usr/local/lib/python3.7/dist-packages (from requests[socks]>=2.11.1->tweepy>=3.7.0->konlpy) (2.10)\n",
            "Requirement already satisfied: chardet<4,>=3.0.2 in /usr/local/lib/python3.7/dist-packages (from requests[socks]>=2.11.1->tweepy>=3.7.0->konlpy) (3.0.4)\n",
            "Requirement already satisfied: urllib3!=1.25.0,!=1.25.1,<1.26,>=1.21.1 in /usr/local/lib/python3.7/dist-packages (from requests[socks]>=2.11.1->tweepy>=3.7.0->konlpy) (1.24.3)\n",
            "Requirement already satisfied: certifi>=2017.4.17 in /usr/local/lib/python3.7/dist-packages (from requests[socks]>=2.11.1->tweepy>=3.7.0->konlpy) (2021.5.30)\n",
            "Requirement already satisfied: PySocks!=1.5.7,>=1.5.6 in /usr/local/lib/python3.7/dist-packages (from requests[socks]>=2.11.1->tweepy>=3.7.0->konlpy) (1.7.1)\n",
            "Installing collected packages: JPype1, colorama, beautifulsoup4, konlpy\n",
            "  Attempting uninstall: beautifulsoup4\n",
            "    Found existing installation: beautifulsoup4 4.6.3\n",
            "    Uninstalling beautifulsoup4-4.6.3:\n",
            "      Successfully uninstalled beautifulsoup4-4.6.3\n",
            "Successfully installed JPype1-1.3.0 beautifulsoup4-4.6.0 colorama-0.4.4 konlpy-0.5.2\n"
          ],
          "name": "stdout"
        }
      ]
    },
    {
      "cell_type": "code",
      "metadata": {
        "id": "5qnYdX_lp3Xn"
      },
      "source": [
        "import preprocess as pp"
      ],
      "execution_count": 5,
      "outputs": []
    },
    {
      "cell_type": "code",
      "metadata": {
        "colab": {
          "base_uri": "https://localhost:8080/"
        },
        "id": "mOmvNI5Xp_Zd",
        "outputId": "98b0c4f9-812a-4ebf-83e2-85a654b9cdab"
      },
      "source": [
        "prepro_configs = pp.json.load(open('./data_configs.json', 'r'))\n",
        "type(prepro_configs)"
      ],
      "execution_count": 6,
      "outputs": [
        {
          "output_type": "execute_result",
          "data": {
            "text/plain": [
              "dict"
            ]
          },
          "metadata": {},
          "execution_count": 6
        }
      ]
    },
    {
      "cell_type": "code",
      "metadata": {
        "colab": {
          "base_uri": "https://localhost:8080/"
        },
        "id": "06aO3P9VqOdc",
        "outputId": "f117e670-4f95-4ee3-e914-21b0a63582fc"
      },
      "source": [
        "prepro_configs.keys()"
      ],
      "execution_count": 7,
      "outputs": [
        {
          "output_type": "execute_result",
          "data": {
            "text/plain": [
              "dict_keys(['char2idx', 'idx2char', 'vocab_size', 'pad_symbol', 'std_symbol', 'end_symbol', 'unk_symbol'])"
            ]
          },
          "metadata": {},
          "execution_count": 7
        }
      ]
    },
    {
      "cell_type": "markdown",
      "metadata": {
        "id": "KgYyWUo2quko"
      },
      "source": [
        "## make model"
      ]
    },
    {
      "cell_type": "code",
      "metadata": {
        "id": "-5yEAbHEqQUk"
      },
      "source": [
        "import tensorflow as tf"
      ],
      "execution_count": 8,
      "outputs": []
    },
    {
      "cell_type": "markdown",
      "metadata": {
        "id": "6LU1NU0mtxYP"
      },
      "source": [
        "## encorde model"
      ]
    },
    {
      "cell_type": "code",
      "metadata": {
        "id": "6BXB54qHx4Dc"
      },
      "source": [
        "vocab_size = prepro_configs['vocab_size']\n",
        "latent_dim = 60"
      ],
      "execution_count": 12,
      "outputs": []
    },
    {
      "cell_type": "code",
      "metadata": {
        "id": "erURN0qCqyMq"
      },
      "source": [
        "encode_input = tf.keras.Input(shape=(None,))\n",
        "encode_hidden = tf.keras.layers.Embedding(input_dim=vocab_size, output_dim=latent_dim)(encode_input)\n",
        "encode_output, state_h, state_c = tf.keras.layers.LSTM(50, return_state=True)(encode_hidden)\n",
        "encode_states =[state_h, state_c] "
      ],
      "execution_count": 13,
      "outputs": []
    },
    {
      "cell_type": "markdown",
      "metadata": {
        "id": "D0xjfMVXx8w8"
      },
      "source": [
        "## decode model"
      ]
    },
    {
      "cell_type": "code",
      "metadata": {
        "id": "kPyzMH7gxbz5"
      },
      "source": [
        "decode_input = tf.keras.Input(shape=(None,))\n",
        "decode_hidden = tf.keras.layers.Embedding(input_dim=vocab_size, output_dim=latent_dim)(decode_input)\n",
        "decode_lstm, _, _ = tf.keras.layers.LSTM(50, return_state=True, return_sequences=True)(decode_hidden, initial_state=encode_states)\n",
        "decode_output = tf.keras.layers.Dense(vocab_size, activation='softmax')(decode_lstm)"
      ],
      "execution_count": 15,
      "outputs": []
    },
    {
      "cell_type": "code",
      "metadata": {
        "id": "zf5aVnMA1ssk"
      },
      "source": [
        "model = tf.keras.models.Model(inputs=[encode_input, decode_input], outputs=decode_output)"
      ],
      "execution_count": 18,
      "outputs": []
    },
    {
      "cell_type": "code",
      "metadata": {
        "colab": {
          "base_uri": "https://localhost:8080/",
          "height": 466
        },
        "id": "5IYPsA5f15z1",
        "outputId": "560f9596-cbc3-48bd-87a9-07a3b407ba2f"
      },
      "source": [
        "tf.keras.utils.plot_model(model)"
      ],
      "execution_count": 19,
      "outputs": [
        {
          "output_type": "execute_result",
          "data": {
            "image/png": "[encoded data removed]",
            "text/plain": [
              "<IPython.core.display.Image object>"
            ]
          },
          "metadata": {},
          "execution_count": 19
        }
      ]
    },
    {
      "cell_type": "code",
      "metadata": {
        "id": "KHkhQDIi2N5L"
      },
      "source": [
        "model.compile(optimizer='adam', loss='sparse_categorical_crossentropy', metrics=['acc'])"
      ],
      "execution_count": 20,
      "outputs": []
    },
    {
      "cell_type": "markdown",
      "metadata": {
        "id": "AEVHAtaV46tc"
      },
      "source": [
        "## fit"
      ]
    },
    {
      "cell_type": "code",
      "metadata": {
        "colab": {
          "base_uri": "https://localhost:8080/"
        },
        "id": "E42mqhzK44b1",
        "outputId": "961f0635-d1b5-49ec-b89c-45d946f37bf1"
      },
      "source": [
        "# index_inputs, index_outputs, index_targets\n",
        "model.fit(x=[index_inputs, index_outputs], y=index_targets, batch_size=128, epochs=50)"
      ],
      "execution_count": 23,
      "outputs": [
        {
          "output_type": "stream",
          "text": [
            "Epoch 1/50\n",
            "1/1 [==============================] - 4s 4s/step - loss: 4.7118 - acc: 0.0000e+00\n",
            "Epoch 2/50\n",
            "1/1 [==============================] - 0s 46ms/step - loss: 4.6925 - acc: 0.0020\n",
            "Epoch 3/50\n",
            "1/1 [==============================] - 0s 31ms/step - loss: 4.6733 - acc: 0.8220\n",
            "Epoch 4/50\n",
            "1/1 [==============================] - 0s 33ms/step - loss: 4.6538 - acc: 0.8200\n",
            "Epoch 5/50\n",
            "1/1 [==============================] - 0s 31ms/step - loss: 4.6335 - acc: 0.8180\n",
            "Epoch 6/50\n",
            "1/1 [==============================] - 0s 32ms/step - loss: 4.6116 - acc: 0.8180\n",
            "Epoch 7/50\n",
            "1/1 [==============================] - 0s 44ms/step - loss: 4.5875 - acc: 0.8180\n",
            "Epoch 8/50\n",
            "1/1 [==============================] - 0s 37ms/step - loss: 4.5602 - acc: 0.8180\n",
            "Epoch 9/50\n",
            "1/1 [==============================] - 0s 35ms/step - loss: 4.5288 - acc: 0.8180\n",
            "Epoch 10/50\n",
            "1/1 [==============================] - 0s 34ms/step - loss: 4.4920 - acc: 0.8180\n",
            "Epoch 11/50\n",
            "1/1 [==============================] - 0s 42ms/step - loss: 4.4480 - acc: 0.8180\n",
            "Epoch 12/50\n",
            "1/1 [==============================] - 0s 35ms/step - loss: 4.3946 - acc: 0.8180\n",
            "Epoch 13/50\n",
            "1/1 [==============================] - 0s 43ms/step - loss: 4.3286 - acc: 0.8180\n",
            "Epoch 14/50\n",
            "1/1 [==============================] - 0s 34ms/step - loss: 4.2458 - acc: 0.8180\n",
            "Epoch 15/50\n",
            "1/1 [==============================] - 0s 41ms/step - loss: 4.1407 - acc: 0.8180\n",
            "Epoch 16/50\n",
            "1/1 [==============================] - 0s 40ms/step - loss: 4.0064 - acc: 0.8180\n",
            "Epoch 17/50\n",
            "1/1 [==============================] - 0s 37ms/step - loss: 3.8366 - acc: 0.8180\n",
            "Epoch 18/50\n",
            "1/1 [==============================] - 0s 42ms/step - loss: 3.6289 - acc: 0.8180\n",
            "Epoch 19/50\n",
            "1/1 [==============================] - 0s 34ms/step - loss: 3.3897 - acc: 0.8180\n",
            "Epoch 20/50\n",
            "1/1 [==============================] - 0s 39ms/step - loss: 3.1353 - acc: 0.8180\n",
            "Epoch 21/50\n",
            "1/1 [==============================] - 0s 38ms/step - loss: 2.8856 - acc: 0.8180\n",
            "Epoch 22/50\n",
            "1/1 [==============================] - 0s 37ms/step - loss: 2.6544 - acc: 0.8180\n",
            "Epoch 23/50\n",
            "1/1 [==============================] - 0s 37ms/step - loss: 2.4467 - acc: 0.8180\n",
            "Epoch 24/50\n",
            "1/1 [==============================] - 0s 39ms/step - loss: 2.2625 - acc: 0.8180\n",
            "Epoch 25/50\n",
            "1/1 [==============================] - 0s 37ms/step - loss: 2.0990 - acc: 0.8180\n",
            "Epoch 26/50\n",
            "1/1 [==============================] - 0s 45ms/step - loss: 1.9529 - acc: 0.8180\n",
            "Epoch 27/50\n",
            "1/1 [==============================] - 0s 36ms/step - loss: 1.8214 - acc: 0.8180\n",
            "Epoch 28/50\n",
            "1/1 [==============================] - 0s 34ms/step - loss: 1.7027 - acc: 0.8180\n",
            "Epoch 29/50\n",
            "1/1 [==============================] - 0s 44ms/step - loss: 1.5956 - acc: 0.8180\n",
            "Epoch 30/50\n",
            "1/1 [==============================] - 0s 38ms/step - loss: 1.4995 - acc: 0.8180\n",
            "Epoch 31/50\n",
            "1/1 [==============================] - 0s 41ms/step - loss: 1.4138 - acc: 0.8180\n",
            "Epoch 32/50\n",
            "1/1 [==============================] - 0s 34ms/step - loss: 1.3381 - acc: 0.8180\n",
            "Epoch 33/50\n",
            "1/1 [==============================] - 0s 37ms/step - loss: 1.2723 - acc: 0.8180\n",
            "Epoch 34/50\n",
            "1/1 [==============================] - 0s 35ms/step - loss: 1.2156 - acc: 0.8180\n",
            "Epoch 35/50\n",
            "1/1 [==============================] - 0s 35ms/step - loss: 1.1677 - acc: 0.8180\n",
            "Epoch 36/50\n",
            "1/1 [==============================] - 0s 35ms/step - loss: 1.1275 - acc: 0.8180\n",
            "Epoch 37/50\n",
            "1/1 [==============================] - 0s 37ms/step - loss: 1.0943 - acc: 0.8180\n",
            "Epoch 38/50\n",
            "1/1 [==============================] - 0s 34ms/step - loss: 1.0669 - acc: 0.8180\n",
            "Epoch 39/50\n",
            "1/1 [==============================] - 0s 37ms/step - loss: 1.0444 - acc: 0.8180\n",
            "Epoch 40/50\n",
            "1/1 [==============================] - 0s 46ms/step - loss: 1.0256 - acc: 0.8180\n",
            "Epoch 41/50\n",
            "1/1 [==============================] - 0s 47ms/step - loss: 1.0095 - acc: 0.8180\n",
            "Epoch 42/50\n",
            "1/1 [==============================] - 0s 36ms/step - loss: 0.9954 - acc: 0.8180\n",
            "Epoch 43/50\n",
            "1/1 [==============================] - 0s 35ms/step - loss: 0.9825 - acc: 0.8180\n",
            "Epoch 44/50\n",
            "1/1 [==============================] - 0s 33ms/step - loss: 0.9702 - acc: 0.8180\n",
            "Epoch 45/50\n",
            "1/1 [==============================] - 0s 39ms/step - loss: 0.9581 - acc: 0.8180\n",
            "Epoch 46/50\n",
            "1/1 [==============================] - 0s 35ms/step - loss: 0.9461 - acc: 0.8180\n",
            "Epoch 47/50\n",
            "1/1 [==============================] - 0s 39ms/step - loss: 0.9340 - acc: 0.8180\n",
            "Epoch 48/50\n",
            "1/1 [==============================] - 0s 36ms/step - loss: 0.9218 - acc: 0.8180\n",
            "Epoch 49/50\n",
            "1/1 [==============================] - 0s 44ms/step - loss: 0.9097 - acc: 0.8180\n",
            "Epoch 50/50\n",
            "1/1 [==============================] - 0s 36ms/step - loss: 0.8979 - acc: 0.8180\n"
          ],
          "name": "stdout"
        },
        {
          "output_type": "execute_result",
          "data": {
            "text/plain": [
              "<keras.callbacks.History at 0x7fe163a13f10>"
            ]
          },
          "metadata": {},
          "execution_count": 23
        }
      ]
    },
    {
      "cell_type": "markdown",
      "metadata": {
        "id": "tkZWdCsG5rHL"
      },
      "source": [
        "refer : https://github.com/NLP-kr/tensorflow-ml-nlp-tf2/blob/master/6.CHATBOT/6.4.seq2seq.ipynb\n"
      ]
    },
    {
      "cell_type": "code",
      "metadata": {
        "id": "E57kIqib5qtq"
      },
      "source": [
        ""
      ],
      "execution_count": null,
      "outputs": []
    }
  ]
}