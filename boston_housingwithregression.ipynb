{
  "nbformat": 4,
  "nbformat_minor": 0,
  "metadata": {
    "colab": {
      "name": "boston_housingwithregression.ipynb",
      "provenance": [],
      "authorship_tag": "ABX9TyOBtS9EQDOv4xeUruxCX3k1",
      "include_colab_link": true
    },
    "kernelspec": {
      "name": "python3",
      "display_name": "Python 3"
    },
    "language_info": {
      "name": "python"
    }
  },
  "cells": [
    {
      "cell_type": "markdown",
      "metadata": {
        "id": "view-in-github",
        "colab_type": "text"
      },
      "source": [
        "<a href=\"https://colab.research.google.com/github/fonslucens/test_deeplearning/blob/master/boston_housingwithregression.ipynb\" target=\"_parent\"><img src=\"https://colab.research.google.com/assets/colab-badge.svg\" alt=\"Open In Colab\"/></a>"
      ]
    },
    {
      "cell_type": "code",
      "metadata": {
        "id": "UDqRnParX3eQ"
      },
      "source": [
        "import tensorflow as tf\n",
        "from tensorflow.keras.datasets.boston_housing import load_data"
      ],
      "execution_count": 1,
      "outputs": []
    },
    {
      "cell_type": "markdown",
      "metadata": {
        "id": "T5xUREdp1KEf"
      },
      "source": [
        "# Dataset"
      ]
    },
    {
      "cell_type": "code",
      "metadata": {
        "colab": {
          "base_uri": "https://localhost:8080/"
        },
        "id": "7qatHWxdbyRI",
        "outputId": "ef76cdb9-b5bd-48aa-af57-94acfba5c182"
      },
      "source": [
        "(x_train, y_train), (x_test, y_test) = load_data(path='boston_housing.npz', test_split=0.2, seed=113)\n",
        "x_train.shape, y_train.shape, x_test.shape, y_test.shape"
      ],
      "execution_count": 2,
      "outputs": [
        {
          "output_type": "stream",
          "text": [
            "Downloading data from https://storage.googleapis.com/tensorflow/tf-keras-datasets/boston_housing.npz\n",
            "57344/57026 [==============================] - 0s 0us/step\n"
          ],
          "name": "stdout"
        },
        {
          "output_type": "execute_result",
          "data": {
            "text/plain": [
              "((404, 13), (404,), (102, 13), (102,))"
            ]
          },
          "metadata": {
            "tags": []
          },
          "execution_count": 2
        }
      ]
    },
    {
      "cell_type": "code",
      "metadata": {
        "colab": {
          "base_uri": "https://localhost:8080/"
        },
        "id": "yG8DocAId31s",
        "outputId": "3772cc96-f2e4-4be7-f523-8aebc989d765"
      },
      "source": [
        "type(x_train)"
      ],
      "execution_count": 3,
      "outputs": [
        {
          "output_type": "execute_result",
          "data": {
            "text/plain": [
              "numpy.ndarray"
            ]
          },
          "metadata": {
            "tags": []
          },
          "execution_count": 3
        }
      ]
    },
    {
      "cell_type": "code",
      "metadata": {
        "id": "33hs8YFO1QqG"
      },
      "source": [
        "import pandas as pd"
      ],
      "execution_count": 26,
      "outputs": []
    },
    {
      "cell_type": "code",
      "metadata": {
        "colab": {
          "base_uri": "https://localhost:8080/"
        },
        "id": "cVWCLIOn1XdL",
        "outputId": "f395c51e-de11-4398-cccf-f92ce711d7b7"
      },
      "source": [
        "df = pd.DataFrame(x_train)\n",
        "df.info()"
      ],
      "execution_count": 27,
      "outputs": [
        {
          "output_type": "stream",
          "text": [
            "<class 'pandas.core.frame.DataFrame'>\n",
            "RangeIndex: 404 entries, 0 to 403\n",
            "Data columns (total 13 columns):\n",
            " #   Column  Non-Null Count  Dtype  \n",
            "---  ------  --------------  -----  \n",
            " 0   0       404 non-null    float64\n",
            " 1   1       404 non-null    float64\n",
            " 2   2       404 non-null    float64\n",
            " 3   3       404 non-null    float64\n",
            " 4   4       404 non-null    float64\n",
            " 5   5       404 non-null    float64\n",
            " 6   6       404 non-null    float64\n",
            " 7   7       404 non-null    float64\n",
            " 8   8       404 non-null    float64\n",
            " 9   9       404 non-null    float64\n",
            " 10  10      404 non-null    float64\n",
            " 11  11      404 non-null    float64\n",
            " 12  12      404 non-null    float64\n",
            "dtypes: float64(13)\n",
            "memory usage: 41.2 KB\n"
          ],
          "name": "stdout"
        }
      ]
    },
    {
      "cell_type": "code",
      "metadata": {
        "colab": {
          "base_uri": "https://localhost:8080/",
          "height": 317
        },
        "id": "IuBlv1De1hoX",
        "outputId": "bed528a1-3a9b-46b5-bf76-df4496420caf"
      },
      "source": [
        "df.describe()"
      ],
      "execution_count": 29,
      "outputs": [
        {
          "output_type": "execute_result",
          "data": {
            "text/html": [
              "<div>\n",
              "<style scoped>\n",
              "    .dataframe tbody tr th:only-of-type {\n",
              "        vertical-align: middle;\n",
              "    }\n",
              "\n",
              "    .dataframe tbody tr th {\n",
              "        vertical-align: top;\n",
              "    }\n",
              "\n",
              "    .dataframe thead th {\n",
              "        text-align: right;\n",
              "    }\n",
              "</style>\n",
              "<table border=\"1\" class=\"dataframe\">\n",
              "  <thead>\n",
              "    <tr style=\"text-align: right;\">\n",
              "      <th></th>\n",
              "      <th>0</th>\n",
              "      <th>1</th>\n",
              "      <th>2</th>\n",
              "      <th>3</th>\n",
              "      <th>4</th>\n",
              "      <th>5</th>\n",
              "      <th>6</th>\n",
              "      <th>7</th>\n",
              "      <th>8</th>\n",
              "      <th>9</th>\n",
              "      <th>10</th>\n",
              "      <th>11</th>\n",
              "      <th>12</th>\n",
              "    </tr>\n",
              "  </thead>\n",
              "  <tbody>\n",
              "    <tr>\n",
              "      <th>count</th>\n",
              "      <td>404.000000</td>\n",
              "      <td>404.000000</td>\n",
              "      <td>404.000000</td>\n",
              "      <td>404.000000</td>\n",
              "      <td>404.000000</td>\n",
              "      <td>404.000000</td>\n",
              "      <td>404.000000</td>\n",
              "      <td>404.000000</td>\n",
              "      <td>404.000000</td>\n",
              "      <td>404.000000</td>\n",
              "      <td>404.000000</td>\n",
              "      <td>404.000000</td>\n",
              "      <td>404.000000</td>\n",
              "    </tr>\n",
              "    <tr>\n",
              "      <th>mean</th>\n",
              "      <td>3.745111</td>\n",
              "      <td>11.480198</td>\n",
              "      <td>11.104431</td>\n",
              "      <td>0.061881</td>\n",
              "      <td>0.557356</td>\n",
              "      <td>6.267082</td>\n",
              "      <td>69.010644</td>\n",
              "      <td>3.740271</td>\n",
              "      <td>9.440594</td>\n",
              "      <td>405.898515</td>\n",
              "      <td>18.475990</td>\n",
              "      <td>354.783168</td>\n",
              "      <td>12.740817</td>\n",
              "    </tr>\n",
              "    <tr>\n",
              "      <th>std</th>\n",
              "      <td>9.240734</td>\n",
              "      <td>23.767711</td>\n",
              "      <td>6.811308</td>\n",
              "      <td>0.241238</td>\n",
              "      <td>0.117293</td>\n",
              "      <td>0.709788</td>\n",
              "      <td>27.940665</td>\n",
              "      <td>2.030215</td>\n",
              "      <td>8.698360</td>\n",
              "      <td>166.374543</td>\n",
              "      <td>2.200382</td>\n",
              "      <td>94.111148</td>\n",
              "      <td>7.254545</td>\n",
              "    </tr>\n",
              "    <tr>\n",
              "      <th>min</th>\n",
              "      <td>0.006320</td>\n",
              "      <td>0.000000</td>\n",
              "      <td>0.460000</td>\n",
              "      <td>0.000000</td>\n",
              "      <td>0.385000</td>\n",
              "      <td>3.561000</td>\n",
              "      <td>2.900000</td>\n",
              "      <td>1.129600</td>\n",
              "      <td>1.000000</td>\n",
              "      <td>188.000000</td>\n",
              "      <td>12.600000</td>\n",
              "      <td>0.320000</td>\n",
              "      <td>1.730000</td>\n",
              "    </tr>\n",
              "    <tr>\n",
              "      <th>25%</th>\n",
              "      <td>0.081437</td>\n",
              "      <td>0.000000</td>\n",
              "      <td>5.130000</td>\n",
              "      <td>0.000000</td>\n",
              "      <td>0.453000</td>\n",
              "      <td>5.874750</td>\n",
              "      <td>45.475000</td>\n",
              "      <td>2.077100</td>\n",
              "      <td>4.000000</td>\n",
              "      <td>279.000000</td>\n",
              "      <td>17.225000</td>\n",
              "      <td>374.672500</td>\n",
              "      <td>6.890000</td>\n",
              "    </tr>\n",
              "    <tr>\n",
              "      <th>50%</th>\n",
              "      <td>0.268880</td>\n",
              "      <td>0.000000</td>\n",
              "      <td>9.690000</td>\n",
              "      <td>0.000000</td>\n",
              "      <td>0.538000</td>\n",
              "      <td>6.198500</td>\n",
              "      <td>78.500000</td>\n",
              "      <td>3.142300</td>\n",
              "      <td>5.000000</td>\n",
              "      <td>330.000000</td>\n",
              "      <td>19.100000</td>\n",
              "      <td>391.250000</td>\n",
              "      <td>11.395000</td>\n",
              "    </tr>\n",
              "    <tr>\n",
              "      <th>75%</th>\n",
              "      <td>3.674808</td>\n",
              "      <td>12.500000</td>\n",
              "      <td>18.100000</td>\n",
              "      <td>0.000000</td>\n",
              "      <td>0.631000</td>\n",
              "      <td>6.609000</td>\n",
              "      <td>94.100000</td>\n",
              "      <td>5.118000</td>\n",
              "      <td>24.000000</td>\n",
              "      <td>666.000000</td>\n",
              "      <td>20.200000</td>\n",
              "      <td>396.157500</td>\n",
              "      <td>17.092500</td>\n",
              "    </tr>\n",
              "    <tr>\n",
              "      <th>max</th>\n",
              "      <td>88.976200</td>\n",
              "      <td>100.000000</td>\n",
              "      <td>27.740000</td>\n",
              "      <td>1.000000</td>\n",
              "      <td>0.871000</td>\n",
              "      <td>8.725000</td>\n",
              "      <td>100.000000</td>\n",
              "      <td>10.710300</td>\n",
              "      <td>24.000000</td>\n",
              "      <td>711.000000</td>\n",
              "      <td>22.000000</td>\n",
              "      <td>396.900000</td>\n",
              "      <td>37.970000</td>\n",
              "    </tr>\n",
              "  </tbody>\n",
              "</table>\n",
              "</div>"
            ],
            "text/plain": [
              "               0           1           2   ...          10          11          12\n",
              "count  404.000000  404.000000  404.000000  ...  404.000000  404.000000  404.000000\n",
              "mean     3.745111   11.480198   11.104431  ...   18.475990  354.783168   12.740817\n",
              "std      9.240734   23.767711    6.811308  ...    2.200382   94.111148    7.254545\n",
              "min      0.006320    0.000000    0.460000  ...   12.600000    0.320000    1.730000\n",
              "25%      0.081437    0.000000    5.130000  ...   17.225000  374.672500    6.890000\n",
              "50%      0.268880    0.000000    9.690000  ...   19.100000  391.250000   11.395000\n",
              "75%      3.674808   12.500000   18.100000  ...   20.200000  396.157500   17.092500\n",
              "max     88.976200  100.000000   27.740000  ...   22.000000  396.900000   37.970000\n",
              "\n",
              "[8 rows x 13 columns]"
            ]
          },
          "metadata": {
            "tags": []
          },
          "execution_count": 29
        }
      ]
    },
    {
      "cell_type": "code",
      "metadata": {
        "colab": {
          "base_uri": "https://localhost:8080/"
        },
        "id": "DQD99QyK25sv",
        "outputId": "a9b15429-7a49-42ae-9a54-fe8ec0fd3f5d"
      },
      "source": [
        "from sklearn.preprocessing import StandardScaler\n",
        "scaler = StandardScaler()\n",
        "scaler.fit(x_train)\n"
      ],
      "execution_count": 30,
      "outputs": [
        {
          "output_type": "execute_result",
          "data": {
            "text/plain": [
              "StandardScaler(copy=True, with_mean=True, with_std=True)"
            ]
          },
          "metadata": {
            "tags": []
          },
          "execution_count": 30
        }
      ]
    },
    {
      "cell_type": "code",
      "metadata": {
        "colab": {
          "base_uri": "https://localhost:8080/"
        },
        "id": "NGFlP2OY3gB0",
        "outputId": "db0e44e4-6904-468a-d141-bc3c6897e457"
      },
      "source": [
        "x_train = scaler.transform(x_train)\n",
        "x_test = scaler.transform(x_test)\n",
        "x_train.shape, x_test.shape"
      ],
      "execution_count": 32,
      "outputs": [
        {
          "output_type": "execute_result",
          "data": {
            "text/plain": [
              "((404, 13), (102, 13))"
            ]
          },
          "metadata": {
            "tags": []
          },
          "execution_count": 32
        }
      ]
    },
    {
      "cell_type": "code",
      "metadata": {
        "colab": {
          "base_uri": "https://localhost:8080/",
          "height": 317
        },
        "id": "A3p62ZNf4FAd",
        "outputId": "692f5fd7-b129-4ad7-e035-57a45faa221f"
      },
      "source": [
        "df = pd.DataFrame(x_train)\n",
        "df.describe()"
      ],
      "execution_count": 33,
      "outputs": [
        {
          "output_type": "execute_result",
          "data": {
            "text/html": [
              "<div>\n",
              "<style scoped>\n",
              "    .dataframe tbody tr th:only-of-type {\n",
              "        vertical-align: middle;\n",
              "    }\n",
              "\n",
              "    .dataframe tbody tr th {\n",
              "        vertical-align: top;\n",
              "    }\n",
              "\n",
              "    .dataframe thead th {\n",
              "        text-align: right;\n",
              "    }\n",
              "</style>\n",
              "<table border=\"1\" class=\"dataframe\">\n",
              "  <thead>\n",
              "    <tr style=\"text-align: right;\">\n",
              "      <th></th>\n",
              "      <th>0</th>\n",
              "      <th>1</th>\n",
              "      <th>2</th>\n",
              "      <th>3</th>\n",
              "      <th>4</th>\n",
              "      <th>5</th>\n",
              "      <th>6</th>\n",
              "      <th>7</th>\n",
              "      <th>8</th>\n",
              "      <th>9</th>\n",
              "      <th>10</th>\n",
              "      <th>11</th>\n",
              "      <th>12</th>\n",
              "    </tr>\n",
              "  </thead>\n",
              "  <tbody>\n",
              "    <tr>\n",
              "      <th>count</th>\n",
              "      <td>404.000000</td>\n",
              "      <td>404.000000</td>\n",
              "      <td>404.000000</td>\n",
              "      <td>404.000000</td>\n",
              "      <td>404.000000</td>\n",
              "      <td>404.000000</td>\n",
              "      <td>404.000000</td>\n",
              "      <td>404.000000</td>\n",
              "      <td>404.000000</td>\n",
              "      <td>404.000000</td>\n",
              "      <td>404.000000</td>\n",
              "      <td>404.000000</td>\n",
              "      <td>404.000000</td>\n",
              "    </tr>\n",
              "    <tr>\n",
              "      <th>mean</th>\n",
              "      <td>-0.405785</td>\n",
              "      <td>-0.483615</td>\n",
              "      <td>-1.632315</td>\n",
              "      <td>-0.256833</td>\n",
              "      <td>-4.757714</td>\n",
              "      <td>-8.840465</td>\n",
              "      <td>-2.472962</td>\n",
              "      <td>-1.844587</td>\n",
              "      <td>-1.086676</td>\n",
              "      <td>-2.442692</td>\n",
              "      <td>-8.407131</td>\n",
              "      <td>-3.774506</td>\n",
              "      <td>-1.758431</td>\n",
              "    </tr>\n",
              "    <tr>\n",
              "      <th>std</th>\n",
              "      <td>0.108485</td>\n",
              "      <td>0.042178</td>\n",
              "      <td>0.147179</td>\n",
              "      <td>4.155563</td>\n",
              "      <td>8.546806</td>\n",
              "      <td>1.412368</td>\n",
              "      <td>0.035879</td>\n",
              "      <td>0.493781</td>\n",
              "      <td>0.115249</td>\n",
              "      <td>0.006025</td>\n",
              "      <td>0.455594</td>\n",
              "      <td>0.010652</td>\n",
              "      <td>0.138187</td>\n",
              "    </tr>\n",
              "    <tr>\n",
              "      <th>min</th>\n",
              "      <td>-0.449678</td>\n",
              "      <td>-0.503988</td>\n",
              "      <td>-1.862320</td>\n",
              "      <td>-1.322796</td>\n",
              "      <td>-17.316788</td>\n",
              "      <td>-14.225151</td>\n",
              "      <td>-2.557856</td>\n",
              "      <td>-2.479545</td>\n",
              "      <td>-1.198510</td>\n",
              "      <td>-2.450584</td>\n",
              "      <td>-9.623769</td>\n",
              "      <td>-3.814626</td>\n",
              "      <td>-1.968168</td>\n",
              "    </tr>\n",
              "    <tr>\n",
              "      <th>25%</th>\n",
              "      <td>-0.448796</td>\n",
              "      <td>-0.503988</td>\n",
              "      <td>-1.761411</td>\n",
              "      <td>-1.322796</td>\n",
              "      <td>-12.361827</td>\n",
              "      <td>-9.621144</td>\n",
              "      <td>-2.503185</td>\n",
              "      <td>-2.249097</td>\n",
              "      <td>-1.158762</td>\n",
              "      <td>-2.447288</td>\n",
              "      <td>-8.666152</td>\n",
              "      <td>-3.772255</td>\n",
              "      <td>-1.869879</td>\n",
              "    </tr>\n",
              "    <tr>\n",
              "      <th>50%</th>\n",
              "      <td>-0.446596</td>\n",
              "      <td>-0.503988</td>\n",
              "      <td>-1.662878</td>\n",
              "      <td>-1.322796</td>\n",
              "      <td>-6.168125</td>\n",
              "      <td>-8.976932</td>\n",
              "      <td>-2.460777</td>\n",
              "      <td>-1.990024</td>\n",
              "      <td>-1.145512</td>\n",
              "      <td>-2.445441</td>\n",
              "      <td>-8.277929</td>\n",
              "      <td>-3.770378</td>\n",
              "      <td>-1.784066</td>\n",
              "    </tr>\n",
              "    <tr>\n",
              "      <th>75%</th>\n",
              "      <td>-0.406611</td>\n",
              "      <td>-0.481806</td>\n",
              "      <td>-1.481154</td>\n",
              "      <td>-1.322796</td>\n",
              "      <td>0.608514</td>\n",
              "      <td>-8.160100</td>\n",
              "      <td>-2.440745</td>\n",
              "      <td>-1.509501</td>\n",
              "      <td>-0.893770</td>\n",
              "      <td>-2.433272</td>\n",
              "      <td>-8.050171</td>\n",
              "      <td>-3.769823</td>\n",
              "      <td>-1.675539</td>\n",
              "    </tr>\n",
              "    <tr>\n",
              "      <th>max</th>\n",
              "      <td>0.594817</td>\n",
              "      <td>-0.326528</td>\n",
              "      <td>-1.272853</td>\n",
              "      <td>15.903167</td>\n",
              "      <td>18.096614</td>\n",
              "      <td>-3.949586</td>\n",
              "      <td>-2.433169</td>\n",
              "      <td>-0.149364</td>\n",
              "      <td>-0.893770</td>\n",
              "      <td>-2.431643</td>\n",
              "      <td>-7.677477</td>\n",
              "      <td>-3.769739</td>\n",
              "      <td>-1.277858</td>\n",
              "    </tr>\n",
              "  </tbody>\n",
              "</table>\n",
              "</div>"
            ],
            "text/plain": [
              "               0           1           2   ...          10          11          12\n",
              "count  404.000000  404.000000  404.000000  ...  404.000000  404.000000  404.000000\n",
              "mean    -0.405785   -0.483615   -1.632315  ...   -8.407131   -3.774506   -1.758431\n",
              "std      0.108485    0.042178    0.147179  ...    0.455594    0.010652    0.138187\n",
              "min     -0.449678   -0.503988   -1.862320  ...   -9.623769   -3.814626   -1.968168\n",
              "25%     -0.448796   -0.503988   -1.761411  ...   -8.666152   -3.772255   -1.869879\n",
              "50%     -0.446596   -0.503988   -1.662878  ...   -8.277929   -3.770378   -1.784066\n",
              "75%     -0.406611   -0.481806   -1.481154  ...   -8.050171   -3.769823   -1.675539\n",
              "max      0.594817   -0.326528   -1.272853  ...   -7.677477   -3.769739   -1.277858\n",
              "\n",
              "[8 rows x 13 columns]"
            ]
          },
          "metadata": {
            "tags": []
          },
          "execution_count": 33
        }
      ]
    },
    {
      "cell_type": "markdown",
      "metadata": {
        "id": "NNxLDM3L0iiM"
      },
      "source": [
        "#Model and fit"
      ]
    },
    {
      "cell_type": "code",
      "metadata": {
        "id": "TCIr_98ueRcC"
      },
      "source": [
        "model = tf.keras.models.Sequential()"
      ],
      "execution_count": 34,
      "outputs": []
    },
    {
      "cell_type": "code",
      "metadata": {
        "colab": {
          "base_uri": "https://localhost:8080/"
        },
        "id": "SqyPGTjxfNC4",
        "outputId": "c76cb9e2-9cf5-48c1-eaf0-ec4896aabe5d"
      },
      "source": [
        "model.add(tf.keras.Input(shape=(13))) # Input layer\n",
        "\n",
        "model.add(tf.keras.layers.Dense(64, activation='sigmoid')) # 기능 layer\n",
        "model.add(tf.keras.layers.Dense(64, activation='sigmoid')) # hidden layer\n",
        "model.add(tf.keras.layers.Dense(64, activation='sigmoid')) # hidden layer\n",
        "\n",
        "model.add(tf.keras.layers.Dense(1,)) # output layer\n",
        "\n",
        "model.compile(optimizer='sgd', loss='mse', metrics=['mae'])"
      ],
      "execution_count": 35,
      "outputs": [
        {
          "output_type": "stream",
          "text": [
            "WARNING:tensorflow:Please add `keras.layers.InputLayer` instead of `keras.Input` to Sequential model. `keras.Input` is intended to be used by Functional model.\n"
          ],
          "name": "stdout"
        }
      ]
    },
    {
      "cell_type": "code",
      "metadata": {
        "colab": {
          "base_uri": "https://localhost:8080/",
          "height": 533
        },
        "id": "OakjkQ0JyJDO",
        "outputId": "bc7b9aec-f1ad-48da-bdb0-1a1d12bb558e"
      },
      "source": [
        "tf.keras.utils.plot_model(model, show_shapes=True)"
      ],
      "execution_count": 36,
      "outputs": [
        {
          "output_type": "execute_result",
          "data": {
            "image/png": "[encoded data removed]",
            "text/plain": [
              "<IPython.core.display.Image object>"
            ]
          },
          "metadata": {
            "tags": []
          },
          "execution_count": 36
        }
      ]
    },
    {
      "cell_type": "code",
      "metadata": {
        "id": "b1ZpzfedfdCX"
      },
      "source": [
        "Model: \"sequential\""
      ],
      "execution_count": 37,
      "outputs": []
    },
    {
      "cell_type": "code",
      "metadata": {
        "colab": {
          "base_uri": "https://localhost:8080/"
        },
        "id": "kKrda-fbzcio",
        "outputId": "1ba99a7d-4b75-4cbd-97f7-b5ec0bc22715"
      },
      "source": [
        "model.summary()"
      ],
      "execution_count": 38,
      "outputs": [
        {
          "output_type": "stream",
          "text": [
            "Model: \"sequential_1\"\n",
            "_________________________________________________________________\n",
            "Layer (type)                 Output Shape              Param #   \n",
            "=================================================================\n",
            "dense_10 (Dense)             (None, 64)                896       \n",
            "_________________________________________________________________\n",
            "dense_11 (Dense)             (None, 64)                4160      \n",
            "_________________________________________________________________\n",
            "dense_12 (Dense)             (None, 64)                4160      \n",
            "_________________________________________________________________\n",
            "dense_13 (Dense)             (None, 1)                 65        \n",
            "=================================================================\n",
            "Total params: 9,281\n",
            "Trainable params: 9,281\n",
            "Non-trainable params: 0\n",
            "_________________________________________________________________\n"
          ],
          "name": "stdout"
        }
      ]
    },
    {
      "cell_type": "code",
      "metadata": {
        "colab": {
          "base_uri": "https://localhost:8080/"
        },
        "id": "1NXEofHvwXHW",
        "outputId": "7e439881-aa2d-4cac-86e2-e998a085e96b"
      },
      "source": [
        "model.fit(x_train, y_train, epochs= 100)"
      ],
      "execution_count": 39,
      "outputs": [
        {
          "output_type": "stream",
          "text": [
            "Epoch 1/100\n",
            "13/13 [==============================] - 0s 2ms/step - loss: 153.3197 - mae: 8.8074\n",
            "Epoch 2/100\n",
            "13/13 [==============================] - 0s 2ms/step - loss: 84.3894 - mae: 6.7605\n",
            "Epoch 3/100\n",
            "13/13 [==============================] - 0s 2ms/step - loss: 78.9997 - mae: 6.3456\n",
            "Epoch 4/100\n",
            "13/13 [==============================] - 0s 2ms/step - loss: 72.1022 - mae: 6.0559\n",
            "Epoch 5/100\n",
            "13/13 [==============================] - 0s 2ms/step - loss: 65.9559 - mae: 5.8021\n",
            "Epoch 6/100\n",
            "13/13 [==============================] - 0s 2ms/step - loss: 61.5057 - mae: 5.5614\n",
            "Epoch 7/100\n",
            "13/13 [==============================] - 0s 2ms/step - loss: 67.5830 - mae: 6.1622\n",
            "Epoch 8/100\n",
            "13/13 [==============================] - 0s 2ms/step - loss: 61.4752 - mae: 5.5755\n",
            "Epoch 9/100\n",
            "13/13 [==============================] - 0s 2ms/step - loss: 59.2534 - mae: 5.6078\n",
            "Epoch 10/100\n",
            "13/13 [==============================] - 0s 2ms/step - loss: 49.9232 - mae: 5.0993\n",
            "Epoch 11/100\n",
            "13/13 [==============================] - 0s 2ms/step - loss: 54.7582 - mae: 5.4952\n",
            "Epoch 12/100\n",
            "13/13 [==============================] - 0s 2ms/step - loss: 51.8610 - mae: 5.1386\n",
            "Epoch 13/100\n",
            "13/13 [==============================] - 0s 2ms/step - loss: 53.4372 - mae: 5.3860\n",
            "Epoch 14/100\n",
            "13/13 [==============================] - 0s 3ms/step - loss: 63.8758 - mae: 5.9613\n",
            "Epoch 15/100\n",
            "13/13 [==============================] - 0s 2ms/step - loss: 42.3805 - mae: 4.8421\n",
            "Epoch 16/100\n",
            "13/13 [==============================] - 0s 2ms/step - loss: 35.0451 - mae: 4.1937\n",
            "Epoch 17/100\n",
            "13/13 [==============================] - 0s 2ms/step - loss: 53.0475 - mae: 5.6279\n",
            "Epoch 18/100\n",
            "13/13 [==============================] - 0s 2ms/step - loss: 38.4226 - mae: 4.4784\n",
            "Epoch 19/100\n",
            "13/13 [==============================] - 0s 2ms/step - loss: 32.7583 - mae: 4.0559\n",
            "Epoch 20/100\n",
            "13/13 [==============================] - 0s 2ms/step - loss: 38.4195 - mae: 4.5664\n",
            "Epoch 21/100\n",
            "13/13 [==============================] - 0s 2ms/step - loss: 53.2796 - mae: 5.2463\n",
            "Epoch 22/100\n",
            "13/13 [==============================] - 0s 2ms/step - loss: 35.8009 - mae: 4.3362\n",
            "Epoch 23/100\n",
            "13/13 [==============================] - 0s 2ms/step - loss: 31.7038 - mae: 4.0382\n",
            "Epoch 24/100\n",
            "13/13 [==============================] - 0s 2ms/step - loss: 46.5362 - mae: 4.8587\n",
            "Epoch 25/100\n",
            "13/13 [==============================] - 0s 2ms/step - loss: 43.1858 - mae: 4.8119\n",
            "Epoch 26/100\n",
            "13/13 [==============================] - 0s 2ms/step - loss: 35.8763 - mae: 4.4018\n",
            "Epoch 27/100\n",
            "13/13 [==============================] - 0s 2ms/step - loss: 39.8084 - mae: 4.6151\n",
            "Epoch 28/100\n",
            "13/13 [==============================] - 0s 1ms/step - loss: 39.9354 - mae: 4.4490\n",
            "Epoch 29/100\n",
            "13/13 [==============================] - 0s 2ms/step - loss: 25.7098 - mae: 3.6186\n",
            "Epoch 30/100\n",
            "13/13 [==============================] - 0s 2ms/step - loss: 34.7673 - mae: 4.1732\n",
            "Epoch 31/100\n",
            "13/13 [==============================] - 0s 2ms/step - loss: 31.4178 - mae: 3.9823\n",
            "Epoch 32/100\n",
            "13/13 [==============================] - 0s 2ms/step - loss: 24.7382 - mae: 3.5351\n",
            "Epoch 33/100\n",
            "13/13 [==============================] - 0s 1ms/step - loss: 26.0563 - mae: 3.6750\n",
            "Epoch 34/100\n",
            "13/13 [==============================] - 0s 2ms/step - loss: 26.1502 - mae: 3.5701\n",
            "Epoch 35/100\n",
            "13/13 [==============================] - 0s 2ms/step - loss: 22.5568 - mae: 3.3123\n",
            "Epoch 36/100\n",
            "13/13 [==============================] - 0s 2ms/step - loss: 24.7219 - mae: 3.5523\n",
            "Epoch 37/100\n",
            "13/13 [==============================] - 0s 2ms/step - loss: 22.4210 - mae: 3.4078\n",
            "Epoch 38/100\n",
            "13/13 [==============================] - 0s 2ms/step - loss: 20.9914 - mae: 3.1968\n",
            "Epoch 39/100\n",
            "13/13 [==============================] - 0s 2ms/step - loss: 25.7948 - mae: 3.6976\n",
            "Epoch 40/100\n",
            "13/13 [==============================] - 0s 2ms/step - loss: 22.2515 - mae: 3.3187\n",
            "Epoch 41/100\n",
            "13/13 [==============================] - 0s 2ms/step - loss: 20.8182 - mae: 3.1782\n",
            "Epoch 42/100\n",
            "13/13 [==============================] - 0s 3ms/step - loss: 20.9739 - mae: 3.2484\n",
            "Epoch 43/100\n",
            "13/13 [==============================] - 0s 2ms/step - loss: 20.3566 - mae: 3.2262\n",
            "Epoch 44/100\n",
            "13/13 [==============================] - 0s 2ms/step - loss: 17.7192 - mae: 2.8915\n",
            "Epoch 45/100\n",
            "13/13 [==============================] - 0s 2ms/step - loss: 20.5776 - mae: 3.2429\n",
            "Epoch 46/100\n",
            "13/13 [==============================] - 0s 2ms/step - loss: 19.1185 - mae: 3.0388\n",
            "Epoch 47/100\n",
            "13/13 [==============================] - 0s 2ms/step - loss: 18.0031 - mae: 2.8770\n",
            "Epoch 48/100\n",
            "13/13 [==============================] - 0s 2ms/step - loss: 23.0462 - mae: 3.3800\n",
            "Epoch 49/100\n",
            "13/13 [==============================] - 0s 2ms/step - loss: 20.3285 - mae: 3.2030\n",
            "Epoch 50/100\n",
            "13/13 [==============================] - 0s 2ms/step - loss: 22.0784 - mae: 3.4008\n",
            "Epoch 51/100\n",
            "13/13 [==============================] - 0s 2ms/step - loss: 23.1389 - mae: 3.4701\n",
            "Epoch 52/100\n",
            "13/13 [==============================] - 0s 2ms/step - loss: 18.7824 - mae: 3.0414\n",
            "Epoch 53/100\n",
            "13/13 [==============================] - 0s 2ms/step - loss: 18.0750 - mae: 2.9566\n",
            "Epoch 54/100\n",
            "13/13 [==============================] - 0s 2ms/step - loss: 18.4619 - mae: 2.9173\n",
            "Epoch 55/100\n",
            "13/13 [==============================] - 0s 2ms/step - loss: 20.3425 - mae: 3.2198\n",
            "Epoch 56/100\n",
            "13/13 [==============================] - 0s 2ms/step - loss: 19.2021 - mae: 3.0768\n",
            "Epoch 57/100\n",
            "13/13 [==============================] - 0s 2ms/step - loss: 19.8508 - mae: 3.1556\n",
            "Epoch 58/100\n",
            "13/13 [==============================] - 0s 2ms/step - loss: 23.4968 - mae: 3.4051\n",
            "Epoch 59/100\n",
            "13/13 [==============================] - 0s 2ms/step - loss: 19.0555 - mae: 3.1113\n",
            "Epoch 60/100\n",
            "13/13 [==============================] - 0s 2ms/step - loss: 17.5391 - mae: 2.9615\n",
            "Epoch 61/100\n",
            "13/13 [==============================] - 0s 2ms/step - loss: 17.2158 - mae: 2.8456\n",
            "Epoch 62/100\n",
            "13/13 [==============================] - 0s 2ms/step - loss: 19.4475 - mae: 3.0500\n",
            "Epoch 63/100\n",
            "13/13 [==============================] - 0s 2ms/step - loss: 22.1199 - mae: 3.2735\n",
            "Epoch 64/100\n",
            "13/13 [==============================] - 0s 2ms/step - loss: 19.2020 - mae: 3.1158\n",
            "Epoch 65/100\n",
            "13/13 [==============================] - 0s 2ms/step - loss: 19.0251 - mae: 3.0315\n",
            "Epoch 66/100\n",
            "13/13 [==============================] - 0s 2ms/step - loss: 19.0805 - mae: 3.0686\n",
            "Epoch 67/100\n",
            "13/13 [==============================] - 0s 2ms/step - loss: 16.7657 - mae: 2.8246\n",
            "Epoch 68/100\n",
            "13/13 [==============================] - 0s 2ms/step - loss: 19.1615 - mae: 3.0145\n",
            "Epoch 69/100\n",
            "13/13 [==============================] - 0s 3ms/step - loss: 19.3364 - mae: 3.1351\n",
            "Epoch 70/100\n",
            "13/13 [==============================] - 0s 2ms/step - loss: 19.0623 - mae: 3.0531\n",
            "Epoch 71/100\n",
            "13/13 [==============================] - 0s 2ms/step - loss: 17.0159 - mae: 2.8533\n",
            "Epoch 72/100\n",
            "13/13 [==============================] - 0s 2ms/step - loss: 17.7471 - mae: 2.9757\n",
            "Epoch 73/100\n",
            "13/13 [==============================] - 0s 2ms/step - loss: 18.3706 - mae: 3.0185\n",
            "Epoch 74/100\n",
            "13/13 [==============================] - 0s 2ms/step - loss: 18.3945 - mae: 3.0122\n",
            "Epoch 75/100\n",
            "13/13 [==============================] - 0s 2ms/step - loss: 18.1182 - mae: 2.9486\n",
            "Epoch 76/100\n",
            "13/13 [==============================] - 0s 2ms/step - loss: 16.8190 - mae: 2.8264\n",
            "Epoch 77/100\n",
            "13/13 [==============================] - 0s 2ms/step - loss: 16.8878 - mae: 2.8662\n",
            "Epoch 78/100\n",
            "13/13 [==============================] - 0s 2ms/step - loss: 18.5000 - mae: 3.0795\n",
            "Epoch 79/100\n",
            "13/13 [==============================] - 0s 2ms/step - loss: 21.9349 - mae: 3.3901\n",
            "Epoch 80/100\n",
            "13/13 [==============================] - 0s 2ms/step - loss: 18.0139 - mae: 2.9525\n",
            "Epoch 81/100\n",
            "13/13 [==============================] - 0s 2ms/step - loss: 15.7213 - mae: 2.6868\n",
            "Epoch 82/100\n",
            "13/13 [==============================] - 0s 2ms/step - loss: 17.2997 - mae: 2.9380\n",
            "Epoch 83/100\n",
            "13/13 [==============================] - 0s 2ms/step - loss: 15.9848 - mae: 2.7505\n",
            "Epoch 84/100\n",
            "13/13 [==============================] - 0s 2ms/step - loss: 22.3043 - mae: 3.3599\n",
            "Epoch 85/100\n",
            "13/13 [==============================] - 0s 2ms/step - loss: 16.7497 - mae: 2.8087\n",
            "Epoch 86/100\n",
            "13/13 [==============================] - 0s 2ms/step - loss: 16.5107 - mae: 2.8144\n",
            "Epoch 87/100\n",
            "13/13 [==============================] - 0s 2ms/step - loss: 18.5232 - mae: 3.0001\n",
            "Epoch 88/100\n",
            "13/13 [==============================] - 0s 2ms/step - loss: 16.9273 - mae: 2.8145\n",
            "Epoch 89/100\n",
            "13/13 [==============================] - 0s 2ms/step - loss: 16.1296 - mae: 2.7144\n",
            "Epoch 90/100\n",
            "13/13 [==============================] - 0s 2ms/step - loss: 20.2009 - mae: 3.2232\n",
            "Epoch 91/100\n",
            "13/13 [==============================] - 0s 2ms/step - loss: 17.2950 - mae: 2.8339\n",
            "Epoch 92/100\n",
            "13/13 [==============================] - 0s 2ms/step - loss: 15.2027 - mae: 2.6586\n",
            "Epoch 93/100\n",
            "13/13 [==============================] - 0s 2ms/step - loss: 15.7796 - mae: 2.7192\n",
            "Epoch 94/100\n",
            "13/13 [==============================] - 0s 2ms/step - loss: 17.2966 - mae: 2.8460\n",
            "Epoch 95/100\n",
            "13/13 [==============================] - 0s 2ms/step - loss: 20.8296 - mae: 3.2405\n",
            "Epoch 96/100\n",
            "13/13 [==============================] - 0s 2ms/step - loss: 17.0404 - mae: 2.8611\n",
            "Epoch 97/100\n",
            "13/13 [==============================] - 0s 2ms/step - loss: 16.8574 - mae: 2.8702\n",
            "Epoch 98/100\n",
            "13/13 [==============================] - 0s 2ms/step - loss: 17.3309 - mae: 2.9732\n",
            "Epoch 99/100\n",
            "13/13 [==============================] - 0s 2ms/step - loss: 18.3359 - mae: 2.9672\n",
            "Epoch 100/100\n",
            "13/13 [==============================] - 0s 2ms/step - loss: 17.1319 - mae: 2.8859\n"
          ],
          "name": "stdout"
        },
        {
          "output_type": "execute_result",
          "data": {
            "text/plain": [
              "<tensorflow.python.keras.callbacks.History at 0x7f15a3d1c390>"
            ]
          },
          "metadata": {
            "tags": []
          },
          "execution_count": 39
        }
      ]
    },
    {
      "cell_type": "markdown",
      "metadata": {
        "id": "AMIuKfG35mkf"
      },
      "source": [
        "loss: 17.1319 - mae: 2.8859"
      ]
    },
    {
      "cell_type": "markdown",
      "metadata": {
        "id": "2gHMjtSIwctq"
      },
      "source": [
        "# evaluation"
      ]
    },
    {
      "cell_type": "code",
      "metadata": {
        "colab": {
          "base_uri": "https://localhost:8080/"
        },
        "id": "EO2M33PZwcUb",
        "outputId": "018993c8-39f9-4f34-f277-588e8ad43b0f"
      },
      "source": [
        "model.evaluate(x_train, y_train)"
      ],
      "execution_count": 40,
      "outputs": [
        {
          "output_type": "stream",
          "text": [
            "13/13 [==============================] - 0s 2ms/step - loss: 15.3733 - mae: 2.7344\n"
          ],
          "name": "stdout"
        },
        {
          "output_type": "execute_result",
          "data": {
            "text/plain": [
              "[15.373300552368164, 2.7344272136688232]"
            ]
          },
          "metadata": {
            "tags": []
          },
          "execution_count": 40
        }
      ]
    },
    {
      "cell_type": "markdown",
      "metadata": {
        "id": "2Tn_QvlsxEfc"
      },
      "source": [
        "#Service"
      ]
    },
    {
      "cell_type": "code",
      "metadata": {
        "colab": {
          "base_uri": "https://localhost:8080/"
        },
        "id": "ygi2Ud5wxYaJ",
        "outputId": "65428b08-e254-497d-876c-e25b12a3c195"
      },
      "source": [
        "x_train[10]"
      ],
      "execution_count": 44,
      "outputs": [
        {
          "output_type": "execute_result",
          "data": {
            "text/plain": [
              "array([-0.33710002, -0.50398828, -1.48115445, -1.32279581,  5.1262729 ,\n",
              "       -8.56801832, -2.43316853, -2.35565036, -0.89377027, -2.43327233,\n",
              "       -8.05017099, -3.77209189, -1.61425073])"
            ]
          },
          "metadata": {
            "tags": []
          },
          "execution_count": 44
        }
      ]
    },
    {
      "cell_type": "code",
      "metadata": {
        "colab": {
          "base_uri": "https://localhost:8080/"
        },
        "id": "EfafFwjJwtkr",
        "outputId": "2d5d8f51-8bdf-433d-a4af-ac19e09ed2c4"
      },
      "source": [
        "model.predict([[-0.33710002, -0.50398828, -1.48115445, -1.32279581,  5.1262729 ,\n",
        "       -8.56801832, -2.43316853, -2.35565036, -0.89377027, -2.43327233,\n",
        "       -8.05017099, -3.77209189, -1.61425073]])"
      ],
      "execution_count": 46,
      "outputs": [
        {
          "output_type": "execute_result",
          "data": {
            "text/plain": [
              "array([[13.012915]], dtype=float32)"
            ]
          },
          "metadata": {
            "tags": []
          },
          "execution_count": 46
        }
      ]
    },
    {
      "cell_type": "code",
      "metadata": {
        "colab": {
          "base_uri": "https://localhost:8080/"
        },
        "id": "jM-zFrvkx1hG",
        "outputId": "768a135b-5b98-42ae-c316-586cce57e0ee"
      },
      "source": [
        "y_train[10]"
      ],
      "execution_count": 47,
      "outputs": [
        {
          "output_type": "execute_result",
          "data": {
            "text/plain": [
              "12.1"
            ]
          },
          "metadata": {
            "tags": []
          },
          "execution_count": 47
        }
      ]
    },
    {
      "cell_type": "code",
      "metadata": {
        "id": "HsB9xAz25pNQ"
      },
      "source": [
        ""
      ],
      "execution_count": null,
      "outputs": []
    }
  ]
}