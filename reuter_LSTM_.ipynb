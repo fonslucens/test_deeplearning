{
  "nbformat": 4,
  "nbformat_minor": 0,
  "metadata": {
    "colab": {
      "name": "reuter_LSTM .ipynb",
      "provenance": [],
      "authorship_tag": "ABX9TyMJqF+nuKzdCPWJj+Dm+Ti6",
      "include_colab_link": true
    },
    "kernelspec": {
      "name": "python3",
      "display_name": "Python 3"
    },
    "language_info": {
      "name": "python"
    }
  },
  "cells": [
    {
      "cell_type": "markdown",
      "metadata": {
        "id": "view-in-github",
        "colab_type": "text"
      },
      "source": [
        "<a href=\"https://colab.research.google.com/github/fonslucens/test_deeplearning/blob/master/reuter_LSTM_.ipynb\" target=\"_parent\"><img src=\"https://colab.research.google.com/assets/colab-badge.svg\" alt=\"Open In Colab\"/></a>"
      ]
    },
    {
      "cell_type": "code",
      "metadata": {
        "id": "uFHUYvwC3HfR"
      },
      "source": [
        "import tensorflow as tf"
      ],
      "execution_count": 1,
      "outputs": []
    },
    {
      "cell_type": "code",
      "metadata": {
        "colab": {
          "base_uri": "https://localhost:8080/"
        },
        "id": "twpJ28FA4sWA",
        "outputId": "f5114e4e-8035-4717-ee45-f82791a8890f"
      },
      "source": [
        "(x_train, y_train), (x_test, y_test) = tf.keras.datasets.reuters.load_data(num_words=10000)\n",
        "x_train.shape, y_train.shape, x_test.shape, y_test.shape"
      ],
      "execution_count": 2,
      "outputs": [
        {
          "output_type": "stream",
          "text": [
            "Downloading data from https://storage.googleapis.com/tensorflow/tf-keras-datasets/reuters.npz\n",
            "2113536/2110848 [==============================] - 0s 0us/step\n"
          ],
          "name": "stdout"
        },
        {
          "output_type": "stream",
          "text": [
            "/usr/local/lib/python3.7/dist-packages/tensorflow/python/keras/datasets/reuters.py:143: VisibleDeprecationWarning: Creating an ndarray from ragged nested sequences (which is a list-or-tuple of lists-or-tuples-or ndarrays with different lengths or shapes) is deprecated. If you meant to do this, you must specify 'dtype=object' when creating the ndarray\n",
            "  x_train, y_train = np.array(xs[:idx]), np.array(labels[:idx])\n",
            "/usr/local/lib/python3.7/dist-packages/tensorflow/python/keras/datasets/reuters.py:144: VisibleDeprecationWarning: Creating an ndarray from ragged nested sequences (which is a list-or-tuple of lists-or-tuples-or ndarrays with different lengths or shapes) is deprecated. If you meant to do this, you must specify 'dtype=object' when creating the ndarray\n",
            "  x_test, y_test = np.array(xs[idx:]), np.array(labels[idx:])\n"
          ],
          "name": "stderr"
        },
        {
          "output_type": "execute_result",
          "data": {
            "text/plain": [
              "((8982,), (8982,), (2246,), (2246,))"
            ]
          },
          "metadata": {
            "tags": []
          },
          "execution_count": 2
        }
      ]
    },
    {
      "cell_type": "code",
      "metadata": {
        "colab": {
          "base_uri": "https://localhost:8080/"
        },
        "id": "rckYMDVy4yIN",
        "outputId": "687a583f-5cae-42b4-ba37-e6ef76ded430"
      },
      "source": [
        "print(y_train[50], x_train[50])"
      ],
      "execution_count": 3,
      "outputs": [
        {
          "output_type": "stream",
          "text": [
            "4 [1, 1479, 1197, 71, 8, 25, 1479, 1197, 640, 71, 304, 471, 80, 9, 1379, 1901, 4530, 6797, 79, 5, 8144, 71, 175, 80, 58, 4, 1279, 5, 63, 32, 20, 5, 4, 326, 175, 80, 335, 7, 10, 845, 31, 4, 221, 9, 108, 259, 1479, 1197, 640, 8, 16, 600, 69, 68, 11, 15, 6, 8144, 21, 397, 321, 6, 438, 1761, 3072, 79, 5, 8144, 1040, 894, 1051, 617, 80, 4, 617, 80, 23, 1051, 172, 3814, 3206, 8144, 175, 79, 9, 1379, 6, 264, 395, 3814, 3206, 79, 1479, 1197, 9, 25, 323, 8, 4, 8144, 80, 23, 381, 43, 42, 205, 50, 77, 33, 909, 9, 3509, 22, 216, 6, 216, 17, 12]\n"
          ],
          "name": "stdout"
        }
      ]
    },
    {
      "cell_type": "code",
      "metadata": {
        "colab": {
          "base_uri": "https://localhost:8080/"
        },
        "id": "WK_aqEKvBYyX",
        "outputId": "60b9b7c4-8d4c-4960-f2b8-9d9bdce38196"
      },
      "source": [
        "len(x_train[50]), len(x_train[400]), len(x_train[200])"
      ],
      "execution_count": 4,
      "outputs": [
        {
          "output_type": "execute_result",
          "data": {
            "text/plain": [
              "(118, 90, 212)"
            ]
          },
          "metadata": {
            "tags": []
          },
          "execution_count": 4
        }
      ]
    },
    {
      "cell_type": "code",
      "metadata": {
        "colab": {
          "base_uri": "https://localhost:8080/"
        },
        "id": "MU-7URhRBcq5",
        "outputId": "9bd929c2-4ac6-403c-9fe1-5ce4d26927a2"
      },
      "source": [
        "pad_x_train = tf.keras.preprocessing.sequence.pad_sequences(x_train, maxlen=500)\n",
        "len(pad_x_train[50])"
      ],
      "execution_count": 5,
      "outputs": [
        {
          "output_type": "execute_result",
          "data": {
            "text/plain": [
              "500"
            ]
          },
          "metadata": {
            "tags": []
          },
          "execution_count": 5
        }
      ]
    },
    {
      "cell_type": "code",
      "metadata": {
        "id": "K9FjemilEXdU"
      },
      "source": [
        "import numpy as np"
      ],
      "execution_count": 6,
      "outputs": []
    },
    {
      "cell_type": "code",
      "metadata": {
        "colab": {
          "base_uri": "https://localhost:8080/"
        },
        "id": "tfqw4gbxEaw5",
        "outputId": "274b9cb5-c5eb-4621-a74e-c7db9f3a6b5e"
      },
      "source": [
        "np.unique(y_train)"
      ],
      "execution_count": 7,
      "outputs": [
        {
          "output_type": "execute_result",
          "data": {
            "text/plain": [
              "array([ 0,  1,  2,  3,  4,  5,  6,  7,  8,  9, 10, 11, 12, 13, 14, 15, 16,\n",
              "       17, 18, 19, 20, 21, 22, 23, 24, 25, 26, 27, 28, 29, 30, 31, 32, 33,\n",
              "       34, 35, 36, 37, 38, 39, 40, 41, 42, 43, 44, 45])"
            ]
          },
          "metadata": {
            "tags": []
          },
          "execution_count": 7
        }
      ]
    },
    {
      "cell_type": "markdown",
      "metadata": {
        "id": "HcFl5KUZ7tIq"
      },
      "source": [
        "# make model"
      ]
    },
    {
      "cell_type": "code",
      "metadata": {
        "id": "rgVzod6w7q5I"
      },
      "source": [
        "model = tf.keras.models.Sequential()"
      ],
      "execution_count": 8,
      "outputs": []
    },
    {
      "cell_type": "code",
      "metadata": {
        "id": "xqByNJTp79Og"
      },
      "source": [
        "model.add(tf.keras.layers.Embedding(input_length=500, input_dim=10000, output_dim=24))   # input layer\n",
        "model.add(tf.keras.layers.LSTM(24, return_sequences=True, activation='tanh'))\n",
        "model.add(tf.keras.layers.LSTM(12, activation='tanh'))\n",
        "# model.add(tf.keras.layers.Flatten())   # hidden layer\n",
        "model.add(tf.keras.layers.Dense(46, activation='softmax'))   # output layer\n",
        "\n",
        "model.compile(optimizer='adam', loss='sparse_categorical_crossentropy', metrics=['acc'])   # gadget"
      ],
      "execution_count": 9,
      "outputs": []
    },
    {
      "cell_type": "code",
      "metadata": {
        "colab": {
          "base_uri": "https://localhost:8080/"
        },
        "id": "CH_Opv8fH3Y7",
        "outputId": "f2188f79-c559-48d7-d2ad-f4770cdb2bcb"
      },
      "source": [
        "# hist = model.fit(pad_x_train, y_train, epochs=5, validation_split=0.3, batch_size=128)\n",
        "hist = model.fit(pad_x_train, y_train, epochs=100, validation_split=0.3, batch_size=256)"
      ],
      "execution_count": 10,
      "outputs": [
        {
          "output_type": "stream",
          "text": [
            "Epoch 1/100\n",
            "25/25 [==============================] - 21s 690ms/step - loss: 3.7470 - acc: 0.2847 - val_loss: 3.5514 - val_acc: 0.3035\n",
            "Epoch 2/100\n",
            "25/25 [==============================] - 16s 648ms/step - loss: 3.1860 - acc: 0.2346 - val_loss: 2.8679 - val_acc: 0.2215\n",
            "Epoch 3/100\n",
            "25/25 [==============================] - 16s 651ms/step - loss: 2.7267 - acc: 0.2150 - val_loss: 2.5812 - val_acc: 0.3532\n",
            "Epoch 4/100\n",
            "25/25 [==============================] - 16s 651ms/step - loss: 2.5435 - acc: 0.3510 - val_loss: 2.4707 - val_acc: 0.3532\n",
            "Epoch 5/100\n",
            "25/25 [==============================] - 16s 647ms/step - loss: 2.4727 - acc: 0.3510 - val_loss: 2.4236 - val_acc: 0.3532\n",
            "Epoch 6/100\n",
            "25/25 [==============================] - 16s 657ms/step - loss: 2.4419 - acc: 0.3510 - val_loss: 2.4035 - val_acc: 0.3532\n",
            "Epoch 7/100\n",
            "25/25 [==============================] - 16s 646ms/step - loss: 2.4278 - acc: 0.3510 - val_loss: 2.3942 - val_acc: 0.3532\n",
            "Epoch 8/100\n",
            "25/25 [==============================] - 16s 662ms/step - loss: 2.4212 - acc: 0.3510 - val_loss: 2.3894 - val_acc: 0.3532\n",
            "Epoch 9/100\n",
            "25/25 [==============================] - 16s 655ms/step - loss: 2.4178 - acc: 0.3510 - val_loss: 2.3863 - val_acc: 0.3532\n",
            "Epoch 10/100\n",
            "25/25 [==============================] - 16s 654ms/step - loss: 2.4154 - acc: 0.3510 - val_loss: 2.3852 - val_acc: 0.3532\n",
            "Epoch 11/100\n",
            "25/25 [==============================] - 16s 648ms/step - loss: 2.4141 - acc: 0.3510 - val_loss: 2.3842 - val_acc: 0.3532\n",
            "Epoch 12/100\n",
            "25/25 [==============================] - 16s 660ms/step - loss: 2.4133 - acc: 0.3510 - val_loss: 2.3836 - val_acc: 0.3532\n",
            "Epoch 13/100\n",
            "25/25 [==============================] - 16s 663ms/step - loss: 2.4129 - acc: 0.3510 - val_loss: 2.3833 - val_acc: 0.3532\n",
            "Epoch 14/100\n",
            "25/25 [==============================] - 16s 654ms/step - loss: 2.4125 - acc: 0.3510 - val_loss: 2.3831 - val_acc: 0.3532\n",
            "Epoch 15/100\n",
            "25/25 [==============================] - 16s 655ms/step - loss: 2.4123 - acc: 0.3510 - val_loss: 2.3829 - val_acc: 0.3532\n",
            "Epoch 16/100\n",
            "25/25 [==============================] - 16s 649ms/step - loss: 2.4120 - acc: 0.3510 - val_loss: 2.3827 - val_acc: 0.3532\n",
            "Epoch 17/100\n",
            "25/25 [==============================] - 16s 658ms/step - loss: 2.4120 - acc: 0.3510 - val_loss: 2.3829 - val_acc: 0.3532\n",
            "Epoch 18/100\n",
            "25/25 [==============================] - 16s 656ms/step - loss: 2.4119 - acc: 0.3510 - val_loss: 2.3827 - val_acc: 0.3532\n",
            "Epoch 19/100\n",
            "25/25 [==============================] - 16s 655ms/step - loss: 2.4121 - acc: 0.3510 - val_loss: 2.3824 - val_acc: 0.3532\n",
            "Epoch 20/100\n",
            "25/25 [==============================] - 16s 660ms/step - loss: 2.4119 - acc: 0.3510 - val_loss: 2.3830 - val_acc: 0.3532\n",
            "Epoch 21/100\n",
            "25/25 [==============================] - 16s 654ms/step - loss: 2.4118 - acc: 0.3510 - val_loss: 2.3825 - val_acc: 0.3532\n",
            "Epoch 22/100\n",
            "25/25 [==============================] - 16s 662ms/step - loss: 2.4117 - acc: 0.3510 - val_loss: 2.3825 - val_acc: 0.3532\n",
            "Epoch 23/100\n",
            "25/25 [==============================] - 16s 651ms/step - loss: 2.4117 - acc: 0.3510 - val_loss: 2.3823 - val_acc: 0.3532\n",
            "Epoch 24/100\n",
            "25/25 [==============================] - 17s 664ms/step - loss: 2.4118 - acc: 0.3510 - val_loss: 2.3827 - val_acc: 0.3532\n",
            "Epoch 25/100\n",
            "25/25 [==============================] - 16s 652ms/step - loss: 2.4119 - acc: 0.3510 - val_loss: 2.3824 - val_acc: 0.3532\n",
            "Epoch 26/100\n",
            "25/25 [==============================] - 16s 656ms/step - loss: 2.4117 - acc: 0.3510 - val_loss: 2.3825 - val_acc: 0.3532\n",
            "Epoch 27/100\n",
            "25/25 [==============================] - 16s 653ms/step - loss: 2.4119 - acc: 0.3510 - val_loss: 2.3828 - val_acc: 0.3532\n",
            "Epoch 28/100\n",
            "25/25 [==============================] - 16s 654ms/step - loss: 2.4117 - acc: 0.3510 - val_loss: 2.3827 - val_acc: 0.3532\n",
            "Epoch 29/100\n",
            "25/25 [==============================] - 16s 651ms/step - loss: 2.4117 - acc: 0.3510 - val_loss: 2.3821 - val_acc: 0.3532\n",
            "Epoch 30/100\n",
            "25/25 [==============================] - 16s 655ms/step - loss: 2.4117 - acc: 0.3510 - val_loss: 2.3827 - val_acc: 0.3532\n",
            "Epoch 31/100\n",
            "25/25 [==============================] - 16s 649ms/step - loss: 2.4118 - acc: 0.3510 - val_loss: 2.3826 - val_acc: 0.3532\n",
            "Epoch 32/100\n",
            "25/25 [==============================] - 16s 657ms/step - loss: 2.4116 - acc: 0.3510 - val_loss: 2.3826 - val_acc: 0.3532\n",
            "Epoch 33/100\n",
            "25/25 [==============================] - 16s 654ms/step - loss: 2.4115 - acc: 0.3510 - val_loss: 2.3823 - val_acc: 0.3532\n",
            "Epoch 34/100\n",
            "25/25 [==============================] - 16s 655ms/step - loss: 2.4117 - acc: 0.3510 - val_loss: 2.3824 - val_acc: 0.3532\n",
            "Epoch 35/100\n",
            "25/25 [==============================] - 16s 655ms/step - loss: 2.4115 - acc: 0.3510 - val_loss: 2.3823 - val_acc: 0.3532\n",
            "Epoch 36/100\n",
            "25/25 [==============================] - 16s 662ms/step - loss: 2.4117 - acc: 0.3510 - val_loss: 2.3823 - val_acc: 0.3532\n",
            "Epoch 37/100\n",
            "25/25 [==============================] - 16s 654ms/step - loss: 2.4117 - acc: 0.3510 - val_loss: 2.3823 - val_acc: 0.3532\n",
            "Epoch 38/100\n",
            "25/25 [==============================] - 16s 659ms/step - loss: 2.4118 - acc: 0.3510 - val_loss: 2.3824 - val_acc: 0.3532\n",
            "Epoch 39/100\n",
            "25/25 [==============================] - 16s 650ms/step - loss: 2.4114 - acc: 0.3510 - val_loss: 2.3825 - val_acc: 0.3532\n",
            "Epoch 40/100\n",
            "25/25 [==============================] - 16s 651ms/step - loss: 2.4116 - acc: 0.3510 - val_loss: 2.3820 - val_acc: 0.3532\n",
            "Epoch 41/100\n",
            "25/25 [==============================] - 16s 657ms/step - loss: 2.4117 - acc: 0.3510 - val_loss: 2.3823 - val_acc: 0.3532\n",
            "Epoch 42/100\n",
            "25/25 [==============================] - 16s 646ms/step - loss: 2.4116 - acc: 0.3510 - val_loss: 2.3822 - val_acc: 0.3532\n",
            "Epoch 43/100\n",
            "25/25 [==============================] - 16s 647ms/step - loss: 2.4113 - acc: 0.3510 - val_loss: 2.3813 - val_acc: 0.3532\n",
            "Epoch 44/100\n",
            "25/25 [==============================] - 16s 649ms/step - loss: 2.4099 - acc: 0.3510 - val_loss: 2.3824 - val_acc: 0.3532\n",
            "Epoch 45/100\n",
            "25/25 [==============================] - 16s 649ms/step - loss: 2.4115 - acc: 0.3510 - val_loss: 2.3822 - val_acc: 0.3532\n",
            "Epoch 46/100\n",
            "25/25 [==============================] - 16s 651ms/step - loss: 2.4118 - acc: 0.3510 - val_loss: 2.3824 - val_acc: 0.3532\n",
            "Epoch 47/100\n",
            "25/25 [==============================] - 17s 665ms/step - loss: 2.4117 - acc: 0.3510 - val_loss: 2.3816 - val_acc: 0.3532\n",
            "Epoch 48/100\n",
            "25/25 [==============================] - 16s 653ms/step - loss: 2.4074 - acc: 0.3510 - val_loss: 2.3627 - val_acc: 0.3532\n",
            "Epoch 49/100\n",
            "25/25 [==============================] - 16s 658ms/step - loss: 2.3217 - acc: 0.3510 - val_loss: 2.2219 - val_acc: 0.3566\n",
            "Epoch 50/100\n",
            "25/25 [==============================] - 16s 656ms/step - loss: 2.1414 - acc: 0.3539 - val_loss: 2.0900 - val_acc: 0.3610\n",
            "Epoch 51/100\n",
            "25/25 [==============================] - 16s 654ms/step - loss: 2.0220 - acc: 0.3662 - val_loss: 2.0170 - val_acc: 0.3681\n",
            "Epoch 52/100\n",
            "25/25 [==============================] - 16s 657ms/step - loss: 1.9479 - acc: 0.3814 - val_loss: 1.9834 - val_acc: 0.3863\n",
            "Epoch 53/100\n",
            "25/25 [==============================] - 16s 654ms/step - loss: 1.8763 - acc: 0.4019 - val_loss: 1.9585 - val_acc: 0.3941\n",
            "Epoch 54/100\n",
            "25/25 [==============================] - 16s 647ms/step - loss: 1.8010 - acc: 0.4248 - val_loss: 1.9247 - val_acc: 0.4041\n",
            "Epoch 55/100\n",
            "25/25 [==============================] - 16s 652ms/step - loss: 1.7384 - acc: 0.4409 - val_loss: 1.9121 - val_acc: 0.4108\n",
            "Epoch 56/100\n",
            "25/25 [==============================] - 16s 651ms/step - loss: 1.6799 - acc: 0.4508 - val_loss: 1.8957 - val_acc: 0.4160\n",
            "Epoch 57/100\n",
            "25/25 [==============================] - 16s 655ms/step - loss: 1.6373 - acc: 0.4551 - val_loss: 1.8984 - val_acc: 0.4156\n",
            "Epoch 58/100\n",
            "25/25 [==============================] - 16s 652ms/step - loss: 1.5924 - acc: 0.4608 - val_loss: 1.8863 - val_acc: 0.4160\n",
            "Epoch 59/100\n",
            "25/25 [==============================] - 16s 654ms/step - loss: 1.5581 - acc: 0.4651 - val_loss: 1.9079 - val_acc: 0.4186\n",
            "Epoch 60/100\n",
            "25/25 [==============================] - 16s 654ms/step - loss: 1.5571 - acc: 0.4635 - val_loss: 1.9153 - val_acc: 0.4163\n",
            "Epoch 61/100\n",
            "25/25 [==============================] - 16s 656ms/step - loss: 1.5094 - acc: 0.4804 - val_loss: 1.9115 - val_acc: 0.4189\n",
            "Epoch 62/100\n",
            "25/25 [==============================] - 16s 649ms/step - loss: 1.4945 - acc: 0.4843 - val_loss: 1.9363 - val_acc: 0.4160\n",
            "Epoch 63/100\n",
            "25/25 [==============================] - 16s 653ms/step - loss: 1.4625 - acc: 0.4934 - val_loss: 1.9214 - val_acc: 0.4193\n",
            "Epoch 64/100\n",
            "25/25 [==============================] - 16s 653ms/step - loss: 1.4548 - acc: 0.4983 - val_loss: 1.9334 - val_acc: 0.4189\n",
            "Epoch 65/100\n",
            "25/25 [==============================] - 16s 650ms/step - loss: 1.4109 - acc: 0.5104 - val_loss: 1.9520 - val_acc: 0.4186\n",
            "Epoch 66/100\n",
            "25/25 [==============================] - 16s 643ms/step - loss: 1.3858 - acc: 0.5165 - val_loss: 1.9453 - val_acc: 0.4234\n",
            "Epoch 67/100\n",
            "25/25 [==============================] - 16s 649ms/step - loss: 1.3617 - acc: 0.5251 - val_loss: 1.9287 - val_acc: 0.4260\n",
            "Epoch 68/100\n",
            "25/25 [==============================] - 16s 642ms/step - loss: 1.3396 - acc: 0.5292 - val_loss: 1.9499 - val_acc: 0.4226\n",
            "Epoch 69/100\n",
            "25/25 [==============================] - 16s 644ms/step - loss: 1.3286 - acc: 0.5321 - val_loss: 1.9752 - val_acc: 0.4241\n",
            "Epoch 70/100\n",
            "25/25 [==============================] - 16s 641ms/step - loss: 1.3147 - acc: 0.5367 - val_loss: 1.9475 - val_acc: 0.4245\n",
            "Epoch 71/100\n",
            "25/25 [==============================] - 16s 644ms/step - loss: 1.2882 - acc: 0.5472 - val_loss: 1.9614 - val_acc: 0.4308\n",
            "Epoch 72/100\n",
            "25/25 [==============================] - 16s 647ms/step - loss: 1.2585 - acc: 0.5599 - val_loss: 1.9665 - val_acc: 0.4315\n",
            "Epoch 73/100\n",
            "25/25 [==============================] - 16s 652ms/step - loss: 1.2321 - acc: 0.5710 - val_loss: 1.9673 - val_acc: 0.4334\n",
            "Epoch 74/100\n",
            "25/25 [==============================] - 16s 640ms/step - loss: 1.1902 - acc: 0.5737 - val_loss: 1.9519 - val_acc: 0.4356\n",
            "Epoch 75/100\n",
            "25/25 [==============================] - 16s 639ms/step - loss: 1.1452 - acc: 0.5837 - val_loss: 1.9214 - val_acc: 0.4423\n",
            "Epoch 76/100\n",
            "25/25 [==============================] - 16s 647ms/step - loss: 1.0979 - acc: 0.6478 - val_loss: 1.9182 - val_acc: 0.5440\n",
            "Epoch 77/100\n",
            "25/25 [==============================] - 16s 647ms/step - loss: 1.0570 - acc: 0.7275 - val_loss: 1.9087 - val_acc: 0.5647\n",
            "Epoch 78/100\n",
            "25/25 [==============================] - 16s 644ms/step - loss: 1.0243 - acc: 0.7422 - val_loss: 1.9165 - val_acc: 0.5655\n",
            "Epoch 79/100\n",
            "25/25 [==============================] - 16s 662ms/step - loss: 1.0067 - acc: 0.7496 - val_loss: 1.9043 - val_acc: 0.5666\n",
            "Epoch 80/100\n",
            "25/25 [==============================] - 16s 647ms/step - loss: 0.9688 - acc: 0.7616 - val_loss: 1.8870 - val_acc: 0.5751\n",
            "Epoch 81/100\n",
            "25/25 [==============================] - 16s 646ms/step - loss: 0.9393 - acc: 0.7679 - val_loss: 1.8947 - val_acc: 0.5785\n",
            "Epoch 82/100\n",
            "25/25 [==============================] - 16s 647ms/step - loss: 0.9132 - acc: 0.7764 - val_loss: 1.9058 - val_acc: 0.5733\n",
            "Epoch 83/100\n",
            "25/25 [==============================] - 16s 652ms/step - loss: 0.8883 - acc: 0.7865 - val_loss: 1.8697 - val_acc: 0.5855\n",
            "Epoch 84/100\n",
            "25/25 [==============================] - 16s 650ms/step - loss: 0.8968 - acc: 0.7768 - val_loss: 1.8908 - val_acc: 0.5822\n",
            "Epoch 85/100\n",
            "25/25 [==============================] - 16s 653ms/step - loss: 0.8675 - acc: 0.7829 - val_loss: 1.8677 - val_acc: 0.5885\n",
            "Epoch 86/100\n",
            "25/25 [==============================] - 16s 654ms/step - loss: 0.8329 - acc: 0.7943 - val_loss: 1.8734 - val_acc: 0.5892\n",
            "Epoch 87/100\n",
            "25/25 [==============================] - 16s 654ms/step - loss: 0.8137 - acc: 0.8028 - val_loss: 1.8601 - val_acc: 0.5948\n",
            "Epoch 88/100\n",
            "25/25 [==============================] - 16s 655ms/step - loss: 0.7987 - acc: 0.8055 - val_loss: 1.9072 - val_acc: 0.5837\n",
            "Epoch 89/100\n",
            "25/25 [==============================] - 16s 651ms/step - loss: 0.7842 - acc: 0.8080 - val_loss: 1.8782 - val_acc: 0.5963\n",
            "Epoch 90/100\n",
            "25/25 [==============================] - 16s 659ms/step - loss: 0.7720 - acc: 0.8098 - val_loss: 2.0031 - val_acc: 0.5703\n",
            "Epoch 91/100\n",
            "25/25 [==============================] - 17s 663ms/step - loss: 0.7872 - acc: 0.8037 - val_loss: 1.8938 - val_acc: 0.5907\n",
            "Epoch 92/100\n",
            "25/25 [==============================] - 16s 653ms/step - loss: 0.7441 - acc: 0.8137 - val_loss: 1.9074 - val_acc: 0.5889\n",
            "Epoch 93/100\n",
            "25/25 [==============================] - 16s 655ms/step - loss: 0.7775 - acc: 0.8079 - val_loss: 1.9298 - val_acc: 0.5848\n",
            "Epoch 94/100\n",
            "25/25 [==============================] - 16s 656ms/step - loss: 0.7193 - acc: 0.8206 - val_loss: 1.9373 - val_acc: 0.5800\n",
            "Epoch 95/100\n",
            "25/25 [==============================] - 16s 655ms/step - loss: 0.7056 - acc: 0.8269 - val_loss: 1.9105 - val_acc: 0.6000\n",
            "Epoch 96/100\n",
            "25/25 [==============================] - 16s 657ms/step - loss: 0.6866 - acc: 0.8327 - val_loss: 1.9318 - val_acc: 0.5896\n",
            "Epoch 97/100\n",
            "25/25 [==============================] - 16s 652ms/step - loss: 0.6763 - acc: 0.8351 - val_loss: 1.9401 - val_acc: 0.5881\n",
            "Epoch 98/100\n",
            "25/25 [==============================] - 17s 665ms/step - loss: 0.6730 - acc: 0.8336 - val_loss: 1.9439 - val_acc: 0.5904\n",
            "Epoch 99/100\n",
            "25/25 [==============================] - 16s 656ms/step - loss: 0.6548 - acc: 0.8395 - val_loss: 1.9760 - val_acc: 0.5892\n",
            "Epoch 100/100\n",
            "25/25 [==============================] - 17s 663ms/step - loss: 0.6440 - acc: 0.8413 - val_loss: 1.9608 - val_acc: 0.5922\n"
          ],
          "name": "stdout"
        }
      ]
    },
    {
      "cell_type": "markdown",
      "metadata": {
        "id": "Tfz_7hzfRgrT"
      },
      "source": [
        "# Evaluation"
      ]
    },
    {
      "cell_type": "code",
      "metadata": {
        "colab": {
          "base_uri": "https://localhost:8080/"
        },
        "id": "Yf-pzegeIEtU",
        "outputId": "304c9393-7c3e-4be2-ea07-26af7655965c"
      },
      "source": [
        "# 학습 시켰던 데이터\n",
        "model.evaluate(pad_x_train, y_train)  #loss: 2.4054 - acc: 0.351"
      ],
      "execution_count": 11,
      "outputs": [
        {
          "output_type": "stream",
          "text": [
            "281/281 [==============================] - 16s 56ms/step - loss: 1.0287 - acc: 0.7686\n"
          ],
          "name": "stdout"
        },
        {
          "output_type": "execute_result",
          "data": {
            "text/plain": [
              "[1.0287179946899414, 0.7686483860015869]"
            ]
          },
          "metadata": {
            "tags": []
          },
          "execution_count": 11
        }
      ]
    },
    {
      "cell_type": "code",
      "metadata": {
        "id": "5zGDUScGUrxe"
      },
      "source": [
        "pad_x_train = tf.keras.preprocessing.sequence.pad_sequences(x_train, maxlen=500)\n",
        "pad_x_test = tf.keras.preprocessing.sequence.pad_sequences(x_test, maxlen=500)"
      ],
      "execution_count": 12,
      "outputs": []
    },
    {
      "cell_type": "code",
      "metadata": {
        "id": "HQkq0q2nXK57"
      },
      "source": [
        "def pad_make(x_data):\n",
        "  pad_x = tf.keras.preprocessing.sequence.pad_sequences(x_data, maxlen=500)\n",
        "  return pad_x"
      ],
      "execution_count": 13,
      "outputs": []
    },
    {
      "cell_type": "code",
      "metadata": {
        "id": "BB0rGJGvX61a"
      },
      "source": [
        "pad_make_x = pad_make(x_test)"
      ],
      "execution_count": 14,
      "outputs": []
    },
    {
      "cell_type": "code",
      "metadata": {
        "colab": {
          "base_uri": "https://localhost:8080/"
        },
        "id": "5TjlgsUYYOIt",
        "outputId": "1124a492-5b94-4a27-97ba-d11aff04ca24"
      },
      "source": [
        "model.evaluate(pad_make_x, y_test)"
      ],
      "execution_count": 15,
      "outputs": [
        {
          "output_type": "stream",
          "text": [
            "71/71 [==============================] - 4s 59ms/step - loss: 2.0820 - acc: 0.5864\n"
          ],
          "name": "stdout"
        },
        {
          "output_type": "execute_result",
          "data": {
            "text/plain": [
              "[2.0820491313934326, 0.5863757729530334]"
            ]
          },
          "metadata": {
            "tags": []
          },
          "execution_count": 15
        }
      ]
    },
    {
      "cell_type": "code",
      "metadata": {
        "colab": {
          "base_uri": "https://localhost:8080/"
        },
        "id": "ecSpgzJ5RsCw",
        "outputId": "f65ea332-b79b-49e1-f142-6ab37fc97a14"
      },
      "source": [
        "model.evaluate(pad_x_test, y_test)"
      ],
      "execution_count": 16,
      "outputs": [
        {
          "output_type": "stream",
          "text": [
            "71/71 [==============================] - 4s 57ms/step - loss: 2.0820 - acc: 0.5864\n"
          ],
          "name": "stdout"
        },
        {
          "output_type": "execute_result",
          "data": {
            "text/plain": [
              "[2.0820491313934326, 0.5863757729530334]"
            ]
          },
          "metadata": {
            "tags": []
          },
          "execution_count": 16
        }
      ]
    },
    {
      "cell_type": "code",
      "metadata": {
        "id": "6oKFTrN8VDb7"
      },
      "source": [
        "import matplotlib.pyplot as plt"
      ],
      "execution_count": 17,
      "outputs": []
    },
    {
      "cell_type": "code",
      "metadata": {
        "colab": {
          "base_uri": "https://localhost:8080/",
          "height": 265
        },
        "id": "8jb_w-wHVz-5",
        "outputId": "8a4714dd-2856-4674-a7c1-4b2a575708aa"
      },
      "source": [
        "plt.plot(hist.history['loss'])\n",
        "plt.plot(hist.history['val_loss'])\n",
        "plt.show()"
      ],
      "execution_count": 18,
      "outputs": [
        {
          "output_type": "display_data",
          "data": {
            "image/png": "[encoded data removed]",
            "text/plain": [
              "<Figure size 432x288 with 1 Axes>"
            ]
          },
          "metadata": {
            "tags": [],
            "needs_background": "light"
          }
        }
      ]
    },
    {
      "cell_type": "code",
      "metadata": {
        "colab": {
          "base_uri": "https://localhost:8080/",
          "height": 265
        },
        "id": "1LO5rMHfWIqB",
        "outputId": "3f9c9948-c20b-4194-8557-1e5d8943f846"
      },
      "source": [
        "plt.plot(hist.history['acc'])\n",
        "plt.plot(hist.history['val_loss'],'r-')\n",
        "plt.show()"
      ],
      "execution_count": 23,
      "outputs": [
        {
          "output_type": "display_data",
          "data": {
            "image/png": "[encoded data removed]",
            "text/plain": [
              "<Figure size 432x288 with 1 Axes>"
            ]
          },
          "metadata": {
            "tags": [],
            "needs_background": "light"
          }
        }
      ]
    },
    {
      "cell_type": "code",
      "metadata": {
        "id": "z-fjl1CbpYqe"
      },
      "source": [
        "from sklearn.metrics import classification_report"
      ],
      "execution_count": 20,
      "outputs": []
    },
    {
      "cell_type": "code",
      "metadata": {
        "colab": {
          "base_uri": "https://localhost:8080/"
        },
        "id": "eAGTml5JqFQp",
        "outputId": "4ee856e9-2af4-4782-ee26-74a7345f699c"
      },
      "source": [
        "y_train_pred = model.predict(pad_x_train)\n",
        "y_train_pred[0]"
      ],
      "execution_count": 24,
      "outputs": [
        {
          "output_type": "execute_result",
          "data": {
            "text/plain": [
              "array([2.00710710e-04, 1.65858096e-03, 7.20955431e-05, 9.09307778e-01,\n",
              "       6.72464371e-02, 6.14979144e-05, 1.48306601e-04, 1.39543365e-04,\n",
              "       1.88196811e-03, 1.03111983e-04, 2.38617096e-04, 4.97311237e-04,\n",
              "       9.33193878e-05, 1.84754073e-03, 3.94721465e-05, 5.30757279e-05,\n",
              "       3.65202036e-03, 1.60050593e-04, 3.70217131e-05, 6.36520749e-03,\n",
              "       7.12263922e-04, 9.64779523e-04, 2.03316431e-05, 6.41954903e-05,\n",
              "       4.08841297e-05, 1.54634792e-04, 2.59579974e-04, 2.00153027e-05,\n",
              "       1.90569888e-04, 3.47953668e-04, 1.06326486e-04, 1.05934632e-05,\n",
              "       8.72982841e-04, 1.00636687e-04, 7.88613339e-04, 1.05328945e-04,\n",
              "       7.83955620e-04, 2.94647016e-05, 7.22404147e-05, 4.56386078e-05,\n",
              "       1.86349323e-04, 3.87882828e-05, 4.90204075e-05, 6.32997544e-05,\n",
              "       1.01314916e-04, 6.65316984e-05], dtype=float32)"
            ]
          },
          "metadata": {
            "tags": []
          },
          "execution_count": 24
        }
      ]
    },
    {
      "cell_type": "code",
      "metadata": {
        "id": "mUvrIWTMqdn9"
      },
      "source": [
        "import numpy as np"
      ],
      "execution_count": 25,
      "outputs": []
    },
    {
      "cell_type": "code",
      "metadata": {
        "colab": {
          "base_uri": "https://localhost:8080/"
        },
        "id": "UJvvPoe_q_aD",
        "outputId": "cf045237-969b-4991-bc07-27e33bc47214"
      },
      "source": [
        "y_pred = np.argmax(y_train_pred, axis=1)\n",
        "y_pred.shape"
      ],
      "execution_count": 28,
      "outputs": [
        {
          "output_type": "execute_result",
          "data": {
            "text/plain": [
              "(8982,)"
            ]
          },
          "metadata": {
            "tags": []
          },
          "execution_count": 28
        }
      ]
    },
    {
      "cell_type": "code",
      "metadata": {
        "colab": {
          "base_uri": "https://localhost:8080/"
        },
        "id": "DUqIZumHpdfS",
        "outputId": "ac90fc86-2d7a-4338-e3f1-1d9c805634b2"
      },
      "source": [
        "print(classification_report(y_train, y_pred))"
      ],
      "execution_count": 30,
      "outputs": [
        {
          "output_type": "stream",
          "text": [
            "              precision    recall  f1-score   support\n",
            "\n",
            "           0       0.67      0.56      0.61        55\n",
            "           1       0.46      0.76      0.57       432\n",
            "           2       0.33      0.69      0.45        74\n",
            "           3       0.95      0.92      0.93      3159\n",
            "           4       0.83      0.93      0.88      1949\n",
            "           5       0.00      0.00      0.00        17\n",
            "           6       0.82      0.75      0.78        48\n",
            "           7       1.00      0.06      0.12        16\n",
            "           8       0.67      0.60      0.63       139\n",
            "           9       0.48      0.78      0.59       101\n",
            "          10       0.75      0.73      0.74       124\n",
            "          11       0.78      0.78      0.78       390\n",
            "          12       0.00      0.00      0.00        49\n",
            "          13       0.79      0.74      0.76       172\n",
            "          14       0.00      0.00      0.00        26\n",
            "          15       0.36      0.65      0.46        20\n",
            "          16       0.38      0.01      0.01       444\n",
            "          17       0.64      0.64      0.64        39\n",
            "          18       0.45      0.80      0.58        66\n",
            "          19       0.65      0.81      0.73       549\n",
            "          20       0.65      0.67      0.66       269\n",
            "          21       0.73      0.63      0.68       100\n",
            "          22       0.00      0.00      0.00        15\n",
            "          23       1.00      0.07      0.14        41\n",
            "          24       0.44      0.68      0.53        62\n",
            "          25       0.50      0.74      0.59        92\n",
            "          26       0.79      0.46      0.58        24\n",
            "          27       0.00      0.00      0.00        15\n",
            "          28       0.34      0.65      0.44        48\n",
            "          29       0.00      0.00      0.00        19\n",
            "          30       0.62      0.36      0.45        45\n",
            "          31       0.58      0.46      0.51        39\n",
            "          32       0.55      0.69      0.61        32\n",
            "          33       0.00      0.00      0.00        11\n",
            "          34       0.52      0.66      0.58        50\n",
            "          35       0.00      0.00      0.00        10\n",
            "          36       0.62      0.43      0.51        49\n",
            "          37       0.40      0.42      0.41        19\n",
            "          38       0.00      0.00      0.00        19\n",
            "          39       0.00      0.00      0.00        24\n",
            "          40       0.00      0.00      0.00        36\n",
            "          41       0.00      0.00      0.00        30\n",
            "          42       0.00      0.00      0.00        13\n",
            "          43       0.30      0.14      0.19        21\n",
            "          44       1.00      0.08      0.15        12\n",
            "          45       0.00      0.00      0.00        18\n",
            "\n",
            "    accuracy                           0.77      8982\n",
            "   macro avg       0.44      0.40      0.38      8982\n",
            "weighted avg       0.75      0.77      0.74      8982\n",
            "\n"
          ],
          "name": "stdout"
        },
        {
          "output_type": "stream",
          "text": [
            "/usr/local/lib/python3.7/dist-packages/sklearn/metrics/_classification.py:1272: UndefinedMetricWarning: Precision and F-score are ill-defined and being set to 0.0 in labels with no predicted samples. Use `zero_division` parameter to control this behavior.\n",
            "  _warn_prf(average, modifier, msg_start, len(result))\n"
          ],
          "name": "stderr"
        }
      ]
    },
    {
      "cell_type": "code",
      "metadata": {
        "colab": {
          "base_uri": "https://localhost:8080/"
        },
        "id": "dtqzdAv5srN6",
        "outputId": "8d510e51-1c12-48d1-fb36-f519662440e9"
      },
      "source": [
        "print(classification_report(y_train, y_pred))"
      ],
      "execution_count": 32,
      "outputs": [
        {
          "output_type": "stream",
          "text": [
            "              precision    recall  f1-score   support\n",
            "\n",
            "           0       0.67      0.56      0.61        55\n",
            "           1       0.46      0.76      0.57       432\n",
            "           2       0.33      0.69      0.45        74\n",
            "           3       0.95      0.92      0.93      3159\n",
            "           4       0.83      0.93      0.88      1949\n",
            "           5       0.00      0.00      0.00        17\n",
            "           6       0.82      0.75      0.78        48\n",
            "           7       1.00      0.06      0.12        16\n",
            "           8       0.67      0.60      0.63       139\n",
            "           9       0.48      0.78      0.59       101\n",
            "          10       0.75      0.73      0.74       124\n",
            "          11       0.78      0.78      0.78       390\n",
            "          12       0.00      0.00      0.00        49\n",
            "          13       0.79      0.74      0.76       172\n",
            "          14       0.00      0.00      0.00        26\n",
            "          15       0.36      0.65      0.46        20\n",
            "          16       0.38      0.01      0.01       444\n",
            "          17       0.64      0.64      0.64        39\n",
            "          18       0.45      0.80      0.58        66\n",
            "          19       0.65      0.81      0.73       549\n",
            "          20       0.65      0.67      0.66       269\n",
            "          21       0.73      0.63      0.68       100\n",
            "          22       0.00      0.00      0.00        15\n",
            "          23       1.00      0.07      0.14        41\n",
            "          24       0.44      0.68      0.53        62\n",
            "          25       0.50      0.74      0.59        92\n",
            "          26       0.79      0.46      0.58        24\n",
            "          27       0.00      0.00      0.00        15\n",
            "          28       0.34      0.65      0.44        48\n",
            "          29       0.00      0.00      0.00        19\n",
            "          30       0.62      0.36      0.45        45\n",
            "          31       0.58      0.46      0.51        39\n",
            "          32       0.55      0.69      0.61        32\n",
            "          33       0.00      0.00      0.00        11\n",
            "          34       0.52      0.66      0.58        50\n",
            "          35       0.00      0.00      0.00        10\n",
            "          36       0.62      0.43      0.51        49\n",
            "          37       0.40      0.42      0.41        19\n",
            "          38       0.00      0.00      0.00        19\n",
            "          39       0.00      0.00      0.00        24\n",
            "          40       0.00      0.00      0.00        36\n",
            "          41       0.00      0.00      0.00        30\n",
            "          42       0.00      0.00      0.00        13\n",
            "          43       0.30      0.14      0.19        21\n",
            "          44       1.00      0.08      0.15        12\n",
            "          45       0.00      0.00      0.00        18\n",
            "\n",
            "    accuracy                           0.77      8982\n",
            "   macro avg       0.44      0.40      0.38      8982\n",
            "weighted avg       0.75      0.77      0.74      8982\n",
            "\n"
          ],
          "name": "stdout"
        },
        {
          "output_type": "stream",
          "text": [
            "/usr/local/lib/python3.7/dist-packages/sklearn/metrics/_classification.py:1272: UndefinedMetricWarning: Precision and F-score are ill-defined and being set to 0.0 in labels with no predicted samples. Use `zero_division` parameter to control this behavior.\n",
            "  _warn_prf(average, modifier, msg_start, len(result))\n"
          ],
          "name": "stderr"
        }
      ]
    },
    {
      "cell_type": "code",
      "metadata": {
        "id": "XK7gvhe2tbfY"
      },
      "source": [
        "y_test_pred = model.predict(pad_x_test)"
      ],
      "execution_count": 35,
      "outputs": []
    },
    {
      "cell_type": "code",
      "metadata": {
        "colab": {
          "base_uri": "https://localhost:8080/"
        },
        "id": "t4TAc-0FrSaR",
        "outputId": "a27c1ec0-e4d2-429d-ddd2-6441cd8dd885"
      },
      "source": [
        "print(classification_report(y_train, y_pred))"
      ],
      "execution_count": 37,
      "outputs": [
        {
          "output_type": "stream",
          "text": [
            "              precision    recall  f1-score   support\n",
            "\n",
            "           0       0.67      0.56      0.61        55\n",
            "           1       0.46      0.76      0.57       432\n",
            "           2       0.33      0.69      0.45        74\n",
            "           3       0.95      0.92      0.93      3159\n",
            "           4       0.83      0.93      0.88      1949\n",
            "           5       0.00      0.00      0.00        17\n",
            "           6       0.82      0.75      0.78        48\n",
            "           7       1.00      0.06      0.12        16\n",
            "           8       0.67      0.60      0.63       139\n",
            "           9       0.48      0.78      0.59       101\n",
            "          10       0.75      0.73      0.74       124\n",
            "          11       0.78      0.78      0.78       390\n",
            "          12       0.00      0.00      0.00        49\n",
            "          13       0.79      0.74      0.76       172\n",
            "          14       0.00      0.00      0.00        26\n",
            "          15       0.36      0.65      0.46        20\n",
            "          16       0.38      0.01      0.01       444\n",
            "          17       0.64      0.64      0.64        39\n",
            "          18       0.45      0.80      0.58        66\n",
            "          19       0.65      0.81      0.73       549\n",
            "          20       0.65      0.67      0.66       269\n",
            "          21       0.73      0.63      0.68       100\n",
            "          22       0.00      0.00      0.00        15\n",
            "          23       1.00      0.07      0.14        41\n",
            "          24       0.44      0.68      0.53        62\n",
            "          25       0.50      0.74      0.59        92\n",
            "          26       0.79      0.46      0.58        24\n",
            "          27       0.00      0.00      0.00        15\n",
            "          28       0.34      0.65      0.44        48\n",
            "          29       0.00      0.00      0.00        19\n",
            "          30       0.62      0.36      0.45        45\n",
            "          31       0.58      0.46      0.51        39\n",
            "          32       0.55      0.69      0.61        32\n",
            "          33       0.00      0.00      0.00        11\n",
            "          34       0.52      0.66      0.58        50\n",
            "          35       0.00      0.00      0.00        10\n",
            "          36       0.62      0.43      0.51        49\n",
            "          37       0.40      0.42      0.41        19\n",
            "          38       0.00      0.00      0.00        19\n",
            "          39       0.00      0.00      0.00        24\n",
            "          40       0.00      0.00      0.00        36\n",
            "          41       0.00      0.00      0.00        30\n",
            "          42       0.00      0.00      0.00        13\n",
            "          43       0.30      0.14      0.19        21\n",
            "          44       1.00      0.08      0.15        12\n",
            "          45       0.00      0.00      0.00        18\n",
            "\n",
            "    accuracy                           0.77      8982\n",
            "   macro avg       0.44      0.40      0.38      8982\n",
            "weighted avg       0.75      0.77      0.74      8982\n",
            "\n"
          ],
          "name": "stdout"
        },
        {
          "output_type": "stream",
          "text": [
            "/usr/local/lib/python3.7/dist-packages/sklearn/metrics/_classification.py:1272: UndefinedMetricWarning: Precision and F-score are ill-defined and being set to 0.0 in labels with no predicted samples. Use `zero_division` parameter to control this behavior.\n",
            "  _warn_prf(average, modifier, msg_start, len(result))\n"
          ],
          "name": "stderr"
        }
      ]
    },
    {
      "cell_type": "code",
      "metadata": {
        "id": "VkQtLmJztu4B"
      },
      "source": [
        ""
      ],
      "execution_count": null,
      "outputs": []
    }
  ]
}