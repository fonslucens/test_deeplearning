{
  "nbformat": 4,
  "nbformat_minor": 0,
  "metadata": {
    "colab": {
      "name": "sentencepiece.ipynb",
      "provenance": [],
      "authorship_tag": "ABX9TyPIjGaeSk7qgxPqJr23J9fW",
      "include_colab_link": true
    },
    "kernelspec": {
      "name": "python3",
      "display_name": "Python 3"
    },
    "language_info": {
      "name": "python"
    }
  },
  "cells": [
    {
      "cell_type": "markdown",
      "metadata": {
        "id": "view-in-github",
        "colab_type": "text"
      },
      "source": [
        "<a href=\"https://colab.research.google.com/github/fonslucens/test_deeplearning/blob/master/sentencepiece.ipynb\" target=\"_parent\"><img src=\"https://colab.research.google.com/assets/colab-badge.svg\" alt=\"Open In Colab\"/></a>"
      ]
    },
    {
      "cell_type": "markdown",
      "metadata": {
        "id": "wVCHPjYiRzjw"
      },
      "source": [
        "### from https://wikidocs.net/86657"
      ]
    },
    {
      "cell_type": "code",
      "metadata": {
        "colab": {
          "base_uri": "https://localhost:8080/"
        },
        "id": "faJ9OctBI489",
        "outputId": "079f4103-eafa-48e9-8298-913859e0b40f"
      },
      "source": [
        "!python -m pip install sentencepiece"
      ],
      "execution_count": 1,
      "outputs": [
        {
          "output_type": "stream",
          "text": [
            "Collecting sentencepiece\n",
            "  Downloading sentencepiece-0.1.96-cp37-cp37m-manylinux_2_17_x86_64.manylinux2014_x86_64.whl (1.2 MB)\n",
            "\u001b[?25l\r\u001b[K     |▎                               | 10 kB 14.7 MB/s eta 0:00:01\r\u001b[K     |▌                               | 20 kB 18.9 MB/s eta 0:00:01\r\u001b[K     |▉                               | 30 kB 20.9 MB/s eta 0:00:01\r\u001b[K     |█                               | 40 kB 21.6 MB/s eta 0:00:01\r\u001b[K     |█▍                              | 51 kB 24.2 MB/s eta 0:00:01\r\u001b[K     |█▋                              | 61 kB 27.0 MB/s eta 0:00:01\r\u001b[K     |██                              | 71 kB 23.6 MB/s eta 0:00:01\r\u001b[K     |██▏                             | 81 kB 24.7 MB/s eta 0:00:01\r\u001b[K     |██▍                             | 92 kB 24.9 MB/s eta 0:00:01\r\u001b[K     |██▊                             | 102 kB 25.3 MB/s eta 0:00:01\r\u001b[K     |███                             | 112 kB 25.3 MB/s eta 0:00:01\r\u001b[K     |███▎                            | 122 kB 25.3 MB/s eta 0:00:01\r\u001b[K     |███▌                            | 133 kB 25.3 MB/s eta 0:00:01\r\u001b[K     |███▉                            | 143 kB 25.3 MB/s eta 0:00:01\r\u001b[K     |████                            | 153 kB 25.3 MB/s eta 0:00:01\r\u001b[K     |████▎                           | 163 kB 25.3 MB/s eta 0:00:01\r\u001b[K     |████▋                           | 174 kB 25.3 MB/s eta 0:00:01\r\u001b[K     |████▉                           | 184 kB 25.3 MB/s eta 0:00:01\r\u001b[K     |█████▏                          | 194 kB 25.3 MB/s eta 0:00:01\r\u001b[K     |█████▍                          | 204 kB 25.3 MB/s eta 0:00:01\r\u001b[K     |█████▊                          | 215 kB 25.3 MB/s eta 0:00:01\r\u001b[K     |██████                          | 225 kB 25.3 MB/s eta 0:00:01\r\u001b[K     |██████▏                         | 235 kB 25.3 MB/s eta 0:00:01\r\u001b[K     |██████▌                         | 245 kB 25.3 MB/s eta 0:00:01\r\u001b[K     |██████▊                         | 256 kB 25.3 MB/s eta 0:00:01\r\u001b[K     |███████                         | 266 kB 25.3 MB/s eta 0:00:01\r\u001b[K     |███████▎                        | 276 kB 25.3 MB/s eta 0:00:01\r\u001b[K     |███████▋                        | 286 kB 25.3 MB/s eta 0:00:01\r\u001b[K     |███████▉                        | 296 kB 25.3 MB/s eta 0:00:01\r\u001b[K     |████████                        | 307 kB 25.3 MB/s eta 0:00:01\r\u001b[K     |████████▍                       | 317 kB 25.3 MB/s eta 0:00:01\r\u001b[K     |████████▋                       | 327 kB 25.3 MB/s eta 0:00:01\r\u001b[K     |█████████                       | 337 kB 25.3 MB/s eta 0:00:01\r\u001b[K     |█████████▏                      | 348 kB 25.3 MB/s eta 0:00:01\r\u001b[K     |█████████▌                      | 358 kB 25.3 MB/s eta 0:00:01\r\u001b[K     |█████████▊                      | 368 kB 25.3 MB/s eta 0:00:01\r\u001b[K     |██████████                      | 378 kB 25.3 MB/s eta 0:00:01\r\u001b[K     |██████████▎                     | 389 kB 25.3 MB/s eta 0:00:01\r\u001b[K     |██████████▌                     | 399 kB 25.3 MB/s eta 0:00:01\r\u001b[K     |██████████▉                     | 409 kB 25.3 MB/s eta 0:00:01\r\u001b[K     |███████████                     | 419 kB 25.3 MB/s eta 0:00:01\r\u001b[K     |███████████▍                    | 430 kB 25.3 MB/s eta 0:00:01\r\u001b[K     |███████████▋                    | 440 kB 25.3 MB/s eta 0:00:01\r\u001b[K     |███████████▉                    | 450 kB 25.3 MB/s eta 0:00:01\r\u001b[K     |████████████▏                   | 460 kB 25.3 MB/s eta 0:00:01\r\u001b[K     |████████████▍                   | 471 kB 25.3 MB/s eta 0:00:01\r\u001b[K     |████████████▊                   | 481 kB 25.3 MB/s eta 0:00:01\r\u001b[K     |█████████████                   | 491 kB 25.3 MB/s eta 0:00:01\r\u001b[K     |█████████████▎                  | 501 kB 25.3 MB/s eta 0:00:01\r\u001b[K     |█████████████▌                  | 512 kB 25.3 MB/s eta 0:00:01\r\u001b[K     |█████████████▊                  | 522 kB 25.3 MB/s eta 0:00:01\r\u001b[K     |██████████████                  | 532 kB 25.3 MB/s eta 0:00:01\r\u001b[K     |██████████████▎                 | 542 kB 25.3 MB/s eta 0:00:01\r\u001b[K     |██████████████▋                 | 552 kB 25.3 MB/s eta 0:00:01\r\u001b[K     |██████████████▉                 | 563 kB 25.3 MB/s eta 0:00:01\r\u001b[K     |███████████████▏                | 573 kB 25.3 MB/s eta 0:00:01\r\u001b[K     |███████████████▍                | 583 kB 25.3 MB/s eta 0:00:01\r\u001b[K     |███████████████▋                | 593 kB 25.3 MB/s eta 0:00:01\r\u001b[K     |████████████████                | 604 kB 25.3 MB/s eta 0:00:01\r\u001b[K     |████████████████▏               | 614 kB 25.3 MB/s eta 0:00:01\r\u001b[K     |████████████████▌               | 624 kB 25.3 MB/s eta 0:00:01\r\u001b[K     |████████████████▊               | 634 kB 25.3 MB/s eta 0:00:01\r\u001b[K     |█████████████████               | 645 kB 25.3 MB/s eta 0:00:01\r\u001b[K     |█████████████████▎              | 655 kB 25.3 MB/s eta 0:00:01\r\u001b[K     |█████████████████▌              | 665 kB 25.3 MB/s eta 0:00:01\r\u001b[K     |█████████████████▉              | 675 kB 25.3 MB/s eta 0:00:01\r\u001b[K     |██████████████████              | 686 kB 25.3 MB/s eta 0:00:01\r\u001b[K     |██████████████████▍             | 696 kB 25.3 MB/s eta 0:00:01\r\u001b[K     |██████████████████▋             | 706 kB 25.3 MB/s eta 0:00:01\r\u001b[K     |███████████████████             | 716 kB 25.3 MB/s eta 0:00:01\r\u001b[K     |███████████████████▏            | 727 kB 25.3 MB/s eta 0:00:01\r\u001b[K     |███████████████████▍            | 737 kB 25.3 MB/s eta 0:00:01\r\u001b[K     |███████████████████▊            | 747 kB 25.3 MB/s eta 0:00:01\r\u001b[K     |████████████████████            | 757 kB 25.3 MB/s eta 0:00:01\r\u001b[K     |████████████████████▎           | 768 kB 25.3 MB/s eta 0:00:01\r\u001b[K     |████████████████████▌           | 778 kB 25.3 MB/s eta 0:00:01\r\u001b[K     |████████████████████▉           | 788 kB 25.3 MB/s eta 0:00:01\r\u001b[K     |█████████████████████           | 798 kB 25.3 MB/s eta 0:00:01\r\u001b[K     |█████████████████████▎          | 808 kB 25.3 MB/s eta 0:00:01\r\u001b[K     |█████████████████████▋          | 819 kB 25.3 MB/s eta 0:00:01\r\u001b[K     |█████████████████████▉          | 829 kB 25.3 MB/s eta 0:00:01\r\u001b[K     |██████████████████████▏         | 839 kB 25.3 MB/s eta 0:00:01\r\u001b[K     |██████████████████████▍         | 849 kB 25.3 MB/s eta 0:00:01\r\u001b[K     |██████████████████████▊         | 860 kB 25.3 MB/s eta 0:00:01\r\u001b[K     |███████████████████████         | 870 kB 25.3 MB/s eta 0:00:01\r\u001b[K     |███████████████████████▏        | 880 kB 25.3 MB/s eta 0:00:01\r\u001b[K     |███████████████████████▌        | 890 kB 25.3 MB/s eta 0:00:01\r\u001b[K     |███████████████████████▊        | 901 kB 25.3 MB/s eta 0:00:01\r\u001b[K     |████████████████████████        | 911 kB 25.3 MB/s eta 0:00:01\r\u001b[K     |████████████████████████▎       | 921 kB 25.3 MB/s eta 0:00:01\r\u001b[K     |████████████████████████▋       | 931 kB 25.3 MB/s eta 0:00:01\r\u001b[K     |████████████████████████▉       | 942 kB 25.3 MB/s eta 0:00:01\r\u001b[K     |█████████████████████████       | 952 kB 25.3 MB/s eta 0:00:01\r\u001b[K     |█████████████████████████▍      | 962 kB 25.3 MB/s eta 0:00:01\r\u001b[K     |█████████████████████████▋      | 972 kB 25.3 MB/s eta 0:00:01\r\u001b[K     |██████████████████████████      | 983 kB 25.3 MB/s eta 0:00:01\r\u001b[K     |██████████████████████████▏     | 993 kB 25.3 MB/s eta 0:00:01\r\u001b[K     |██████████████████████████▌     | 1.0 MB 25.3 MB/s eta 0:00:01\r\u001b[K     |██████████████████████████▊     | 1.0 MB 25.3 MB/s eta 0:00:01\r\u001b[K     |███████████████████████████     | 1.0 MB 25.3 MB/s eta 0:00:01\r\u001b[K     |███████████████████████████▎    | 1.0 MB 25.3 MB/s eta 0:00:01\r\u001b[K     |███████████████████████████▌    | 1.0 MB 25.3 MB/s eta 0:00:01\r\u001b[K     |███████████████████████████▉    | 1.1 MB 25.3 MB/s eta 0:00:01\r\u001b[K     |████████████████████████████    | 1.1 MB 25.3 MB/s eta 0:00:01\r\u001b[K     |████████████████████████████▍   | 1.1 MB 25.3 MB/s eta 0:00:01\r\u001b[K     |████████████████████████████▋   | 1.1 MB 25.3 MB/s eta 0:00:01\r\u001b[K     |████████████████████████████▉   | 1.1 MB 25.3 MB/s eta 0:00:01\r\u001b[K     |█████████████████████████████▏  | 1.1 MB 25.3 MB/s eta 0:00:01\r\u001b[K     |█████████████████████████████▍  | 1.1 MB 25.3 MB/s eta 0:00:01\r\u001b[K     |█████████████████████████████▊  | 1.1 MB 25.3 MB/s eta 0:00:01\r\u001b[K     |██████████████████████████████  | 1.1 MB 25.3 MB/s eta 0:00:01\r\u001b[K     |██████████████████████████████▎ | 1.1 MB 25.3 MB/s eta 0:00:01\r\u001b[K     |██████████████████████████████▌ | 1.2 MB 25.3 MB/s eta 0:00:01\r\u001b[K     |██████████████████████████████▊ | 1.2 MB 25.3 MB/s eta 0:00:01\r\u001b[K     |███████████████████████████████ | 1.2 MB 25.3 MB/s eta 0:00:01\r\u001b[K     |███████████████████████████████▎| 1.2 MB 25.3 MB/s eta 0:00:01\r\u001b[K     |███████████████████████████████▋| 1.2 MB 25.3 MB/s eta 0:00:01\r\u001b[K     |███████████████████████████████▉| 1.2 MB 25.3 MB/s eta 0:00:01\r\u001b[K     |████████████████████████████████| 1.2 MB 25.3 MB/s \n",
            "\u001b[?25hInstalling collected packages: sentencepiece\n",
            "Successfully installed sentencepiece-0.1.96\n"
          ],
          "name": "stdout"
        }
      ]
    },
    {
      "cell_type": "code",
      "metadata": {
        "id": "ZnTF_UBHI-av"
      },
      "source": [
        "import sentencepiece as spm"
      ],
      "execution_count": 2,
      "outputs": []
    },
    {
      "cell_type": "code",
      "metadata": {
        "colab": {
          "base_uri": "https://localhost:8080/"
        },
        "id": "4yd6TdClJCXf",
        "outputId": "c3c53159-011e-4055-b1f4-f655d89d286b"
      },
      "source": [
        "!curl -O https://raw.githubusercontent.com/LawrenceDuan/IMDb-Review-Analysis/master/IMDb_Reviews.csv"
      ],
      "execution_count": 3,
      "outputs": [
        {
          "output_type": "stream",
          "text": [
            "  % Total    % Received % Xferd  Average Speed   Time    Time     Time  Current\n",
            "                                 Dload  Upload   Total   Spent    Left  Speed\n",
            "100 62.8M  100 62.8M    0     0   215M      0 --:--:-- --:--:-- --:--:--  215M\n"
          ],
          "name": "stdout"
        }
      ]
    },
    {
      "cell_type": "code",
      "metadata": {
        "id": "cYoP52nAJFj1"
      },
      "source": [
        "import pandas as pd"
      ],
      "execution_count": 4,
      "outputs": []
    },
    {
      "cell_type": "code",
      "metadata": {
        "colab": {
          "base_uri": "https://localhost:8080/",
          "height": 419
        },
        "id": "cXsXW_Z8JTOF",
        "outputId": "fd29f20d-248d-4abd-dd7d-089e03c2e9a3"
      },
      "source": [
        "df_data = pd.read_csv('./IMDb_Reviews.csv')\n",
        "df_data"
      ],
      "execution_count": 5,
      "outputs": [
        {
          "output_type": "execute_result",
          "data": {
            "text/html": [
              "<div>\n",
              "<style scoped>\n",
              "    .dataframe tbody tr th:only-of-type {\n",
              "        vertical-align: middle;\n",
              "    }\n",
              "\n",
              "    .dataframe tbody tr th {\n",
              "        vertical-align: top;\n",
              "    }\n",
              "\n",
              "    .dataframe thead th {\n",
              "        text-align: right;\n",
              "    }\n",
              "</style>\n",
              "<table border=\"1\" class=\"dataframe\">\n",
              "  <thead>\n",
              "    <tr style=\"text-align: right;\">\n",
              "      <th></th>\n",
              "      <th>review</th>\n",
              "      <th>sentiment</th>\n",
              "    </tr>\n",
              "  </thead>\n",
              "  <tbody>\n",
              "    <tr>\n",
              "      <th>0</th>\n",
              "      <td>My family and I normally do not watch local mo...</td>\n",
              "      <td>1</td>\n",
              "    </tr>\n",
              "    <tr>\n",
              "      <th>1</th>\n",
              "      <td>Believe it or not, this was at one time the wo...</td>\n",
              "      <td>0</td>\n",
              "    </tr>\n",
              "    <tr>\n",
              "      <th>2</th>\n",
              "      <td>After some internet surfing, I found the \"Home...</td>\n",
              "      <td>0</td>\n",
              "    </tr>\n",
              "    <tr>\n",
              "      <th>3</th>\n",
              "      <td>One of the most unheralded great works of anim...</td>\n",
              "      <td>1</td>\n",
              "    </tr>\n",
              "    <tr>\n",
              "      <th>4</th>\n",
              "      <td>It was the Sixties, and anyone with long hair ...</td>\n",
              "      <td>0</td>\n",
              "    </tr>\n",
              "    <tr>\n",
              "      <th>...</th>\n",
              "      <td>...</td>\n",
              "      <td>...</td>\n",
              "    </tr>\n",
              "    <tr>\n",
              "      <th>49995</th>\n",
              "      <td>the people who came up with this are SICK AND ...</td>\n",
              "      <td>0</td>\n",
              "    </tr>\n",
              "    <tr>\n",
              "      <th>49996</th>\n",
              "      <td>The script is so so laughable... this in turn,...</td>\n",
              "      <td>0</td>\n",
              "    </tr>\n",
              "    <tr>\n",
              "      <th>49997</th>\n",
              "      <td>\"So there's this bride, you see, and she gets ...</td>\n",
              "      <td>0</td>\n",
              "    </tr>\n",
              "    <tr>\n",
              "      <th>49998</th>\n",
              "      <td>Your mind will not be satisfied by this nobud...</td>\n",
              "      <td>0</td>\n",
              "    </tr>\n",
              "    <tr>\n",
              "      <th>49999</th>\n",
              "      <td>The chaser's war on everything is a weekly sho...</td>\n",
              "      <td>1</td>\n",
              "    </tr>\n",
              "  </tbody>\n",
              "</table>\n",
              "<p>50000 rows × 2 columns</p>\n",
              "</div>"
            ],
            "text/plain": [
              "                                                  review  sentiment\n",
              "0      My family and I normally do not watch local mo...          1\n",
              "1      Believe it or not, this was at one time the wo...          0\n",
              "2      After some internet surfing, I found the \"Home...          0\n",
              "3      One of the most unheralded great works of anim...          1\n",
              "4      It was the Sixties, and anyone with long hair ...          0\n",
              "...                                                  ...        ...\n",
              "49995  the people who came up with this are SICK AND ...          0\n",
              "49996  The script is so so laughable... this in turn,...          0\n",
              "49997  \"So there's this bride, you see, and she gets ...          0\n",
              "49998  Your mind will not be satisfied by this nobud...          0\n",
              "49999  The chaser's war on everything is a weekly sho...          1\n",
              "\n",
              "[50000 rows x 2 columns]"
            ]
          },
          "metadata": {},
          "execution_count": 5
        }
      ]
    },
    {
      "cell_type": "code",
      "metadata": {
        "id": "YRKexn0VJ5sW"
      },
      "source": [
        "with open('imdb_review.txt','w') as f:\n",
        "  f.write('\\n'.join(df_data['review']))"
      ],
      "execution_count": 6,
      "outputs": []
    },
    {
      "cell_type": "code",
      "metadata": {
        "id": "fp71LZS3LUvP"
      },
      "source": [
        "spm.SentencePieceTrainer.Train('--input=./imdb_review.txt --model_prefix=imdb --vocab_size=5000 --model_type=bpe --max_sentence_length=9999')"
      ],
      "execution_count": 7,
      "outputs": []
    },
    {
      "cell_type": "code",
      "metadata": {
        "id": "Jtmd3_AnORnF"
      },
      "source": [
        "import csv"
      ],
      "execution_count": 8,
      "outputs": []
    },
    {
      "cell_type": "code",
      "metadata": {
        "colab": {
          "base_uri": "https://localhost:8080/",
          "height": 359
        },
        "id": "0IDJ8dfJMo8-",
        "outputId": "eb0cb1eb-6cc7-455d-bf1e-c0e5194540e6"
      },
      "source": [
        "df_vocab = pd.read_csv('./imdb.vocab', sep='\\t', quoting=csv.QUOTE_NONE, header=None) \n",
        "# df_vocab.head(7)\n",
        "df_vocab.sample(10)"
      ],
      "execution_count": 9,
      "outputs": [
        {
          "output_type": "execute_result",
          "data": {
            "text/html": [
              "<div>\n",
              "<style scoped>\n",
              "    .dataframe tbody tr th:only-of-type {\n",
              "        vertical-align: middle;\n",
              "    }\n",
              "\n",
              "    .dataframe tbody tr th {\n",
              "        vertical-align: top;\n",
              "    }\n",
              "\n",
              "    .dataframe thead th {\n",
              "        text-align: right;\n",
              "    }\n",
              "</style>\n",
              "<table border=\"1\" class=\"dataframe\">\n",
              "  <thead>\n",
              "    <tr style=\"text-align: right;\">\n",
              "      <th></th>\n",
              "      <th>0</th>\n",
              "      <th>1</th>\n",
              "    </tr>\n",
              "  </thead>\n",
              "  <tbody>\n",
              "    <tr>\n",
              "      <th>3927</th>\n",
              "      <td>▁everybody</td>\n",
              "      <td>-3924</td>\n",
              "    </tr>\n",
              "    <tr>\n",
              "      <th>3442</th>\n",
              "      <td>▁jo</td>\n",
              "      <td>-3439</td>\n",
              "    </tr>\n",
              "    <tr>\n",
              "      <th>3868</th>\n",
              "      <td>anced</td>\n",
              "      <td>-3865</td>\n",
              "    </tr>\n",
              "    <tr>\n",
              "      <th>2974</th>\n",
              "      <td>PO</td>\n",
              "      <td>-2971</td>\n",
              "    </tr>\n",
              "    <tr>\n",
              "      <th>1452</th>\n",
              "      <td>▁dark</td>\n",
              "      <td>-1449</td>\n",
              "    </tr>\n",
              "    <tr>\n",
              "      <th>2940</th>\n",
              "      <td>eg</td>\n",
              "      <td>-2937</td>\n",
              "    </tr>\n",
              "    <tr>\n",
              "      <th>974</th>\n",
              "      <td>ates</td>\n",
              "      <td>-971</td>\n",
              "    </tr>\n",
              "    <tr>\n",
              "      <th>4288</th>\n",
              "      <td>▁account</td>\n",
              "      <td>-4285</td>\n",
              "    </tr>\n",
              "    <tr>\n",
              "      <th>89</th>\n",
              "      <td>ilm</td>\n",
              "      <td>-86</td>\n",
              "    </tr>\n",
              "    <tr>\n",
              "      <th>3958</th>\n",
              "      <td>▁contem</td>\n",
              "      <td>-3955</td>\n",
              "    </tr>\n",
              "  </tbody>\n",
              "</table>\n",
              "</div>"
            ],
            "text/plain": [
              "               0     1\n",
              "3927  ▁everybody -3924\n",
              "3442         ▁jo -3439\n",
              "3868       anced -3865\n",
              "2974          PO -2971\n",
              "1452       ▁dark -1449\n",
              "2940          eg -2937\n",
              "974         ates  -971\n",
              "4288    ▁account -4285\n",
              "89           ilm   -86\n",
              "3958     ▁contem -3955"
            ]
          },
          "metadata": {},
          "execution_count": 9
        }
      ]
    },
    {
      "cell_type": "code",
      "metadata": {
        "colab": {
          "base_uri": "https://localhost:8080/",
          "height": 266
        },
        "id": "AGhR4xJcOjbo",
        "outputId": "1b0cd87c-f683-4712-c23a-56c31d6a3433"
      },
      "source": [
        "df_vocab.head(7)"
      ],
      "execution_count": 10,
      "outputs": [
        {
          "output_type": "execute_result",
          "data": {
            "text/html": [
              "<div>\n",
              "<style scoped>\n",
              "    .dataframe tbody tr th:only-of-type {\n",
              "        vertical-align: middle;\n",
              "    }\n",
              "\n",
              "    .dataframe tbody tr th {\n",
              "        vertical-align: top;\n",
              "    }\n",
              "\n",
              "    .dataframe thead th {\n",
              "        text-align: right;\n",
              "    }\n",
              "</style>\n",
              "<table border=\"1\" class=\"dataframe\">\n",
              "  <thead>\n",
              "    <tr style=\"text-align: right;\">\n",
              "      <th></th>\n",
              "      <th>0</th>\n",
              "      <th>1</th>\n",
              "    </tr>\n",
              "  </thead>\n",
              "  <tbody>\n",
              "    <tr>\n",
              "      <th>0</th>\n",
              "      <td>&lt;unk&gt;</td>\n",
              "      <td>0</td>\n",
              "    </tr>\n",
              "    <tr>\n",
              "      <th>1</th>\n",
              "      <td>&lt;s&gt;</td>\n",
              "      <td>0</td>\n",
              "    </tr>\n",
              "    <tr>\n",
              "      <th>2</th>\n",
              "      <td>&lt;/s&gt;</td>\n",
              "      <td>0</td>\n",
              "    </tr>\n",
              "    <tr>\n",
              "      <th>3</th>\n",
              "      <td>▁t</td>\n",
              "      <td>0</td>\n",
              "    </tr>\n",
              "    <tr>\n",
              "      <th>4</th>\n",
              "      <td>▁a</td>\n",
              "      <td>-1</td>\n",
              "    </tr>\n",
              "    <tr>\n",
              "      <th>5</th>\n",
              "      <td>he</td>\n",
              "      <td>-2</td>\n",
              "    </tr>\n",
              "    <tr>\n",
              "      <th>6</th>\n",
              "      <td>in</td>\n",
              "      <td>-3</td>\n",
              "    </tr>\n",
              "  </tbody>\n",
              "</table>\n",
              "</div>"
            ],
            "text/plain": [
              "       0  1\n",
              "0  <unk>  0\n",
              "1    <s>  0\n",
              "2   </s>  0\n",
              "3     ▁t  0\n",
              "4     ▁a -1\n",
              "5     he -2\n",
              "6     in -3"
            ]
          },
          "metadata": {},
          "execution_count": 10
        }
      ]
    },
    {
      "cell_type": "code",
      "metadata": {
        "colab": {
          "base_uri": "https://localhost:8080/"
        },
        "id": "O_qdd5FPRuP7",
        "outputId": "89b8664f-e791-4574-a4f0-23f928f04f9c"
      },
      "source": [
        "spp = spm.SentencePieceProcessor()\n",
        "spp.load('./imdb.model')"
      ],
      "execution_count": 11,
      "outputs": [
        {
          "output_type": "execute_result",
          "data": {
            "text/plain": [
              "True"
            ]
          },
          "metadata": {},
          "execution_count": 11
        }
      ]
    },
    {
      "cell_type": "code",
      "metadata": {
        "id": "F-VU6sfZV3Pj"
      },
      "source": [
        "line01 = \"I didn't at all think of it this way.\""
      ],
      "execution_count": 12,
      "outputs": []
    },
    {
      "cell_type": "code",
      "metadata": {
        "colab": {
          "base_uri": "https://localhost:8080/"
        },
        "id": "FBB7SFyYV41q",
        "outputId": "9cb315cd-e023-45fd-abd8-ba4961198952"
      },
      "source": [
        "print(spp.encode_as_pieces(line01))"
      ],
      "execution_count": 13,
      "outputs": [
        {
          "output_type": "stream",
          "text": [
            "['▁I', '▁didn', \"'\", 't', '▁at', '▁all', '▁think', '▁of', '▁it', '▁this', '▁way', '.']\n"
          ],
          "name": "stdout"
        }
      ]
    },
    {
      "cell_type": "code",
      "metadata": {
        "id": "ptYMwIkFV6iZ",
        "outputId": "56778c5d-0aaf-4db4-d4ba-33c1c9e85781",
        "colab": {
          "base_uri": "https://localhost:8080/"
        }
      },
      "source": [
        "print(spp.encode_as_ids(line01))"
      ],
      "execution_count": 14,
      "outputs": [
        {
          "output_type": "stream",
          "text": [
            "[41, 623, 4950, 4926, 138, 169, 378, 30, 58, 73, 413, 4945]\n"
          ],
          "name": "stdout"
        }
      ]
    },
    {
      "cell_type": "code",
      "metadata": {
        "id": "eESMkw3cV8T6"
      },
      "source": [
        ""
      ],
      "execution_count": null,
      "outputs": []
    }
  ]
}